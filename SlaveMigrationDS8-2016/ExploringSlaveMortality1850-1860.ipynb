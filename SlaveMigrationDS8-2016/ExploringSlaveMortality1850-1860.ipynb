{
 "cells": [
  {
   "cell_type": "markdown",
   "metadata": {},
   "source": [
    "# Exploring the mortality patterns of US slaves 1850-1860\n",
    "\n",
    "## Brief history of slavery in the US\n",
    "\n",
    "Between 1607 and 1865 slavery existed in the United States and in the British territory that would become the US. All British colonies in North America had slaves. At the time of the American Revolution, slavery was legal and existed in <b>all thirteen</b> colonies.  Among the signers of the Declaration of Independence a large fraction were slave holders -- including the guy who found it \"self evident\" that \"all men are created equal\"...\n",
    "\n",
    "At the time of the first census, in 1790 there were 697,624 slaves <sup id=\"a1\">[1](#f1)</sup>  \n",
    "out of a total population of 3,929,214 \n",
    "aproximagely or approximately 79%<sup id=\"a2\">[2](#f2)</sup>.\n",
    "\n",
    "But though slavery was tollerated everywhere, it was not necessarily liked. The most important social, economic and political factor that distinguished the North from the South until the Civil the War, was the degree of dependence on slavery. I would argue that the second most important factor distinguishing the regions was that the vast preponderance of immigrants chose to live in the North -- and this too is largely the result of slavery.\n",
    "\n",
    "Although slavery in the US is hardly <b>un</b>studied, one of the significant limitations in this field is the lack of sources written by slaves about slave life.  This is a fundamental problem in History: As History is written by the powerful--the lives of the powerless (i.e. <i>regular</i> people) are far more obscure. This is not a good thing. If history only chronicles the lives of the 1 percent, its use to us as a guide to making decisions is much reduced. \n",
    "\n",
    "The only person more powerless than a slave is an illiterate New World<sup id=\"a3\">[3](#f3)</sup> slave<sup id=\"a4\">[4](#f4)</sup> . \n",
    "\n",
    "It is quite exhillerating that a hundred and sixty years later, from the comfort of our laptop computers, we can discover features of the daily experience of slaves that could not have been understood even by the slaves themselves. The awesome power of datascience and demography.\n",
    " \n",
    "## In this week's exercise...\n",
    "We will develop a dataset showing the mortality pattern of slaves in the US. In the following weeks we will use that data to explore several additional characteristics of the life course of slaves including fertility and migration.  \n",
    "\n",
    "The challenge this week is to work with a data set that is not quite perfect and is not intended for the use that we are about to put it to.  We'll need to get some facility with the various datascience.Table methods especially\n",
    ".where(), .select() .apply(), and .append_column() as well as some string functions such as .replace(). With luck\n",
    "most should be familiar by now.\n",
    "\n",
    "Hopefuly as we wrestle with these data, we will also have a chance to discuss the American experience with slavery.\n",
    "\n",
    "<b id=\"f1\">1</b> https://www2.census.gov/prod2/decennial/documents/00165897ch14.pdf [↩](#a1)\n",
    "<br>\n",
    "<b id=\"f2\">2</b> Be careful of any arithmetic I do for you [↩](#a2)\n",
    "<br>\n",
    "\n",
    "<b id=\"f4\">4</b>See David Brion Davis, <i>Inhuman Bondage: The Rise and Fall of Slavery in the New World</i> for a discussion of the variety of ways that slavery was practiced in human history and the particularly pernicious quality of its New World variety.[↩](#a4)\n",
    "<br>\n",
    "<b id=\"f4\">4</b>http://www.pbs.org/wnet/slavery/experience/education/docs1.html [↩](#a4)\n",
    "\n"
   ]
  },
  {
   "cell_type": "code",
   "execution_count": 17,
   "metadata": {
    "collapsed": false
   },
   "outputs": [],
   "source": [
    "# Run this cell, but please don't change it.\n",
    "\n",
    "# These lines import the Numpy and Datascience modules.\n",
    "import numpy as np\n",
    "from datascience import *\n",
    "#from datascience.predicates import are\n",
    "# These lines do some fancy plotting magic\n",
    "import matplotlib\n",
    "%matplotlib inline\n",
    "import matplotlib.pyplot as plots\n",
    "plots.style.use('fivethirtyeight')\n",
    "from datascience.predicates import are"
   ]
  },
  {
   "cell_type": "markdown",
   "metadata": {},
   "source": [
    "## Let's begin by reading in some data \n",
    "\n",
    "These are from the Inter-university Consortium for\n",
    "Political and Social Research (ICPSR) a venerable repository of excellent data. In this case the data are just digitized versions of the census counts reported in the original printed census volumes, slightly modified by me to make them more easily digestible."
   ]
  },
  {
   "cell_type": "code",
   "execution_count": 18,
   "metadata": {
    "collapsed": false
   },
   "outputs": [],
   "source": [
    "slaves1850=Table.read_table(\"ICPSR-LabDataSlavesByAgeSex1850-long.csv\")\n",
    "slaves1860=Table.read_table(\"ICPSR-LabDataSlavesByAgeSex1860-long.csv\")"
   ]
  },
  {
   "cell_type": "code",
   "execution_count": 19,
   "metadata": {
    "collapsed": false
   },
   "outputs": [
    {
     "data": {
      "text/html": [
       "<table border=\"1\" class=\"dataframe\">\n",
       "    <thead>\n",
       "        <tr>\n",
       "            <th>DATA.TYPE</th> <th>YEAR</th> <th>ICPR.STATE.CODE</th> <th>STATE.NAME</th> <th>variable</th> <th>value</th>\n",
       "        </tr>\n",
       "    </thead>\n",
       "    <tbody>\n",
       "        <tr>\n",
       "            <td>S        </td> <td>860 </td> <td>1              </td> <td>CONNECTICUT  </td> <td>X860SLAVE.FEMALES.00.01.UNDER.1.</td> <td>nan  </td>\n",
       "        </tr>\n",
       "    </tbody>\n",
       "        <tr>\n",
       "            <td>S        </td> <td>860 </td> <td>2              </td> <td>MAINE        </td> <td>X860SLAVE.FEMALES.00.01.UNDER.1.</td> <td>nan  </td>\n",
       "        </tr>\n",
       "    </tbody>\n",
       "        <tr>\n",
       "            <td>S        </td> <td>860 </td> <td>3              </td> <td>MASSACHUSETTS</td> <td>X860SLAVE.FEMALES.00.01.UNDER.1.</td> <td>nan  </td>\n",
       "        </tr>\n",
       "    </tbody>\n",
       "        <tr>\n",
       "            <td>S        </td> <td>860 </td> <td>4              </td> <td>NEW HAMPSHIRE</td> <td>X860SLAVE.FEMALES.00.01.UNDER.1.</td> <td>nan  </td>\n",
       "        </tr>\n",
       "    </tbody>\n",
       "        <tr>\n",
       "            <td>S        </td> <td>860 </td> <td>5              </td> <td>RHODE ISLAND </td> <td>X860SLAVE.FEMALES.00.01.UNDER.1.</td> <td>nan  </td>\n",
       "        </tr>\n",
       "    </tbody>\n",
       "</table>\n",
       "<p>... (1147 rows omitted)</p"
      ],
      "text/plain": [
       "<IPython.core.display.HTML object>"
      ]
     },
     "metadata": {},
     "output_type": "display_data"
    },
    {
     "data": {
      "text/html": [
       "<table border=\"1\" class=\"dataframe\">\n",
       "    <thead>\n",
       "        <tr>\n",
       "            <th>DATA.TYPE</th> <th>YEAR</th> <th>ICPR.STATE.CODE</th> <th>STATE.NAME</th> <th>variable</th> <th>value</th>\n",
       "        </tr>\n",
       "    </thead>\n",
       "    <tbody>\n",
       "        <tr>\n",
       "            <td>S        </td> <td>860 </td> <td>41             </td> <td>ALABAMA   </td> <td>X860SLAVE.FEMALES.00.01.UNDER.1.</td> <td>6400 </td>\n",
       "        </tr>\n",
       "    </tbody>\n",
       "        <tr>\n",
       "            <td>S        </td> <td>860 </td> <td>41             </td> <td>ALABAMA   </td> <td>X860SLAVE.FEMALES.01.04         </td> <td>30495</td>\n",
       "        </tr>\n",
       "    </tbody>\n",
       "        <tr>\n",
       "            <td>S        </td> <td>860 </td> <td>41             </td> <td>ALABAMA   </td> <td>X860SLAVE.FEMALES.05.09         </td> <td>31491</td>\n",
       "        </tr>\n",
       "    </tbody>\n",
       "        <tr>\n",
       "            <td>S        </td> <td>860 </td> <td>41             </td> <td>ALABAMA   </td> <td>X860SLAVE.FEMALES.10.14         </td> <td>28968</td>\n",
       "        </tr>\n",
       "    </tbody>\n",
       "        <tr>\n",
       "            <td>S        </td> <td>860 </td> <td>41             </td> <td>ALABAMA   </td> <td>X860SLAVE.FEMALES.15.19         </td> <td>25747</td>\n",
       "        </tr>\n",
       "    </tbody>\n",
       "        <tr>\n",
       "            <td>S        </td> <td>860 </td> <td>41             </td> <td>ALABAMA   </td> <td>X860SLAVE.FEMALES.20.29         </td> <td>39180</td>\n",
       "        </tr>\n",
       "    </tbody>\n",
       "        <tr>\n",
       "            <td>S        </td> <td>860 </td> <td>41             </td> <td>ALABAMA   </td> <td>X860SLAVE.FEMALES.30.39         </td> <td>25058</td>\n",
       "        </tr>\n",
       "    </tbody>\n",
       "        <tr>\n",
       "            <td>S        </td> <td>860 </td> <td>41             </td> <td>ALABAMA   </td> <td>X860SLAVE.FEMALES.40.49         </td> <td>15510</td>\n",
       "        </tr>\n",
       "    </tbody>\n",
       "        <tr>\n",
       "            <td>S        </td> <td>860 </td> <td>41             </td> <td>ALABAMA   </td> <td>X860SLAVE.FEMALES.50.59         </td> <td>7830 </td>\n",
       "        </tr>\n",
       "    </tbody>\n",
       "        <tr>\n",
       "            <td>S        </td> <td>860 </td> <td>41             </td> <td>ALABAMA   </td> <td>X860SLAVE.FEMALES.60.69         </td> <td>4603 </td>\n",
       "        </tr>\n",
       "    </tbody>\n",
       "        <tr>\n",
       "            <td>S        </td> <td>860 </td> <td>41             </td> <td>ALABAMA   </td> <td>X860SLAVE.FEMALES.70.79         </td> <td>1345 </td>\n",
       "        </tr>\n",
       "    </tbody>\n",
       "        <tr>\n",
       "            <td>S        </td> <td>860 </td> <td>41             </td> <td>ALABAMA   </td> <td>X860SLAVE.FEMALES.80.89         </td> <td>476  </td>\n",
       "        </tr>\n",
       "    </tbody>\n",
       "        <tr>\n",
       "            <td>S        </td> <td>860 </td> <td>41             </td> <td>ALABAMA   </td> <td>X860SLAVE.FEMALES.90.99         </td> <td>131  </td>\n",
       "        </tr>\n",
       "    </tbody>\n",
       "        <tr>\n",
       "            <td>S        </td> <td>860 </td> <td>41             </td> <td>ALABAMA   </td> <td>X860SLAVE.FEMALES.99.AND.OVER   </td> <td>74   </td>\n",
       "        </tr>\n",
       "    </tbody>\n",
       "        <tr>\n",
       "            <td>S        </td> <td>860 </td> <td>41             </td> <td>ALABAMA   </td> <td>X860SLAVE.FEMALES.AGE.UNKW      </td> <td>6    </td>\n",
       "        </tr>\n",
       "    </tbody>\n",
       "        <tr>\n",
       "            <td>S        </td> <td>860 </td> <td>41             </td> <td>ALABAMA   </td> <td>X860SLAVE.MALES.00.01.UNDER.1.  </td> <td>6114 </td>\n",
       "        </tr>\n",
       "    </tbody>\n",
       "</table>\n",
       "<p>... (1136 rows omitted)</p"
      ],
      "text/plain": [
       "<IPython.core.display.HTML object>"
      ]
     },
     "metadata": {},
     "output_type": "display_data"
    }
   ],
   "source": [
    "slaves1860.show(5)\n",
    "slaves1860.sort('STATE.NAME').show(16)\n"
   ]
  },
  {
   "cell_type": "code",
   "execution_count": null,
   "metadata": {
    "collapsed": false
   },
   "outputs": [],
   "source": [
    "\n",
    "    \n"
   ]
  },
  {
   "cell_type": "markdown",
   "metadata": {},
   "source": [
    "## Quick and dirty first peak at the population of slaves in the US 185-60\n",
    "\n",
    "Before delving into the nitty and gritty,  let's take a quick look at the age structures of the\n",
    "slave populations in each state in 1850 and 1860. Demographers are particularly fond of population pyramids so lets draw some of those"
   ]
  },
  {
   "cell_type": "code",
   "execution_count": 20,
   "metadata": {
    "collapsed": false
   },
   "outputs": [
    {
     "name": "stdout",
     "output_type": "stream",
     "text": [
      "MICHIGAN 1850\n",
      "MICHIGAN 1860\n",
      "CALIFORNIA 1850\n",
      "CALIFORNIA 1860\n",
      "MARYLAND 1850\n"
     ]
    },
    {
     "data": {
      "image/png": "[encoded data removed]",
      "text/plain": [
       "<matplotlib.figure.Figure at 0x7f84c95a2710>"
      ]
     },
     "metadata": {},
     "output_type": "display_data"
    },
    {
     "name": "stdout",
     "output_type": "stream",
     "text": [
      "MARYLAND 1860\n"
     ]
    },
    {
     "data": {
      "image/png": "[encoded data removed]",
      "text/plain": [
       "<matplotlib.figure.Figure at 0x7f84c97e32b0>"
      ]
     },
     "metadata": {},
     "output_type": "display_data"
    },
    {
     "name": "stdout",
     "output_type": "stream",
     "text": [
      "PENNSYLVANIA 1850\n",
      "PENNSYLVANIA 1860\n",
      "DELAWARE 1850\n"
     ]
    },
    {
     "data": {
      "image/png": "[encoded data removed]",
      "text/plain": [
       "<matplotlib.figure.Figure at 0x7f84c95b4f98>"
      ]
     },
     "metadata": {},
     "output_type": "display_data"
    },
    {
     "name": "stdout",
     "output_type": "stream",
     "text": [
      "DELAWARE 1860\n"
     ]
    },
    {
     "data": {
      "image/png": "[encoded data removed]",
      "text/plain": [
       "<matplotlib.figure.Figure at 0x7f84c9843fd0>"
      ]
     },
     "metadata": {},
     "output_type": "display_data"
    },
    {
     "name": "stdout",
     "output_type": "stream",
     "text": [
      "VIRGINIA 1850\n"
     ]
    },
    {
     "data": {
      "image/png": "[encoded data removed]",
      "text/plain": [
       "<matplotlib.figure.Figure at 0x7f84c96bce80>"
      ]
     },
     "metadata": {},
     "output_type": "display_data"
    },
    {
     "name": "stdout",
     "output_type": "stream",
     "text": [
      "VIRGINIA 1860\n"
     ]
    },
    {
     "data": {
      "image/png": "[encoded data removed]",
      "text/plain": [
       "<matplotlib.figure.Figure at 0x7f84c9a03208>"
      ]
     },
     "metadata": {},
     "output_type": "display_data"
    },
    {
     "name": "stdout",
     "output_type": "stream",
     "text": [
      "CONNECTICUT 1850\n",
      "CONNECTICUT 1860\n",
      "ALABAMA 1850\n"
     ]
    },
    {
     "data": {
      "image/png": "[encoded data removed]",
      "text/plain": [
       "<matplotlib.figure.Figure at 0x7f84c964b9b0>"
      ]
     },
     "metadata": {},
     "output_type": "display_data"
    },
    {
     "name": "stdout",
     "output_type": "stream",
     "text": [
      "ALABAMA 1860\n"
     ]
    },
    {
     "data": {
      "image/png": "[encoded data removed]",
      "text/plain": [
       "<matplotlib.figure.Figure at 0x7f84c9833390>"
      ]
     },
     "metadata": {},
     "output_type": "display_data"
    },
    {
     "name": "stdout",
     "output_type": "stream",
     "text": [
      "LOUISIANA 1850\n"
     ]
    },
    {
     "data": {
      "image/png": "[encoded data removed]",
      "text/plain": [
       "<matplotlib.figure.Figure at 0x7f84c994e748>"
      ]
     },
     "metadata": {},
     "output_type": "display_data"
    },
    {
     "name": "stdout",
     "output_type": "stream",
     "text": [
      "LOUISIANA 1860\n"
     ]
    },
    {
     "data": {
      "image/png": "[encoded data removed]",
      "text/plain": [
       "<matplotlib.figure.Figure at 0x7f84c983f278>"
      ]
     },
     "metadata": {},
     "output_type": "display_data"
    },
    {
     "name": "stdout",
     "output_type": "stream",
     "text": [
      "KENTUCKY 1850\n"
     ]
    },
    {
     "data": {
      "image/png": "[encoded data removed]",
      "text/plain": [
       "<matplotlib.figure.Figure at 0x7f84c95f55f8>"
      ]
     },
     "metadata": {},
     "output_type": "display_data"
    },
    {
     "name": "stdout",
     "output_type": "stream",
     "text": [
      "KENTUCKY 1860\n"
     ]
    },
    {
     "data": {
      "image/png": "[encoded data removed]",
      "text/plain": [
       "<matplotlib.figure.Figure at 0x7f84c98f1828>"
      ]
     },
     "metadata": {},
     "output_type": "display_data"
    },
    {
     "name": "stdout",
     "output_type": "stream",
     "text": [
      "NEW YORK 1850\n",
      "NEW YORK 1860\n",
      "WISCONSIN 1850\n",
      "WISCONSIN 1860\n",
      "FLORIDA 1850\n"
     ]
    },
    {
     "data": {
      "image/png": "[encoded data removed]",
      "text/plain": [
       "<matplotlib.figure.Figure at 0x7f84c95e3d68>"
      ]
     },
     "metadata": {},
     "output_type": "display_data"
    },
    {
     "name": "stdout",
     "output_type": "stream",
     "text": [
      "FLORIDA 1860\n"
     ]
    },
    {
     "data": {
      "image/png": "[encoded data removed]",
      "text/plain": [
       "<matplotlib.figure.Figure at 0x7f84c94bf2b0>"
      ]
     },
     "metadata": {},
     "output_type": "display_data"
    },
    {
     "name": "stdout",
     "output_type": "stream",
     "text": [
      "OHIO 1850\n",
      "OHIO 1860\n",
      "VERMONT 1850\n",
      "VERMONT 1860\n",
      "MISSOURI 1850\n"
     ]
    },
    {
     "data": {
      "image/png": "[encoded data removed]",
      "text/plain": [
       "<matplotlib.figure.Figure at 0x7f84c95f7630>"
      ]
     },
     "metadata": {},
     "output_type": "display_data"
    },
    {
     "name": "stdout",
     "output_type": "stream",
     "text": [
      "MISSOURI 1860\n"
     ]
    },
    {
     "data": {
      "image/png": "[encoded data removed]",
      "text/plain": [
       "<matplotlib.figure.Figure at 0x7f84c9a74320>"
      ]
     },
     "metadata": {},
     "output_type": "display_data"
    },
    {
     "name": "stdout",
     "output_type": "stream",
     "text": [
      "NORTH CAROLINA 1850\n"
     ]
    },
    {
     "data": {
      "image/png": "[encoded data removed]",
      "text/plain": [
       "<matplotlib.figure.Figure at 0x7f84c96d9a20>"
      ]
     },
     "metadata": {},
     "output_type": "display_data"
    },
    {
     "name": "stdout",
     "output_type": "stream",
     "text": [
      "NORTH CAROLINA 1860\n"
     ]
    },
    {
     "data": {
      "image/png": "[encoded data removed]",
      "text/plain": [
       "<matplotlib.figure.Figure at 0x7f84c956cbe0>"
      ]
     },
     "metadata": {},
     "output_type": "display_data"
    },
    {
     "name": "stdout",
     "output_type": "stream",
     "text": [
      "NEW HAMPSHIRE 1850\n",
      "NEW HAMPSHIRE 1860\n",
      "SOUTH CAROLINA 1850\n"
     ]
    },
    {
     "data": {
      "image/png": "[encoded data removed]",
      "text/plain": [
       "<matplotlib.figure.Figure at 0x7f84c97e3240>"
      ]
     },
     "metadata": {},
     "output_type": "display_data"
    },
    {
     "name": "stdout",
     "output_type": "stream",
     "text": [
      "SOUTH CAROLINA 1860\n"
     ]
    },
    {
     "data": {
      "image/png": "[encoded data removed]",
      "text/plain": [
       "<matplotlib.figure.Figure at 0x7f84c95dd2b0>"
      ]
     },
     "metadata": {},
     "output_type": "display_data"
    },
    {
     "name": "stdout",
     "output_type": "stream",
     "text": [
      "ARKANSAS 1850\n"
     ]
    },
    {
     "data": {
      "image/png": "[encoded data removed]",
      "text/plain": [
       "<matplotlib.figure.Figure at 0x7f84c97ed8d0>"
      ]
     },
     "metadata": {},
     "output_type": "display_data"
    },
    {
     "name": "stdout",
     "output_type": "stream",
     "text": [
      "ARKANSAS 1860\n"
     ]
    },
    {
     "data": {
      "image/png": "[encoded data removed]",
      "text/plain": [
       "<matplotlib.figure.Figure at 0x7f84c95cad30>"
      ]
     },
     "metadata": {},
     "output_type": "display_data"
    },
    {
     "name": "stdout",
     "output_type": "stream",
     "text": [
      "NEW JERSEY 1850\n"
     ]
    },
    {
     "data": {
      "image/png": "[encoded data removed]",
      "text/plain": [
       "<matplotlib.figure.Figure at 0x7f84c96eeef0>"
      ]
     },
     "metadata": {},
     "output_type": "display_data"
    },
    {
     "name": "stdout",
     "output_type": "stream",
     "text": [
      "NEW JERSEY 1860\n"
     ]
    },
    {
     "data": {
      "image/png": "[encoded data removed]",
      "text/plain": [
       "<matplotlib.figure.Figure at 0x7f84c955eda0>"
      ]
     },
     "metadata": {},
     "output_type": "display_data"
    },
    {
     "name": "stdout",
     "output_type": "stream",
     "text": [
      "INDIANA 1850\n",
      "INDIANA 1860\n",
      "IOWA 1850\n",
      "IOWA 1860\n",
      "GEORGIA 1850\n"
     ]
    },
    {
     "data": {
      "image/png": "[encoded data removed]",
      "text/plain": [
       "<matplotlib.figure.Figure at 0x7f84c96f1d30>"
      ]
     },
     "metadata": {},
     "output_type": "display_data"
    },
    {
     "name": "stdout",
     "output_type": "stream",
     "text": [
      "GEORGIA 1860\n"
     ]
    },
    {
     "data": {
      "image/png": "[encoded data removed]",
      "text/plain": [
       "<matplotlib.figure.Figure at 0x7f84c98075f8>"
      ]
     },
     "metadata": {},
     "output_type": "display_data"
    },
    {
     "name": "stdout",
     "output_type": "stream",
     "text": [
      "RHODE ISLAND 1850\n",
      "RHODE ISLAND 1860\n",
      "ILLINOIS 1850\n",
      "ILLINOIS 1860\n",
      "MAINE 1850\n",
      "MAINE 1860\n",
      "MINNESOTA 1850\n",
      "MINNESOTA 1860\n",
      "MASSACHUSETTS 1850\n",
      "MASSACHUSETTS 1860\n",
      "MISSISSIPPI 1850\n"
     ]
    },
    {
     "data": {
      "image/png": "[encoded data removed]",
      "text/plain": [
       "<matplotlib.figure.Figure at 0x7f84c9720b38>"
      ]
     },
     "metadata": {},
     "output_type": "display_data"
    },
    {
     "name": "stdout",
     "output_type": "stream",
     "text": [
      "MISSISSIPPI 1860\n"
     ]
    },
    {
     "data": {
      "image/png": "[encoded data removed]",
      "text/plain": [
       "<matplotlib.figure.Figure at 0x7f84c951ce10>"
      ]
     },
     "metadata": {},
     "output_type": "display_data"
    },
    {
     "name": "stdout",
     "output_type": "stream",
     "text": [
      "TEXAS 1850\n"
     ]
    },
    {
     "data": {
      "image/png": "[encoded data removed]",
      "text/plain": [
       "<matplotlib.figure.Figure at 0x7f84c98479e8>"
      ]
     },
     "metadata": {},
     "output_type": "display_data"
    },
    {
     "name": "stdout",
     "output_type": "stream",
     "text": [
      "TEXAS 1860\n"
     ]
    },
    {
     "data": {
      "image/png": "[encoded data removed]",
      "text/plain": [
       "<matplotlib.figure.Figure at 0x7f84c9a42ef0>"
      ]
     },
     "metadata": {},
     "output_type": "display_data"
    },
    {
     "name": "stdout",
     "output_type": "stream",
     "text": [
      "TENNESSEE 1850\n"
     ]
    },
    {
     "data": {
      "image/png": "[encoded data removed]",
      "text/plain": [
       "<matplotlib.figure.Figure at 0x7f84c95bb5f8>"
      ]
     },
     "metadata": {},
     "output_type": "display_data"
    },
    {
     "name": "stdout",
     "output_type": "stream",
     "text": [
      "TENNESSEE 1860\n"
     ]
    },
    {
     "data": {
      "image/png": "[encoded data removed]",
      "text/plain": [
       "<matplotlib.figure.Figure at 0x7f84c9e37ba8>"
      ]
     },
     "metadata": {},
     "output_type": "display_data"
    }
   ],
   "source": [
    "# Population Pyramids\n",
    "# Sort the data so that we can grab each state and easily separate\n",
    "# male and female ordered by age. Note that sorting by the variable named 'variable'\n",
    "# fortuitously sorts by age within a single state.\n",
    "def popPyr(popM,popF) :\n",
    "    ## draw a simple population pyramid showing pop in THOUSANDS\n",
    "    ## Don't sweat the details on this function just know that it expects two\n",
    "    ## arrays (not tables) of populations sorted by age category and draws therefrom\n",
    "    ## a population pyramid\n",
    "    y=np.arange(14)\n",
    "    fig, axes = plots.subplots(ncols=2, sharey=True)\n",
    "    plots.locator_params(axis='both',nbins=4)\n",
    "    axes[0].barh(y,popM/1000,align='center',color='blue')\n",
    "    axes[1].barh(y,popF/1000,align='center',color='gold')\n",
    "    axes[0].invert_xaxis()\n",
    "    plots.locator_params(axis='both',nbins=4)\n",
    "    plots.show()\n",
    "    \n",
    "\n",
    "sorted85=slaves1850.sort('variable').sort('STATE.NAME')\n",
    "sorted86=slaves1860.sort('variable').sort('STATE.NAME')\n",
    "stateNames=set(sorted85['STATE.NAME'])\n",
    "for st in stateNames :\n",
    "    ## use st with where() to select each state one at a time and plot it\n",
    "    st85=sorted85.where('STATE.NAME',st)\n",
    "    st86=sorted86.where('STATE.NAME',st)\n",
    "    ## this is fragile but we're relying on the repeating structure of the data\n",
    "    ## the first 13 rows are female; skip the 14 then then next 13 rows are males\n",
    "    popF85=st85.column('value')[0:14]\n",
    "    popF86=st86.column('value')[0:14]\n",
    "    popM85=st85.column('value')[15:29]\n",
    "    popM86=st86.column('value')[15:29]\n",
    "    \n",
    " \n",
    "    ## First plot 1850 pop pyramid ... then the 1860 pyramid of same state\n",
    "    print(st+\" 1850\")\n",
    "    ## Only attempt to plot if there is no missing data\n",
    "    if np.isfinite(sum(popM85)) :\n",
    "        popPyr(popM85,popF85)\n",
    "    print(st+\" 1860\")\n",
    "    if np.isfinite(sum(popM86)) :\n",
    "        popPyr(popM86,popF86)\n",
    "    \n"
   ]
  },
  {
   "cell_type": "markdown",
   "metadata": {},
   "source": [
    "## Let's take a closer look a how this data set works\n",
    "\n",
    "We a cut a few corners in constructing those population pyramids.  In order to use these data in more\n",
    "sophisticated ways, we are going to have to do some sanity checking and some cleaning up. \n",
    " \n",
    "Step 0  is to relabel the variable called 'variable' and the variable called 'value'  \n"
   ]
  },
  {
   "cell_type": "code",
   "execution_count": 21,
   "metadata": {
    "collapsed": false,
    "scrolled": true
   },
   "outputs": [
    {
     "data": {
      "text/html": [
       "<table border=\"1\" class=\"dataframe\">\n",
       "    <thead>\n",
       "        <tr>\n",
       "            <th>DATA.TYPE</th> <th>YEAR</th> <th>ICPR.STATE.CODE</th> <th>STATE.NAME</th> <th>agesex</th> <th>N</th>\n",
       "        </tr>\n",
       "    </thead>\n",
       "    <tbody>\n",
       "        <tr>\n",
       "            <td>S        </td> <td>860 </td> <td>1              </td> <td>CONNECTICUT  </td> <td>X860SLAVE.FEMALES.00.01.UNDER.1.</td> <td>nan </td>\n",
       "        </tr>\n",
       "    </tbody>\n",
       "        <tr>\n",
       "            <td>S        </td> <td>860 </td> <td>2              </td> <td>MAINE        </td> <td>X860SLAVE.FEMALES.00.01.UNDER.1.</td> <td>nan </td>\n",
       "        </tr>\n",
       "    </tbody>\n",
       "        <tr>\n",
       "            <td>S        </td> <td>860 </td> <td>3              </td> <td>MASSACHUSETTS</td> <td>X860SLAVE.FEMALES.00.01.UNDER.1.</td> <td>nan </td>\n",
       "        </tr>\n",
       "    </tbody>\n",
       "        <tr>\n",
       "            <td>S        </td> <td>860 </td> <td>4              </td> <td>NEW HAMPSHIRE</td> <td>X860SLAVE.FEMALES.00.01.UNDER.1.</td> <td>nan </td>\n",
       "        </tr>\n",
       "    </tbody>\n",
       "        <tr>\n",
       "            <td>S        </td> <td>860 </td> <td>5              </td> <td>RHODE ISLAND </td> <td>X860SLAVE.FEMALES.00.01.UNDER.1.</td> <td>nan </td>\n",
       "        </tr>\n",
       "    </tbody>\n",
       "        <tr>\n",
       "            <td>S        </td> <td>860 </td> <td>6              </td> <td>VERMONT      </td> <td>X860SLAVE.FEMALES.00.01.UNDER.1.</td> <td>nan </td>\n",
       "        </tr>\n",
       "    </tbody>\n",
       "        <tr>\n",
       "            <td>S        </td> <td>860 </td> <td>11             </td> <td>DELAWARE     </td> <td>X860SLAVE.FEMALES.00.01.UNDER.1.</td> <td>28  </td>\n",
       "        </tr>\n",
       "    </tbody>\n",
       "        <tr>\n",
       "            <td>S        </td> <td>860 </td> <td>12             </td> <td>NEW JERSEY   </td> <td>X860SLAVE.FEMALES.00.01.UNDER.1.</td> <td>0   </td>\n",
       "        </tr>\n",
       "    </tbody>\n",
       "        <tr>\n",
       "            <td>S        </td> <td>860 </td> <td>13             </td> <td>NEW YORK     </td> <td>X860SLAVE.FEMALES.00.01.UNDER.1.</td> <td>nan </td>\n",
       "        </tr>\n",
       "    </tbody>\n",
       "        <tr>\n",
       "            <td>S        </td> <td>860 </td> <td>14             </td> <td>PENNSYLVANIA </td> <td>X860SLAVE.FEMALES.00.01.UNDER.1.</td> <td>nan </td>\n",
       "        </tr>\n",
       "    </tbody>\n",
       "</table>\n",
       "<p>... (1142 rows omitted)</p"
      ],
      "text/plain": [
       "DATA.TYPE | YEAR | ICPR.STATE.CODE | STATE.NAME    | agesex                           | N\n",
       "S         | 860  | 1               | CONNECTICUT   | X860SLAVE.FEMALES.00.01.UNDER.1. | nan\n",
       "S         | 860  | 2               | MAINE         | X860SLAVE.FEMALES.00.01.UNDER.1. | nan\n",
       "S         | 860  | 3               | MASSACHUSETTS | X860SLAVE.FEMALES.00.01.UNDER.1. | nan\n",
       "S         | 860  | 4               | NEW HAMPSHIRE | X860SLAVE.FEMALES.00.01.UNDER.1. | nan\n",
       "S         | 860  | 5               | RHODE ISLAND  | X860SLAVE.FEMALES.00.01.UNDER.1. | nan\n",
       "S         | 860  | 6               | VERMONT       | X860SLAVE.FEMALES.00.01.UNDER.1. | nan\n",
       "S         | 860  | 11              | DELAWARE      | X860SLAVE.FEMALES.00.01.UNDER.1. | 28\n",
       "S         | 860  | 12              | NEW JERSEY    | X860SLAVE.FEMALES.00.01.UNDER.1. | 0\n",
       "S         | 860  | 13              | NEW YORK      | X860SLAVE.FEMALES.00.01.UNDER.1. | nan\n",
       "S         | 860  | 14              | PENNSYLVANIA  | X860SLAVE.FEMALES.00.01.UNDER.1. | nan\n",
       "... (1142 rows omitted)"
      ]
     },
     "execution_count": 21,
     "metadata": {},
     "output_type": "execute_result"
    }
   ],
   "source": [
    "# 'variable' and 'value' are not informative variable names. We can do better\n",
    "slaves1850.relabel('variable','agesex')\n",
    "slaves1850.relabel('value','N')\n",
    "slaves1860.relabel('variable','agesex')\n",
    "slaves1860.relabel('value','N')"
   ]
  },
  {
   "cell_type": "markdown",
   "metadata": {},
   "source": [
    "### What's up with 'nan' ?  \n",
    "\n",
    "Why do you think New York's \"X860SLAVE.FEMALES.00.01.UNDER.1.\" are reported as 'nan'  while those of New Jersey\n",
    "are reported as 0 ?\n",
    "\n",
    "Yes google knows the answer, but thinking before googling is good for your soul."
   ]
  },
  {
   "cell_type": "code",
   "execution_count": 22,
   "metadata": {
    "collapsed": true
   },
   "outputs": [],
   "source": [
    "\n",
    "## Let's lose the virtuous -- but non interesting states that have no saves\n",
    "\n",
    "slaves1850=slaves1850.where(slaves1850['N'] >=0)\n",
    "slaves1860=slaves1860.where(slaves1860['N'] >=0)\n",
    "\n"
   ]
  },
  {
   "cell_type": "markdown",
   "metadata": {},
   "source": [
    "### Sanity check:  Do the data have the same structure for each state and do the 1850 and 1860 data have the same formats?\n"
   ]
  },
  {
   "cell_type": "code",
   "execution_count": 23,
   "metadata": {
    "collapsed": false
   },
   "outputs": [
    {
     "data": {
      "text/html": [
       "<table border=\"1\" class=\"dataframe\">\n",
       "    <thead>\n",
       "        <tr>\n",
       "            <th>STATE.NAME</th> <th>N len</th>\n",
       "        </tr>\n",
       "    </thead>\n",
       "    <tbody>\n",
       "        <tr>\n",
       "            <td>ALABAMA       </td> <td>32   </td>\n",
       "        </tr>\n",
       "    </tbody>\n",
       "        <tr>\n",
       "            <td>ARKANSAS      </td> <td>32   </td>\n",
       "        </tr>\n",
       "    </tbody>\n",
       "        <tr>\n",
       "            <td>DELAWARE      </td> <td>32   </td>\n",
       "        </tr>\n",
       "    </tbody>\n",
       "        <tr>\n",
       "            <td>FLORIDA       </td> <td>32   </td>\n",
       "        </tr>\n",
       "    </tbody>\n",
       "        <tr>\n",
       "            <td>GEORGIA       </td> <td>32   </td>\n",
       "        </tr>\n",
       "    </tbody>\n",
       "        <tr>\n",
       "            <td>KENTUCKY      </td> <td>32   </td>\n",
       "        </tr>\n",
       "    </tbody>\n",
       "        <tr>\n",
       "            <td>LOUISIANA     </td> <td>32   </td>\n",
       "        </tr>\n",
       "    </tbody>\n",
       "        <tr>\n",
       "            <td>MARYLAND      </td> <td>32   </td>\n",
       "        </tr>\n",
       "    </tbody>\n",
       "        <tr>\n",
       "            <td>MISSISSIPPI   </td> <td>32   </td>\n",
       "        </tr>\n",
       "    </tbody>\n",
       "        <tr>\n",
       "            <td>MISSOURI      </td> <td>32   </td>\n",
       "        </tr>\n",
       "    </tbody>\n",
       "        <tr>\n",
       "            <td>NEW JERSEY    </td> <td>32   </td>\n",
       "        </tr>\n",
       "    </tbody>\n",
       "        <tr>\n",
       "            <td>NORTH CAROLINA</td> <td>32   </td>\n",
       "        </tr>\n",
       "    </tbody>\n",
       "        <tr>\n",
       "            <td>SOUTH CAROLINA</td> <td>32   </td>\n",
       "        </tr>\n",
       "    </tbody>\n",
       "        <tr>\n",
       "            <td>TENNESSEE     </td> <td>32   </td>\n",
       "        </tr>\n",
       "    </tbody>\n",
       "        <tr>\n",
       "            <td>TEXAS         </td> <td>32   </td>\n",
       "        </tr>\n",
       "    </tbody>\n",
       "        <tr>\n",
       "            <td>VIRGINIA      </td> <td>32   </td>\n",
       "        </tr>\n",
       "    </tbody>\n",
       "</table>"
      ],
      "text/plain": [
       "<IPython.core.display.HTML object>"
      ]
     },
     "metadata": {},
     "output_type": "display_data"
    },
    {
     "data": {
      "text/html": [
       "<table border=\"1\" class=\"dataframe\">\n",
       "    <thead>\n",
       "        <tr>\n",
       "            <th>STATE.NAME</th> <th>N len</th>\n",
       "        </tr>\n",
       "    </thead>\n",
       "    <tbody>\n",
       "        <tr>\n",
       "            <td>ALABAMA       </td> <td>32   </td>\n",
       "        </tr>\n",
       "    </tbody>\n",
       "        <tr>\n",
       "            <td>ARKANSAS      </td> <td>32   </td>\n",
       "        </tr>\n",
       "    </tbody>\n",
       "        <tr>\n",
       "            <td>DELAWARE      </td> <td>32   </td>\n",
       "        </tr>\n",
       "    </tbody>\n",
       "        <tr>\n",
       "            <td>FLORIDA       </td> <td>32   </td>\n",
       "        </tr>\n",
       "    </tbody>\n",
       "        <tr>\n",
       "            <td>GEORGIA       </td> <td>32   </td>\n",
       "        </tr>\n",
       "    </tbody>\n",
       "        <tr>\n",
       "            <td>KANSAS        </td> <td>32   </td>\n",
       "        </tr>\n",
       "    </tbody>\n",
       "        <tr>\n",
       "            <td>KENTUCKY      </td> <td>32   </td>\n",
       "        </tr>\n",
       "    </tbody>\n",
       "        <tr>\n",
       "            <td>LOUISIANA     </td> <td>32   </td>\n",
       "        </tr>\n",
       "    </tbody>\n",
       "        <tr>\n",
       "            <td>MARYLAND      </td> <td>32   </td>\n",
       "        </tr>\n",
       "    </tbody>\n",
       "        <tr>\n",
       "            <td>MISSISSIPPI   </td> <td>32   </td>\n",
       "        </tr>\n",
       "    </tbody>\n",
       "        <tr>\n",
       "            <td>MISSOURI      </td> <td>32   </td>\n",
       "        </tr>\n",
       "    </tbody>\n",
       "        <tr>\n",
       "            <td>NEBRASKA      </td> <td>32   </td>\n",
       "        </tr>\n",
       "    </tbody>\n",
       "        <tr>\n",
       "            <td>NEW JERSEY    </td> <td>32   </td>\n",
       "        </tr>\n",
       "    </tbody>\n",
       "        <tr>\n",
       "            <td>NORTH CAROLINA</td> <td>32   </td>\n",
       "        </tr>\n",
       "    </tbody>\n",
       "        <tr>\n",
       "            <td>SOUTH CAROLINA</td> <td>32   </td>\n",
       "        </tr>\n",
       "    </tbody>\n",
       "        <tr>\n",
       "            <td>TENNESSEE     </td> <td>32   </td>\n",
       "        </tr>\n",
       "    </tbody>\n",
       "        <tr>\n",
       "            <td>TEXAS         </td> <td>32   </td>\n",
       "        </tr>\n",
       "    </tbody>\n",
       "        <tr>\n",
       "            <td>VIRGINIA      </td> <td>32   </td>\n",
       "        </tr>\n",
       "    </tbody>\n",
       "</table>"
      ],
      "text/plain": [
       "<IPython.core.display.HTML object>"
      ]
     },
     "metadata": {},
     "output_type": "display_data"
    },
    {
     "name": "stdout",
     "output_type": "stream",
     "text": [
      "Hmmmm the 1850 table has  16 rows\n",
      "\n",
      "And the 1860 table has 18 rows\n",
      "\n",
      "WHAT COULD THIS MEAN?\n"
     ]
    }
   ],
   "source": [
    "# As a sanity check,  let's verify:\n",
    "## that each state in our dataset has a non-nan entry for each age group -- ie let's verify\n",
    "## that the set of recrods for each state.name is the same size\n",
    "\n",
    "\n",
    "s50test=slaves1850.select(['STATE.NAME','N']).where(slaves1850['N'] >=0).group('STATE.NAME', collect= len)\n",
    "s60test=slaves1860.select(['STATE.NAME','N']).where(slaves1860['N'] >=0).group('STATE.NAME', collect= len)\n",
    "\n",
    "s50test.sort('STATE.NAME').show()\n",
    "s60test.sort('STATE.NAME').show()\n",
    "\n",
    "## Should s60test ans s50test have the same number of rows?\n",
    "## what are the implications of different number of rows?\n",
    "\n",
    "print(\"Hmmmm the 1850 table has \",s50test.num_rows, \"rows\")\n",
    "print()\n",
    "print(\"And the 1860 table has\", s60test.num_rows, \"rows\")\n",
    "print()\n",
    "print(\"WHAT COULD THIS MEAN?\")\n"
   ]
  },
  {
   "cell_type": "markdown",
   "metadata": {},
   "source": [
    "## What ? more slave states in 1860 than in 1850 ? \n",
    "That's kind of surprising isn't it?  Let's compare the set of slave states in 1850 with that of 1860\n",
    "It turns out that python has a pretty convienient tool for doing this"
   ]
  },
  {
   "cell_type": "code",
   "execution_count": 24,
   "metadata": {
    "collapsed": false
   },
   "outputs": [
    {
     "name": "stdout",
     "output_type": "stream",
     "text": [
      "Here are the states that have slaves in 1850 AND a860\n",
      "{'MISSOURI', 'NORTH CAROLINA', 'ALABAMA', 'SOUTH CAROLINA', 'ARKANSAS', 'NEW JERSEY', 'LOUISIANA', 'KENTUCKY', 'DELAWARE', 'GEORGIA', 'FLORIDA', 'MARYLAND', 'MISSISSIPPI', 'TEXAS', 'VIRGINIA', 'TENNESSEE'}\n",
      "\n",
      "Here are the states that have slaves in 1850 but NOT in 1860\n",
      "set()\n",
      "Here are the states that have slaves in 1860 BUT did NOT in 1850\n",
      "{'NEBRASKA', 'KANSAS'}\n"
     ]
    }
   ],
   "source": [
    "## In python a 'set' contain objects whose memebership status can be compared with other sets\n",
    "##  setA & setB  gives the intersection of setA and setB\n",
    "## setA - setB gives the disjunction (the stuff in setA that is not in setB)\n",
    "## Note that set is a python concept NOT a datascience.Table thing.\n",
    "\n",
    "ss50=set(s50test.column('STATE.NAME'))\n",
    "ss60=set(s60test.column('STATE.NAME'))\n",
    "\n",
    "print(\"Here are the states that have slaves in 1850 AND a860\")\n",
    "print(ss50 & ss60)\n",
    "print()\n",
    "print(\"Here are the states that have slaves in 1850 but NOT in 1860\")\n",
    "print(ss50 - ss60)\n",
    "print(\"Here are the states that have slaves in 1860 BUT did NOT in 1850\")\n",
    "print(ss60 - ss50)\n"
   ]
  },
  {
   "cell_type": "markdown",
   "metadata": {},
   "source": [
    "###  This would be a good time to Google The Missouri Compromise; The Compromise of 1850; The Kansas-Nebraska Act; and The Dred Scott Decision."
   ]
  },
  {
   "cell_type": "markdown",
   "metadata": {},
   "source": [
    "Now let's clean up the original data tables (slaves1850 and slaves1860) so that we can estimate slave mortality/survival rates... and eventually a bunch of other stuff.\n",
    "\n",
    "The steps we'll take to accomplish this are:\n",
    "<ol>\n",
    "<li> Clean up the agesex variable. Annoyingly, they are not coded consistently in 1850 and 1860\n",
    "<li> Create columns of numbers that reflect the age categories embedded in the agesex variable\n",
    "</ol>\n",
    "For this we will need to use some string functions:\n",
    "<ul>\n",
    "<li> x.split('.') -- which converts a sring, x, into a list by splitting at each instance of '.'\n",
    "<li> x.find('boo') -- which reports the index of the 'b' within the string x.\n",
    "<li> 'y' in L  -- which reports whether or not the  'y' is an element of list L\n",
    "</ul>"
   ]
  },
  {
   "cell_type": "code",
   "execution_count": 25,
   "metadata": {
    "collapsed": false
   },
   "outputs": [
    {
     "data": {
      "text/html": [
       "<table border=\"1\" class=\"dataframe\">\n",
       "    <thead>\n",
       "        <tr>\n",
       "            <th>agesex</th>\n",
       "        </tr>\n",
       "    </thead>\n",
       "    <tbody>\n",
       "        <tr>\n",
       "            <td>X850SLAVE.FEMALES.00.01.UNDER.01.</td>\n",
       "        </tr>\n",
       "    </tbody>\n",
       "        <tr>\n",
       "            <td>X850SLAVE.FEMALES.01.04          </td>\n",
       "        </tr>\n",
       "    </tbody>\n",
       "        <tr>\n",
       "            <td>X850SLAVE.FEMALES.05.09          </td>\n",
       "        </tr>\n",
       "    </tbody>\n",
       "        <tr>\n",
       "            <td>X850SLAVE.FEMALES.10.14          </td>\n",
       "        </tr>\n",
       "    </tbody>\n",
       "        <tr>\n",
       "            <td>X850SLAVE.FEMALES.15.19          </td>\n",
       "        </tr>\n",
       "    </tbody>\n",
       "        <tr>\n",
       "            <td>X850SLAVE.FEMALES.20.29          </td>\n",
       "        </tr>\n",
       "    </tbody>\n",
       "        <tr>\n",
       "            <td>X850SLAVE.FEMALES.30.39          </td>\n",
       "        </tr>\n",
       "    </tbody>\n",
       "        <tr>\n",
       "            <td>X850SLAVE.FEMALES.40.49          </td>\n",
       "        </tr>\n",
       "    </tbody>\n",
       "        <tr>\n",
       "            <td>X850SLAVE.FEMALES.50.59          </td>\n",
       "        </tr>\n",
       "    </tbody>\n",
       "        <tr>\n",
       "            <td>X850SLAVE.FEMALES.60.69          </td>\n",
       "        </tr>\n",
       "    </tbody>\n",
       "        <tr>\n",
       "            <td>X850SLAVE.FEMALES.70.79          </td>\n",
       "        </tr>\n",
       "    </tbody>\n",
       "        <tr>\n",
       "            <td>X850SLAVE.FEMALES.80.89          </td>\n",
       "        </tr>\n",
       "    </tbody>\n",
       "        <tr>\n",
       "            <td>X850SLAVE.FEMALES.90.99          </td>\n",
       "        </tr>\n",
       "    </tbody>\n",
       "        <tr>\n",
       "            <td>X850SLAVE.FEMALES.99.AND.OVER    </td>\n",
       "        </tr>\n",
       "    </tbody>\n",
       "        <tr>\n",
       "            <td>X850SLAVE.FEMALES.AGE.UKWN       </td>\n",
       "        </tr>\n",
       "    </tbody>\n",
       "        <tr>\n",
       "            <td>X850SLAVE.MALES.00.01.UNDER.01.  </td>\n",
       "        </tr>\n",
       "    </tbody>\n",
       "        <tr>\n",
       "            <td>X850SLAVE.MALES.01.04            </td>\n",
       "        </tr>\n",
       "    </tbody>\n",
       "        <tr>\n",
       "            <td>X850SLAVE.MALES.05.09            </td>\n",
       "        </tr>\n",
       "    </tbody>\n",
       "        <tr>\n",
       "            <td>X850SLAVE.MALES.10.14            </td>\n",
       "        </tr>\n",
       "    </tbody>\n",
       "        <tr>\n",
       "            <td>X850SLAVE.MALES.15.19            </td>\n",
       "        </tr>\n",
       "    </tbody>\n",
       "        <tr>\n",
       "            <td>X850SLAVE.MALES.20.29            </td>\n",
       "        </tr>\n",
       "    </tbody>\n",
       "        <tr>\n",
       "            <td>X850SLAVE.MALES.30.39            </td>\n",
       "        </tr>\n",
       "    </tbody>\n",
       "        <tr>\n",
       "            <td>X850SLAVE.MALES.40.49            </td>\n",
       "        </tr>\n",
       "    </tbody>\n",
       "        <tr>\n",
       "            <td>X850SLAVE.MALES.50.59            </td>\n",
       "        </tr>\n",
       "    </tbody>\n",
       "        <tr>\n",
       "            <td>X850SLAVE.MALES.60.69            </td>\n",
       "        </tr>\n",
       "    </tbody>\n",
       "        <tr>\n",
       "            <td>X850SLAVE.MALES.70.79            </td>\n",
       "        </tr>\n",
       "    </tbody>\n",
       "        <tr>\n",
       "            <td>X850SLAVE.MALES.80.89            </td>\n",
       "        </tr>\n",
       "    </tbody>\n",
       "        <tr>\n",
       "            <td>X850SLAVE.MALES.90.99            </td>\n",
       "        </tr>\n",
       "    </tbody>\n",
       "        <tr>\n",
       "            <td>X850SLAVE.MALES.99.AND.OVER      </td>\n",
       "        </tr>\n",
       "    </tbody>\n",
       "        <tr>\n",
       "            <td>X850SLAVE.MALES.AGE.UKWN         </td>\n",
       "        </tr>\n",
       "    </tbody>\n",
       "        <tr>\n",
       "            <td>X850TOTAL.SLAVE.FEMALES          </td>\n",
       "        </tr>\n",
       "    </tbody>\n",
       "        <tr>\n",
       "            <td>X850TOTAL.SLAVE.MALES            </td>\n",
       "        </tr>\n",
       "    </tbody>\n",
       "</table>"
      ],
      "text/plain": [
       "<IPython.core.display.HTML object>"
      ]
     },
     "metadata": {},
     "output_type": "display_data"
    },
    {
     "data": {
      "text/html": [
       "<table border=\"1\" class=\"dataframe\">\n",
       "    <thead>\n",
       "        <tr>\n",
       "            <th>agesex</th>\n",
       "        </tr>\n",
       "    </thead>\n",
       "    <tbody>\n",
       "        <tr>\n",
       "            <td>X860SLAVE.FEMALES.00.01.UNDER.1.</td>\n",
       "        </tr>\n",
       "    </tbody>\n",
       "        <tr>\n",
       "            <td>X860SLAVE.FEMALES.01.04         </td>\n",
       "        </tr>\n",
       "    </tbody>\n",
       "        <tr>\n",
       "            <td>X860SLAVE.FEMALES.05.09         </td>\n",
       "        </tr>\n",
       "    </tbody>\n",
       "        <tr>\n",
       "            <td>X860SLAVE.FEMALES.10.14         </td>\n",
       "        </tr>\n",
       "    </tbody>\n",
       "        <tr>\n",
       "            <td>X860SLAVE.FEMALES.15.19         </td>\n",
       "        </tr>\n",
       "    </tbody>\n",
       "        <tr>\n",
       "            <td>X860SLAVE.FEMALES.20.29         </td>\n",
       "        </tr>\n",
       "    </tbody>\n",
       "        <tr>\n",
       "            <td>X860SLAVE.FEMALES.30.39         </td>\n",
       "        </tr>\n",
       "    </tbody>\n",
       "        <tr>\n",
       "            <td>X860SLAVE.FEMALES.40.49         </td>\n",
       "        </tr>\n",
       "    </tbody>\n",
       "        <tr>\n",
       "            <td>X860SLAVE.FEMALES.50.59         </td>\n",
       "        </tr>\n",
       "    </tbody>\n",
       "        <tr>\n",
       "            <td>X860SLAVE.FEMALES.60.69         </td>\n",
       "        </tr>\n",
       "    </tbody>\n",
       "        <tr>\n",
       "            <td>X860SLAVE.FEMALES.70.79         </td>\n",
       "        </tr>\n",
       "    </tbody>\n",
       "        <tr>\n",
       "            <td>X860SLAVE.FEMALES.80.89         </td>\n",
       "        </tr>\n",
       "    </tbody>\n",
       "        <tr>\n",
       "            <td>X860SLAVE.FEMALES.90.99         </td>\n",
       "        </tr>\n",
       "    </tbody>\n",
       "        <tr>\n",
       "            <td>X860SLAVE.FEMALES.99.AND.OVER   </td>\n",
       "        </tr>\n",
       "    </tbody>\n",
       "        <tr>\n",
       "            <td>X860SLAVE.FEMALES.AGE.UNKW      </td>\n",
       "        </tr>\n",
       "    </tbody>\n",
       "        <tr>\n",
       "            <td>X860SLAVE.MALES.00.01.UNDER.1.  </td>\n",
       "        </tr>\n",
       "    </tbody>\n",
       "        <tr>\n",
       "            <td>X860SLAVE.MALES.01.04           </td>\n",
       "        </tr>\n",
       "    </tbody>\n",
       "        <tr>\n",
       "            <td>X860SLAVE.MALES.05.09           </td>\n",
       "        </tr>\n",
       "    </tbody>\n",
       "        <tr>\n",
       "            <td>X860SLAVE.MALES.10.14           </td>\n",
       "        </tr>\n",
       "    </tbody>\n",
       "        <tr>\n",
       "            <td>X860SLAVE.MALES.15.19           </td>\n",
       "        </tr>\n",
       "    </tbody>\n",
       "        <tr>\n",
       "            <td>X860SLAVE.MALES.20.29           </td>\n",
       "        </tr>\n",
       "    </tbody>\n",
       "        <tr>\n",
       "            <td>X860SLAVE.MALES.30.39           </td>\n",
       "        </tr>\n",
       "    </tbody>\n",
       "        <tr>\n",
       "            <td>X860SLAVE.MALES.40.49           </td>\n",
       "        </tr>\n",
       "    </tbody>\n",
       "        <tr>\n",
       "            <td>X860SLAVE.MALES.50.59           </td>\n",
       "        </tr>\n",
       "    </tbody>\n",
       "        <tr>\n",
       "            <td>X860SLAVE.MALES.60.69           </td>\n",
       "        </tr>\n",
       "    </tbody>\n",
       "        <tr>\n",
       "            <td>X860SLAVE.MALES.70.79           </td>\n",
       "        </tr>\n",
       "    </tbody>\n",
       "        <tr>\n",
       "            <td>X860SLAVE.MALES.80.89           </td>\n",
       "        </tr>\n",
       "    </tbody>\n",
       "        <tr>\n",
       "            <td>X860SLAVE.MALES.90.99           </td>\n",
       "        </tr>\n",
       "    </tbody>\n",
       "        <tr>\n",
       "            <td>X860SLAVE.MALES.99.AND.OVER     </td>\n",
       "        </tr>\n",
       "    </tbody>\n",
       "        <tr>\n",
       "            <td>X860SLAVE.MALES.AGE.UNKW        </td>\n",
       "        </tr>\n",
       "    </tbody>\n",
       "        <tr>\n",
       "            <td>X860TOT.SLAVE.FEMALES           </td>\n",
       "        </tr>\n",
       "    </tbody>\n",
       "        <tr>\n",
       "            <td>X860TOT.SLAVE.MALES             </td>\n",
       "        </tr>\n",
       "    </tbody>\n",
       "</table>"
      ],
      "text/plain": [
       "<IPython.core.display.HTML object>"
      ]
     },
     "metadata": {},
     "output_type": "display_data"
    }
   ],
   "source": [
    "## It turns out that the agesex variable is not easily comparable across 1850 and 1860. This sort of thing is \n",
    "## quite common in science -- but it *really* sucks.\n",
    "slaves1850.where(slaves1850['STATE.NAME'] == \"VIRGINIA\").select('agesex').show()\n",
    "slaves1860.where(slaves1860['STATE.NAME'] == \"VIRGINIA\").select('agesex').show()\n"
   ]
  },
  {
   "cell_type": "markdown",
   "metadata": {},
   "source": [
    "## Now some cleanup -- break up the 'agesex' column  into one containing age and one containing sex"
   ]
  },
  {
   "cell_type": "code",
   "execution_count": 26,
   "metadata": {
    "collapsed": false
   },
   "outputs": [
    {
     "data": {
      "text/html": [
       "<table border=\"1\" class=\"dataframe\">\n",
       "    <thead>\n",
       "        <tr>\n",
       "            <th>new</th> <th>old</th>\n",
       "        </tr>\n",
       "    </thead>\n",
       "    <tbody>\n",
       "        <tr>\n",
       "            <td>FEMALES.00.01</td> <td>X850SLAVE.FEMALES.00.01.UNDER.01.</td>\n",
       "        </tr>\n",
       "    </tbody>\n",
       "        <tr>\n",
       "            <td>FEMALES.01.04</td> <td>X850SLAVE.FEMALES.01.04          </td>\n",
       "        </tr>\n",
       "    </tbody>\n",
       "        <tr>\n",
       "            <td>FEMALES.05.09</td> <td>X850SLAVE.FEMALES.05.09          </td>\n",
       "        </tr>\n",
       "    </tbody>\n",
       "        <tr>\n",
       "            <td>FEMALES.10.14</td> <td>X850SLAVE.FEMALES.10.14          </td>\n",
       "        </tr>\n",
       "    </tbody>\n",
       "        <tr>\n",
       "            <td>FEMALES.15.19</td> <td>X850SLAVE.FEMALES.15.19          </td>\n",
       "        </tr>\n",
       "    </tbody>\n",
       "</table>\n",
       "<p>... (27 rows omitted)</p"
      ],
      "text/plain": [
       "<IPython.core.display.HTML object>"
      ]
     },
     "metadata": {},
     "output_type": "display_data"
    },
    {
     "data": {
      "text/html": [
       "<table border=\"1\" class=\"dataframe\">\n",
       "    <thead>\n",
       "        <tr>\n",
       "            <th>DATA.TYPE</th> <th>YEAR</th> <th>ICPR.STATE.CODE</th> <th>STATE.NAME</th> <th>agesex</th> <th>N</th>\n",
       "        </tr>\n",
       "    </thead>\n",
       "    <tbody>\n",
       "        <tr>\n",
       "            <td>S        </td> <td>860 </td> <td>11             </td> <td>DELAWARE  </td> <td>FEMALES.00.01</td> <td>28  </td>\n",
       "        </tr>\n",
       "    </tbody>\n",
       "        <tr>\n",
       "            <td>S        </td> <td>860 </td> <td>12             </td> <td>NEW JERSEY</td> <td>FEMALES.00.01</td> <td>0   </td>\n",
       "        </tr>\n",
       "    </tbody>\n",
       "        <tr>\n",
       "            <td>S        </td> <td>860 </td> <td>32             </td> <td>KANSAS    </td> <td>FEMALES.00.01</td> <td>0   </td>\n",
       "        </tr>\n",
       "    </tbody>\n",
       "        <tr>\n",
       "            <td>S        </td> <td>860 </td> <td>34             </td> <td>MISSOURI  </td> <td>FEMALES.00.01</td> <td>1805</td>\n",
       "        </tr>\n",
       "    </tbody>\n",
       "        <tr>\n",
       "            <td>S        </td> <td>860 </td> <td>35             </td> <td>NEBRASKA  </td> <td>FEMALES.00.01</td> <td>0   </td>\n",
       "        </tr>\n",
       "    </tbody>\n",
       "        <tr>\n",
       "            <td>S        </td> <td>860 </td> <td>40             </td> <td>VIRGINIA  </td> <td>FEMALES.00.01</td> <td>7079</td>\n",
       "        </tr>\n",
       "    </tbody>\n",
       "        <tr>\n",
       "            <td>S        </td> <td>860 </td> <td>41             </td> <td>ALABAMA   </td> <td>FEMALES.00.01</td> <td>6400</td>\n",
       "        </tr>\n",
       "    </tbody>\n",
       "        <tr>\n",
       "            <td>S        </td> <td>860 </td> <td>42             </td> <td>ARKANSAS  </td> <td>FEMALES.00.01</td> <td>1743</td>\n",
       "        </tr>\n",
       "    </tbody>\n",
       "        <tr>\n",
       "            <td>S        </td> <td>860 </td> <td>43             </td> <td>FLORIDA   </td> <td>FEMALES.00.01</td> <td>883 </td>\n",
       "        </tr>\n",
       "    </tbody>\n",
       "        <tr>\n",
       "            <td>S        </td> <td>860 </td> <td>44             </td> <td>GEORGIA   </td> <td>FEMALES.00.01</td> <td>7137</td>\n",
       "        </tr>\n",
       "    </tbody>\n",
       "</table>\n",
       "<p>... (566 rows omitted)</p"
      ],
      "text/plain": [
       "<IPython.core.display.HTML object>"
      ]
     },
     "metadata": {},
     "output_type": "display_data"
    },
    {
     "name": "stdout",
     "output_type": "stream",
     "text": [
      "TOTAL rows 1850: 32  1860: 36\n",
      "UNKNOWN rows 1850:  32  1860: 36\n",
      "rows known age slaves1850 : 448 1860:  504\n"
     ]
    }
   ],
   "source": [
    "## The next step is to clean up the 'agesex' variable so that we can: (1) delete the TOTAL and UNKNOWN AGE rows\n",
    "## and (2) create separate columns that identify the age categories and the sex.\n",
    "\n",
    "## There are some annoying differences and irregularities in the agesex column. We'll fix it by writing a function\n",
    "## that we'll call \"improve\" which we will use with .apply() and .append_column()  -- this is \n",
    "## a construction that we'll probably use a lot this semester\n",
    "def improve (x) :\n",
    "    ## a function that rationalizes the agesex column in the ICPSR slaves data\n",
    "    ## it is designed to be used with .apply()\n",
    "    res=x.replace('.AGE.UKWN','UNKNOWN')\\\n",
    "    .replace('.AGE.UNKW','UNKNOWN')\\\n",
    "    .replace('X850SLAVE.','')\\\n",
    "    .replace('X860SLAVE.','') \\\n",
    "    .replace('X850TOTAL.SLAVE.','TOTAL')\\\n",
    "    .replace('X860TOT.SLAVE.','TOTAL')\\\n",
    "    .replace('.UNDER.1.','')\\\n",
    "    .replace('.UNDER.01.','')\\\n",
    "    .replace('AND.OVER','110')\n",
    "    return(res)\n",
    "\n",
    "## test the imporve function on one state's worth of data\n",
    "virginia=slaves1850.where(slaves1850['STATE.NAME'] == \"VIRGINIA\")   \n",
    "\n",
    "Table().with_columns(['new',virginia.apply(improve,['agesex']),\n",
    "                     'old',virginia.column('agesex')]).show(5)\n",
    "\n",
    "## OK lets do it for slaves18X0\n",
    "slaves1850.append_column('agesex',slaves1850.apply(improve,['agesex']))\n",
    "slaves1860.append_column('agesex',slaves1860.apply(improve,['agesex']))\n",
    "slaves1860.show(10)\n",
    "\n",
    "## Now pull out the total and unknown rows\n",
    "totals1850= slaves1850.where([ 'TOTAL' in f for f in slaves1850.column('agesex') ])\n",
    "unknows1850=slaves1850.where(['UNKNOWN' in f for f in slaves1850.column('agesex') ])\n",
    "totals1860= slaves1860.where([ 'TOTAL' in f for f in slaves1860.column('agesex') ])\n",
    "unknows1860=slaves1860.where(['UNKNOWN' in f for f in slaves1860.column('agesex') ])\n",
    "print(\"TOTAL rows 1850:\",totals1850.num_rows,\" 1860:\", totals1860.num_rows)\n",
    "print(\"UNKNOWN rows 1850: \", unknows1850.num_rows,\" 1860:\", unknows1860.num_rows)\n",
    "## remove TOTAL and UNKNOWN rows from slaves18X0 tables\n",
    "slaves1850=slaves1850.where( ['TOTAL' not in f and 'UNKNOWN' not in f for f in slaves1850.column('agesex')])\n",
    "slaves1860=slaves1860.where( ['TOTAL' not in f and 'UNKNOWN' not in f for f in slaves1860.column('agesex')])\n",
    "print(\"rows known age slaves1850 :\", slaves1850.num_rows, \"1860: \", slaves1860.num_rows)\n",
    "## Heads up.  slaves18x0 tables change in this cel.  Do not run again without executing all cells above\n"
   ]
  },
  {
   "cell_type": "code",
   "execution_count": 27,
   "metadata": {
    "collapsed": false
   },
   "outputs": [
    {
     "data": {
      "text/html": [
       "<table border=\"1\" class=\"dataframe\">\n",
       "    <thead>\n",
       "        <tr>\n",
       "            <th>DATA.TYPE</th> <th>YEAR</th> <th>ICPR.STATE.CODE</th> <th>STATE.NAME</th> <th>agesex</th> <th>N</th> <th>sex</th> <th>loAge</th> <th>hiAge</th>\n",
       "        </tr>\n",
       "    </thead>\n",
       "    <tbody>\n",
       "        <tr>\n",
       "            <td>S        </td> <td>850 </td> <td>11             </td> <td>DELAWARE   </td> <td>FEMALES.00.01</td> <td>32  </td> <td>FEMALES</td> <td>0    </td> <td>1    </td>\n",
       "        </tr>\n",
       "    </tbody>\n",
       "        <tr>\n",
       "            <td>S        </td> <td>850 </td> <td>12             </td> <td>NEW JERSEY </td> <td>FEMALES.00.01</td> <td>0   </td> <td>FEMALES</td> <td>0    </td> <td>1    </td>\n",
       "        </tr>\n",
       "    </tbody>\n",
       "        <tr>\n",
       "            <td>S        </td> <td>850 </td> <td>34             </td> <td>MISSOURI   </td> <td>FEMALES.00.01</td> <td>1334</td> <td>FEMALES</td> <td>0    </td> <td>1    </td>\n",
       "        </tr>\n",
       "    </tbody>\n",
       "        <tr>\n",
       "            <td>S        </td> <td>850 </td> <td>40             </td> <td>VIRGINIA   </td> <td>FEMALES.00.01</td> <td>5814</td> <td>FEMALES</td> <td>0    </td> <td>1    </td>\n",
       "        </tr>\n",
       "    </tbody>\n",
       "        <tr>\n",
       "            <td>S        </td> <td>850 </td> <td>41             </td> <td>ALABAMA    </td> <td>FEMALES.00.01</td> <td>4118</td> <td>FEMALES</td> <td>0    </td> <td>1    </td>\n",
       "        </tr>\n",
       "    </tbody>\n",
       "        <tr>\n",
       "            <td>S        </td> <td>850 </td> <td>42             </td> <td>ARKANSAS   </td> <td>FEMALES.00.01</td> <td>619 </td> <td>FEMALES</td> <td>0    </td> <td>1    </td>\n",
       "        </tr>\n",
       "    </tbody>\n",
       "        <tr>\n",
       "            <td>S        </td> <td>850 </td> <td>43             </td> <td>FLORIDA    </td> <td>FEMALES.00.01</td> <td>451 </td> <td>FEMALES</td> <td>0    </td> <td>1    </td>\n",
       "        </tr>\n",
       "    </tbody>\n",
       "        <tr>\n",
       "            <td>S        </td> <td>850 </td> <td>44             </td> <td>GEORGIA    </td> <td>FEMALES.00.01</td> <td>4889</td> <td>FEMALES</td> <td>0    </td> <td>1    </td>\n",
       "        </tr>\n",
       "    </tbody>\n",
       "        <tr>\n",
       "            <td>S        </td> <td>850 </td> <td>45             </td> <td>LOUISIANA  </td> <td>FEMALES.00.01</td> <td>2591</td> <td>FEMALES</td> <td>0    </td> <td>1    </td>\n",
       "        </tr>\n",
       "    </tbody>\n",
       "        <tr>\n",
       "            <td>S        </td> <td>850 </td> <td>46             </td> <td>MISSISSIPPI</td> <td>FEMALES.00.01</td> <td>3788</td> <td>FEMALES</td> <td>0    </td> <td>1    </td>\n",
       "        </tr>\n",
       "    </tbody>\n",
       "</table>\n",
       "<p>... (438 rows omitted)</p"
      ],
      "text/plain": [
       "<IPython.core.display.HTML object>"
      ]
     },
     "metadata": {},
     "output_type": "display_data"
    }
   ],
   "source": [
    "def parseAge(x) :\n",
    "    ## this uses split() to separate string into a list\n",
    "    def intOrNan(z) :\n",
    "        ## if z is an integer, return itself otherwise 'nan'\n",
    "        try :\n",
    "            return (int(z))\n",
    "        except :\n",
    "            return (float('nan'))\n",
    "    \n",
    "    words=x.split('.')\n",
    "    # return an python 'dictionary' object\n",
    "    return({'sex': words[0],'loAge': intOrNan(words[1]), 'hiAge' : intOrNan(words[2])})\n",
    "\n",
    "parsedSexAge=slaves1850.apply(parseAge,['agesex'])\n",
    "slaves1850=slaves1850.with_columns([\n",
    "    'sex',[f['sex'] for f in parsedSexAge],\n",
    "    'loAge',[f['loAge'] for f in parsedSexAge],\n",
    "    'hiAge',[f['hiAge'] for f in parsedSexAge]])\n",
    "slaves1850.show(10)\n",
    "## now do 1860\n",
    "parsedSexAge=slaves1860.apply(parseAge,['agesex'])\n",
    "slaves1860=slaves1860.with_columns([\n",
    "    'sex',[f['sex'] for f in parsedSexAge],\n",
    "    'loAge',[f['loAge'] for f in parsedSexAge],\n",
    "    'hiAge',[f['hiAge'] for f in parsedSexAge]])\n",
    "#slaves1860.show(10)"
   ]
  },
  {
   "cell_type": "markdown",
   "metadata": {},
   "source": [
    "### Let's use our newer better agesex variable to do a little sanity checking\n",
    "\n",
    "Both censuses provide age/sex breakdowns as well as population totals of slaves. \n",
    "Let's add up the former and see if it matches the latter."
   ]
  },
  {
   "cell_type": "code",
   "execution_count": 28,
   "metadata": {
    "collapsed": false
   },
   "outputs": [
    {
     "name": "stdout",
     "output_type": "stream",
     "text": [
      "This should be zero for 1850\n",
      "0.0\n",
      "yeah\n",
      "\n",
      "This should be zero for 1860\n",
      "-25389.0\n",
      "uh oh..\n"
     ]
    }
   ],
   "source": [
    "# The sum of slaves of known ages and slaves of unknown ages ought to equal the \n",
    "# reported total number of slaves... right?\n",
    "print(\"This should be zero for 1850\")\n",
    "print(sum(slaves1850['N']) + sum(unknows1850['N'])-sum(totals1850['N']))\n",
    "print(\"yeah\")\n",
    "print()\n",
    "print(\"This should be zero for 1860\")\n",
    "print(sum(slaves1860['N']) + sum(unknows1860['N'])-sum(totals1860['N']))\n",
    "print(\"uh oh..\")\n",
    "      "
   ]
  },
  {
   "cell_type": "markdown",
   "metadata": {},
   "source": [
    "## Looks like something is amiss in the 1860 Census\n",
    "\n",
    "On the positive side, the 1850 census passes the sanity test, but we'll need to \n",
    "take a closer look at the 1860 data.  Let's see if bots sexes are equally afflicted"
   ]
  },
  {
   "cell_type": "code",
   "execution_count": 29,
   "metadata": {
    "collapsed": false
   },
   "outputs": [
    {
     "name": "stdout",
     "output_type": "stream",
     "text": [
      "MALES known and unknown ages - census bureau total shoud be 0\n",
      "-13361.0\n",
      "FEMALES known and unknown ages - census bureau total shoud be 0\n",
      "-12028.0\n"
     ]
    }
   ],
   "source": [
    "## Ouch let's see if its both sexes in 1860\n",
    "for sex in ['MALES','FEMALES'] :\n",
    "    print(sex+ ' known and unknown ages - census bureau total shoud be 0')\n",
    "    print(sum(slaves1860.where('sex',sex)['N']) + sum(unknows1860.where('agesex',sex+'UNKNOWN')['N'])\\\n",
    "         -sum(totals1860.where('agesex','TOTAL'+sex)['N']))\n",
    "    \n",
    "    "
   ]
  },
  {
   "cell_type": "markdown",
   "metadata": {},
   "source": [
    "## We'd better do the sanity check state by state on the 1860 Census \n",
    "\n"
   ]
  },
  {
   "cell_type": "code",
   "execution_count": 30,
   "metadata": {
    "collapsed": false
   },
   "outputs": [
    {
     "data": {
      "text/html": [
       "<table border=\"1\" class=\"dataframe\">\n",
       "    <thead>\n",
       "        <tr>\n",
       "            <th>STATE.NAME</th> <th>N sum</th> <th>N unk</th> <th>N itemized</th> <th>N tot</th> <th>DIFF</th>\n",
       "        </tr>\n",
       "    </thead>\n",
       "    <tbody>\n",
       "        <tr>\n",
       "            <td>ALABAMA       </td> <td>217308</td> <td>6    </td> <td>217314    </td> <td>217314</td> <td>0   </td>\n",
       "        </tr>\n",
       "    </tbody>\n",
       "        <tr>\n",
       "            <td>ARKANSAS      </td> <td>54933 </td> <td>8    </td> <td>54941     </td> <td>54941 </td> <td>0   </td>\n",
       "        </tr>\n",
       "    </tbody>\n",
       "        <tr>\n",
       "            <td>DELAWARE      </td> <td>938   </td> <td>0    </td> <td>938       </td> <td>938   </td> <td>0   </td>\n",
       "        </tr>\n",
       "    </tbody>\n",
       "        <tr>\n",
       "            <td>FLORIDA       </td> <td>30256 </td> <td>41   </td> <td>30297     </td> <td>30397 </td> <td>100 </td>\n",
       "        </tr>\n",
       "    </tbody>\n",
       "        <tr>\n",
       "            <td>GEORGIA       </td> <td>232945</td> <td>60   </td> <td>233005    </td> <td>233005</td> <td>0   </td>\n",
       "        </tr>\n",
       "    </tbody>\n",
       "        <tr>\n",
       "            <td>KANSAS        </td> <td>2     </td> <td>0    </td> <td>2         </td> <td>2     </td> <td>0   </td>\n",
       "        </tr>\n",
       "    </tbody>\n",
       "        <tr>\n",
       "            <td>KENTUCKY      </td> <td>112445</td> <td>29   </td> <td>112474    </td> <td>112474</td> <td>0   </td>\n",
       "        </tr>\n",
       "    </tbody>\n",
       "        <tr>\n",
       "            <td>LOUISIANA     </td> <td>157622</td> <td>8    </td> <td>157630    </td> <td>159749</td> <td>2119</td>\n",
       "        </tr>\n",
       "    </tbody>\n",
       "        <tr>\n",
       "            <td>MARYLAND      </td> <td>42876 </td> <td>0    </td> <td>42876     </td> <td>42876 </td> <td>0   </td>\n",
       "        </tr>\n",
       "    </tbody>\n",
       "        <tr>\n",
       "            <td>MISSISSIPPI   </td> <td>207929</td> <td>84   </td> <td>208013    </td> <td>217330</td> <td>9317</td>\n",
       "        </tr>\n",
       "    </tbody>\n",
       "        <tr>\n",
       "            <td>MISSOURI      </td> <td>57569 </td> <td>2    </td> <td>57571     </td> <td>57571 </td> <td>0   </td>\n",
       "        </tr>\n",
       "    </tbody>\n",
       "        <tr>\n",
       "            <td>NEBRASKA      </td> <td>9     </td> <td>0    </td> <td>9         </td> <td>9     </td> <td>0   </td>\n",
       "        </tr>\n",
       "    </tbody>\n",
       "        <tr>\n",
       "            <td>NEW JERSEY    </td> <td>12    </td> <td>0    </td> <td>12        </td> <td>12    </td> <td>0   </td>\n",
       "        </tr>\n",
       "    </tbody>\n",
       "        <tr>\n",
       "            <td>NORTH CAROLINA</td> <td>164535</td> <td>55   </td> <td>164590    </td> <td>164590</td> <td>0   </td>\n",
       "        </tr>\n",
       "    </tbody>\n",
       "        <tr>\n",
       "            <td>SOUTH CAROLINA</td> <td>205794</td> <td>41   </td> <td>205835    </td> <td>205835</td> <td>0   </td>\n",
       "        </tr>\n",
       "    </tbody>\n",
       "        <tr>\n",
       "            <td>TENNESSEE     </td> <td>139342</td> <td>7    </td> <td>139349    </td> <td>139349</td> <td>0   </td>\n",
       "        </tr>\n",
       "    </tbody>\n",
       "        <tr>\n",
       "            <td>TEXAS         </td> <td>90863 </td> <td>22   </td> <td>90885     </td> <td>91377 </td> <td>492 </td>\n",
       "        </tr>\n",
       "    </tbody>\n",
       "        <tr>\n",
       "            <td>VIRGINIA      </td> <td>241366</td> <td>16   </td> <td>241382    </td> <td>241382</td> <td>0   </td>\n",
       "        </tr>\n",
       "    </tbody>\n",
       "</table>"
      ],
      "text/plain": [
       "<IPython.core.display.HTML object>"
      ]
     },
     "metadata": {},
     "output_type": "display_data"
    },
    {
     "data": {
      "text/html": [
       "<table border=\"1\" class=\"dataframe\">\n",
       "    <thead>\n",
       "        <tr>\n",
       "            <th>STATE.NAME</th> <th>N sum</th> <th>N unk</th> <th>N itemized</th> <th>N tot</th> <th>DIFF</th>\n",
       "        </tr>\n",
       "    </thead>\n",
       "    <tbody>\n",
       "        <tr>\n",
       "            <td>ALABAMA       </td> <td>217764</td> <td>2    </td> <td>217766    </td> <td>217766</td> <td>0   </td>\n",
       "        </tr>\n",
       "    </tbody>\n",
       "        <tr>\n",
       "            <td>ARKANSAS      </td> <td>56172 </td> <td>2    </td> <td>56174     </td> <td>56174 </td> <td>0   </td>\n",
       "        </tr>\n",
       "    </tbody>\n",
       "        <tr>\n",
       "            <td>DELAWARE      </td> <td>860   </td> <td>0    </td> <td>860       </td> <td>860   </td> <td>0   </td>\n",
       "        </tr>\n",
       "    </tbody>\n",
       "        <tr>\n",
       "            <td>FLORIDA       </td> <td>31221 </td> <td>27   </td> <td>31248     </td> <td>31348 </td> <td>100 </td>\n",
       "        </tr>\n",
       "    </tbody>\n",
       "        <tr>\n",
       "            <td>GEORGIA       </td> <td>229125</td> <td>68   </td> <td>229193    </td> <td>229193</td> <td>0   </td>\n",
       "        </tr>\n",
       "    </tbody>\n",
       "        <tr>\n",
       "            <td>KANSAS        </td> <td>0     </td> <td>0    </td> <td>0         </td> <td>0     </td> <td>0   </td>\n",
       "        </tr>\n",
       "    </tbody>\n",
       "        <tr>\n",
       "            <td>KENTUCKY      </td> <td>112979</td> <td>30   </td> <td>113009    </td> <td>113009</td> <td>0   </td>\n",
       "        </tr>\n",
       "    </tbody>\n",
       "        <tr>\n",
       "            <td>LOUISIANA     </td> <td>169084</td> <td>12   </td> <td>169096    </td> <td>171977</td> <td>2881</td>\n",
       "        </tr>\n",
       "    </tbody>\n",
       "        <tr>\n",
       "            <td>MARYLAND      </td> <td>44313 </td> <td>0    </td> <td>44313     </td> <td>44313 </td> <td>0   </td>\n",
       "        </tr>\n",
       "    </tbody>\n",
       "        <tr>\n",
       "            <td>MISSISSIPPI   </td> <td>209297</td> <td>80   </td> <td>209377    </td> <td>219301</td> <td>9924</td>\n",
       "        </tr>\n",
       "    </tbody>\n",
       "        <tr>\n",
       "            <td>MISSOURI      </td> <td>57357 </td> <td>3    </td> <td>57360     </td> <td>57360 </td> <td>0   </td>\n",
       "        </tr>\n",
       "    </tbody>\n",
       "        <tr>\n",
       "            <td>NEBRASKA      </td> <td>6     </td> <td>0    </td> <td>6         </td> <td>6     </td> <td>0   </td>\n",
       "        </tr>\n",
       "    </tbody>\n",
       "        <tr>\n",
       "            <td>NEW JERSEY    </td> <td>6     </td> <td>0    </td> <td>6         </td> <td>6     </td> <td>0   </td>\n",
       "        </tr>\n",
       "    </tbody>\n",
       "        <tr>\n",
       "            <td>NORTH CAROLINA</td> <td>166436</td> <td>33   </td> <td>166469    </td> <td>166469</td> <td>0   </td>\n",
       "        </tr>\n",
       "    </tbody>\n",
       "        <tr>\n",
       "            <td>SOUTH CAROLINA</td> <td>196536</td> <td>35   </td> <td>196571    </td> <td>196571</td> <td>0   </td>\n",
       "        </tr>\n",
       "    </tbody>\n",
       "        <tr>\n",
       "            <td>TENNESSEE     </td> <td>136365</td> <td>5    </td> <td>136370    </td> <td>136370</td> <td>0   </td>\n",
       "        </tr>\n",
       "    </tbody>\n",
       "        <tr>\n",
       "            <td>TEXAS         </td> <td>90715 </td> <td>18   </td> <td>90733     </td> <td>91189 </td> <td>456 </td>\n",
       "        </tr>\n",
       "    </tbody>\n",
       "        <tr>\n",
       "            <td>VIRGINIA      </td> <td>249480</td> <td>3    </td> <td>249483    </td> <td>249483</td> <td>0   </td>\n",
       "        </tr>\n",
       "    </tbody>\n",
       "</table>"
      ],
      "text/plain": [
       "<IPython.core.display.HTML object>"
      ]
     },
     "metadata": {},
     "output_type": "display_data"
    }
   ],
   "source": [
    "## state level sanity check for 1860 census\n",
    "\n",
    "# Since we're going to do this for each sex -- withing each state, lets write a function\n",
    "\n",
    "def checkTots(slaves,unknown,total,SEX) :\n",
    "    # expects a set of 3 tables generated above slaves of known age, unknown age, and the totals\n",
    "    # returns a table showing the total of known+unknown and the census bureau's total which SHOULD\n",
    "    # be the same!\n",
    "    f60_knownAge=slaves.where('sex',SEX).group('STATE.NAME',sum).select(['STATE.NAME','N sum'])\n",
    "    ## we'll need to add back in the unknown so lets make a .join()-worthy table of unknown aged slaves\n",
    "    f60_uknownAge=unknown.where('agesex',SEX+'UNKNOWN').select(['STATE.NAME','N']).relabel('N','N unk')\n",
    "    ## add them together and combine into one table\n",
    "    f60_itemized=f60_knownAge.join('STATE.NAME',f60_uknownAge)\n",
    "    f60_itemized.append_column('N itemized',f60_itemized.apply(lambda k,u,:(k+u),['N sum','N unk']))\n",
    "    ## add a column of what the census bureau said were totals\n",
    "    f60_totals=total.where('agesex','TOTAL'+SEX).select(['STATE.NAME','N']).relabel('N','N tot')\n",
    "    f60_itemized=f60_itemized.join('STATE.NAME',f60_totals)\n",
    "    ## and take the differences of the last two columns\n",
    "    f60_itemized.append_column('DIFF',f60_itemized.apply(lambda tot,it :(tot-it),['N tot','N itemized']))\n",
    "    return(f60_itemized)\n",
    "    \n",
    "\n",
    "checkTots(slaves1860,unknows1860,totals1860,'FEMALES').show()\n",
    "checkTots(slaves1860,unknows1860,totals1860,'MALES').show()\n",
    "\n",
    "\n",
    "## Now the same trick for Males"
   ]
  },
  {
   "cell_type": "markdown",
   "metadata": {
    "collapsed": false
   },
   "source": [
    "## Mississippi ?  really?\n",
    "\n",
    "So there are clearly problems with <i> some </i> states.  Mississippi stands out as particularly\n",
    "lame at arithmetic, but what do we make of the other oddities?  Can we still use these data ?\n"
   ]
  },
  {
   "cell_type": "markdown",
   "metadata": {
    "collapsed": false
   },
   "source": [
    "## OK let's get over it and move on.\n",
    "\n",
    "We are now in a position to calculate some interesting quantities and draw some pretty graphs"
   ]
  },
  {
   "cell_type": "code",
   "execution_count": 31,
   "metadata": {
    "collapsed": false
   },
   "outputs": [
    {
     "name": "stdout",
     "output_type": "stream",
     "text": [
      "slaves of known age 1850 \n",
      "3196908.0\n",
      "slaves of known age 1860 \n",
      "3924460.0\n",
      "percent increase 1850 - 1860\n",
      "0.227579899077\n",
      "average annual growth rate\n",
      "0.020504466946637163\n",
      "doubling time in years\n",
      "33.804691551546284\n"
     ]
    }
   ],
   "source": [
    "\n",
    "\n",
    "print(\"slaves of known age 1850 \")\n",
    "sum_1850=sum(slaves1850['N'])\n",
    "\n",
    "print(sum_1850)\n",
    "print(\"slaves of known age 1860 \")\n",
    "sum_1860=sum(slaves1860['N'])\n",
    "print(sum_1860)\n",
    "print(\"percent increase 1850 - 1860\")\n",
    "print((sum_1860 -sum_1850)/sum_1850)\n",
    "print(\"average annual growth rate\")\n",
    "import math\n",
    "growthrate = math.log(sum_1860/sum_1850) / 10\n",
    "print (growthrate)\n",
    "print(\"doubling time in years\")\n",
    "dtime = math.log(2)/growthrate\n",
    "print (dtime)\n",
    "\n"
   ]
  },
  {
   "cell_type": "markdown",
   "metadata": {},
   "source": [
    "## Is that a fast growth rate or a slow growth rate?\n",
    "\n",
    "Let's look at population growth by age category"
   ]
  },
  {
   "cell_type": "code",
   "execution_count": 32,
   "metadata": {
    "collapsed": false
   },
   "outputs": [
    {
     "data": {
      "text/html": [
       "<table border=\"1\" class=\"dataframe\">\n",
       "    <thead>\n",
       "        <tr>\n",
       "            <th>sex</th> <th>loAge</th> <th>hiAge</th> <th>agesex</th> <th>DATA.TYPE sum</th> <th>YEAR sum</th> <th>ICPR.STATE.CODE sum</th> <th>STATE.NAME sum</th> <th>N1860</th>\n",
       "        </tr>\n",
       "    </thead>\n",
       "    <tbody>\n",
       "        <tr>\n",
       "            <td>FEMALES</td> <td>0    </td> <td>1    </td> <td>FEMALES.00.01</td> <td>             </td> <td>15480   </td> <td>726                </td> <td>              </td> <td>58360 </td>\n",
       "        </tr>\n",
       "    </tbody>\n",
       "        <tr>\n",
       "            <td>FEMALES</td> <td>1    </td> <td>4    </td> <td>FEMALES.01.04</td> <td>             </td> <td>15480   </td> <td>726                </td> <td>              </td> <td>272489</td>\n",
       "        </tr>\n",
       "    </tbody>\n",
       "        <tr>\n",
       "            <td>FEMALES</td> <td>5    </td> <td>9    </td> <td>FEMALES.05.09</td> <td>             </td> <td>15480   </td> <td>726                </td> <td>              </td> <td>288449</td>\n",
       "        </tr>\n",
       "    </tbody>\n",
       "        <tr>\n",
       "            <td>FEMALES</td> <td>10   </td> <td>14   </td> <td>FEMALES.10.14</td> <td>             </td> <td>15480   </td> <td>726                </td> <td>              </td> <td>264002</td>\n",
       "        </tr>\n",
       "    </tbody>\n",
       "        <tr>\n",
       "            <td>FEMALES</td> <td>15   </td> <td>19   </td> <td>FEMALES.15.19</td> <td>             </td> <td>15480   </td> <td>726                </td> <td>              </td> <td>228178</td>\n",
       "        </tr>\n",
       "    </tbody>\n",
       "</table>\n",
       "<p>... (23 rows omitted)</p"
      ],
      "text/plain": [
       "<IPython.core.display.HTML object>"
      ]
     },
     "metadata": {},
     "output_type": "display_data"
    },
    {
     "data": {
      "text/html": [
       "<table border=\"1\" class=\"dataframe\">\n",
       "    <thead>\n",
       "        <tr>\n",
       "            <th>agesex</th> <th>sex</th> <th>loAge</th> <th>hiAge</th> <th>N1850</th> <th>N1860</th>\n",
       "        </tr>\n",
       "    </thead>\n",
       "    <tbody>\n",
       "        <tr>\n",
       "            <td>FEMALES.00.01</td> <td>FEMALES</td> <td>0    </td> <td>1    </td> <td>41225 </td> <td>58360 </td>\n",
       "        </tr>\n",
       "    </tbody>\n",
       "        <tr>\n",
       "            <td>FEMALES.01.04</td> <td>FEMALES</td> <td>1    </td> <td>4    </td> <td>231953</td> <td>272489</td>\n",
       "        </tr>\n",
       "    </tbody>\n",
       "        <tr>\n",
       "            <td>FEMALES.05.09</td> <td>FEMALES</td> <td>5    </td> <td>9    </td> <td>239637</td> <td>288449</td>\n",
       "        </tr>\n",
       "    </tbody>\n",
       "        <tr>\n",
       "            <td>FEMALES.10.14</td> <td>FEMALES</td> <td>10   </td> <td>14   </td> <td>214368</td> <td>264002</td>\n",
       "        </tr>\n",
       "    </tbody>\n",
       "        <tr>\n",
       "            <td>FEMALES.15.19</td> <td>FEMALES</td> <td>15   </td> <td>19   </td> <td>180792</td> <td>228178</td>\n",
       "        </tr>\n",
       "    </tbody>\n",
       "</table>\n",
       "<p>... (23 rows omitted)</p"
      ],
      "text/plain": [
       "<IPython.core.display.HTML object>"
      ]
     },
     "metadata": {},
     "output_type": "display_data"
    },
    {
     "data": {
      "image/png": "[encoded data removed]",
      "text/plain": [
       "<matplotlib.figure.Figure at 0x7f84c97bacf8>"
      ]
     },
     "metadata": {},
     "output_type": "display_data"
    }
   ],
   "source": [
    "## join the 1850 and 1860 data together in one table to facilitate graphing\n",
    "\n",
    "spop1850=slaves1850.groups(['sex','loAge','hiAge','agesex'], sum).relabeled('N sum','N1850')\n",
    "spop1860=slaves1860.groups(['sex','loAge','hiAge','agesex'], sum).relabeled('N sum','N1860')\n",
    "spop1860.show(5)\n",
    "\n",
    "spopByYear=spop1850.select(['agesex','sex','loAge','hiAge','N1850']).join('agesex',spop1860.select(['agesex','N1860']))\n",
    "spopByYear.show(5)\n",
    "\n",
    "spopByYear.scatter('loAge',select=['N1850','N1860'])\n"
   ]
  },
  {
   "cell_type": "code",
   "execution_count": null,
   "metadata": {
    "collapsed": false
   },
   "outputs": [],
   "source": [
    "#plt.plot(spopByYear.where('sex','FEMALES')['loAge'],spopByYear.where('sex','FEMALES')['N1860'],'bs')\n",
    "#plt.plot(spopByYear.where('sex','MALES')['loAge'],-spopByYear.where('sex','MALES')['N1860'],'r--')\n",
    "\n",
    "#plt.axis([0,110,-500000,500000])"
   ]
  },
  {
   "cell_type": "code",
   "execution_count": null,
   "metadata": {
    "collapsed": false
   },
   "outputs": [],
   "source": [
    "'N' in slaves1850.labels\n"
   ]
  },
  {
   "cell_type": "markdown",
   "metadata": {},
   "source": [
    "## Interesting scatter plot don't you think?\n",
    "\n",
    "How many gold dots and how many blue dots are there for each age category? Is that right?\n",
    "\n",
    "What is going on with age 20 (loAge = 20) why does it jump ?\n",
    "\n",
    "\n",
    "\n"
   ]
  },
  {
   "cell_type": "markdown",
   "metadata": {},
   "source": [
    "# So, you <i>might</i> remember that our goal in all this is to find a set\n",
    "of survival probabilities by age for US resident slaves between 1850 and 1860.\n",
    "\n",
    "In order to do this, with the data at hand, we are going to have to make some\n",
    "assumptions.  But let's start with a description of the process that I have in mind\n",
    "and then decide what sort assumption we'll need to make and discuss whether or not\n",
    "we can live with them\n",
    "\n",
    "Let's divide the number of US resident enslaved people of each sex who were of age $X$ in 1860\n",
    "by the number of US resident enslaved people of the same sex but of age $X-10$ in 1850\n",
    "\n",
    "If we let $N_{x,t}$ be the number of US resident slaves of age $x$ in year $t$ then the quantity I am proposing\n",
    "to consider is:\n",
    "\n",
    "$S_{x}=\\frac{N_{x,1860}}{N_{x-10,1850}}$\n",
    "\n",
    "## QUESTION:  What assumptions do we need to make in order to assert that $S_{x}$ is the 'true' survival probability ?\n",
    "\n"
   ]
  },
  {
   "cell_type": "markdown",
   "metadata": {},
   "source": [
    "\n",
    "How to calculate $S_x$:\n"
   ]
  },
  {
   "cell_type": "code",
   "execution_count": null,
   "metadata": {
    "collapsed": false
   },
   "outputs": [],
   "source": [
    "## OK Let's proceed.  Because we are going to want to do this a couple of times...\n",
    "## let's create a function that takes as inputs tables of counts of slaves by age in 1850 and 1860\n",
    "## and returns a table that contains all the input information + a column the survival rate discussed above\n",
    "\n",
    "\n",
    "def getSurv (spop1850,spop1860) :\n",
    "    ## expects two tables one of slave counts by age in 1850 and the other in 1860\n",
    "    ## returns one table with all the input tables joined + a column of survival rates by age\n",
    "    ## NOTE spop18X0 is NOT slaves18X0 spop18x0 must have only ONE row for each age group\n",
    "    def combineYears(spop5,spop6) :\n",
    "        ## combine spop1850 and spop1860 into one table with N1850 and N1860 columns\n",
    "        for lab in ['N', 'N sum'] :\n",
    "            if lab in spop5.labels :\n",
    "                spop5.relabel(lab,'N1850')\n",
    "            if lab in spop6.labels :\n",
    "                spop6.relabel(lab,'N1860')\n",
    "        spop2years=spop5.select(['agesex','sex','loAge','hiAge','N1850']).join('agesex',spop6.select(['agesex','N1860']))\n",
    "        return(spop2years)\n",
    "                                                                                                                                                             \n",
    "        \n",
    "    def combineAges(spop):\n",
    "        ## given a table of counts of slaves by age ... returns same table with additional rows\n",
    "        ## created by adding together ages 0 and 1..4   AND ages 10-14 with 15-19\n",
    "        ## the resulting table will have OVERLAPPING AGES       \n",
    "        \n",
    "        # extract age 0 and 1-4 for each state and sum the Ns\n",
    "        temp=spop.where(spop.column('loAge')<= 1).groups(['sex'],sum)\n",
    "        # extract 10-14 and 15-19 for each state and sum the Ns\n",
    "        temp2=spop.where(spop.column('loAge'), are.between_or_equal_to(10,15)).groups(['sex'],sum)\n",
    "        ## correct the loAge and hiAge  which were also summed in the previous operation\n",
    "        temp.append_column('loAge sum',0)\n",
    "        temp.append_column('hiAge sum',4)\n",
    "        temp2.append_column('loAge sum',10)\n",
    "        temp2.append_column('hiAge sum',19)\n",
    "        ## combine temp and temp2\n",
    "        temp=temp.with_rows(temp2.to_array())\n",
    "        ## change columnnames of temp\n",
    "        temp.relabel('loAge sum','loAge')\n",
    "        temp.relabel('hiAge sum','hiAge')\n",
    "        temp.relabel('N1850 sum','N1850')\n",
    "        temp.relabel('N1860 sum', 'N1860')\n",
    "        temp.append_column('agesex sum',['FEMALES.0.4','MALES.0.4','FEMALES.10.19','MALES.10.19'])\n",
    "        temp.relabel('agesex sum','agesex')\n",
    "       \n",
    "        ## add rows in temp to original table spop\n",
    "        res=spop.where(spop.column('loAge') >1).with_rows( \\\n",
    "        temp.select(['agesex','sex','loAge','hiAge','N1850','N1860']).to_array())\n",
    "        return(res)\n",
    "    \n",
    "    def addMidageCols(spop) :\n",
    "        ## midage and midage10 columns to table where midage is midpoint between loAge and hiAge\n",
    "        ## and midage10 is midage+10.\n",
    "        ## these will be used in clever join command later\n",
    "        spop.append_column('midAge',spop.apply(lambda hi, lo :(lo+hi)/2, ['loAge','hiAge']))\n",
    "        spop.append_column('midAge10',spop.apply(lambda mid : (mid+10), ['midAge']))\n",
    "        return(spop)\n",
    "    \n",
    "    ## use the functions defined above and calculate the survival rate\n",
    "    spop=combineYears(spop1850,spop1860)\n",
    "    spop=combineAges(spop)\n",
    "    spop=addMidageCols(spop)\n",
    "    #  separate males and females b/c joins only work on a single variable\n",
    "    males=spop.where(spop['sex'] == 'MALES')\n",
    "    females=spop.where(spop['sex'] == 'FEMALES')\n",
    "    #  join with self (very clever) matching midAge and midAge10 !\n",
    "    males=males.join('midAge10',males,'midAge')\n",
    "    females=females.join('midAge10',females,'midAge')\n",
    "    # and the suvival rate calculation\n",
    "    males.append_column('surv5060',males.apply(lambda n1850,n1860:(n1860/n1850), ['N1850','N1860_2']))\n",
    "    females.append_column('surv5060',females.apply(lambda n1850,n1860:(n1860/n1850), ['N1850','N1860_2']))\n",
    "\n",
    "    res=females.append(males)\n",
    "\n",
    "    return(res.sort('midAge').sort('sex'))\n",
    "\n",
    "#################################################################\n",
    "## Now let's test  the function  and draw a scatter\n",
    "################################################################\n",
    "s50=slaves1850.groups(['loAge','hiAge','sex','agesex'], sum)\n",
    "s60=slaves1860.groups(['loAge','hiAge','sex','agesex'], sum)\n",
    "\n",
    "slaveSurv=getSurv(s50,s60)\n",
    "slaveSurv.to_csv(\"SlaveSurvivalRates1850_60.csv\")\n",
    "slaveSurv.drop(['agesex_2','sex_2']).show()\n",
    "fSurv=slaveSurv.where(slaveSurv.column('sex') == 'FEMALES')\n",
    "mSurv=slaveSurv.where(slaveSurv.column('sex') == 'MALES')\n",
    "## plot male and female survival rates against midAge\n",
    "fSurv.select(['midAge','surv5060']).join('midAge',mSurv.select(['midAge','surv5060'])).relabel('surv5060','FemSurv').\\\n",
    "relabel('surv5060_2','MalSurv').scatter('midAge',select=['FemSurv','MalSurv'])\n",
    "    "
   ]
  },
  {
   "cell_type": "markdown",
   "metadata": {},
   "source": [
    "# So there...  We now have before us some estimates of the 10 year survival probabilities of US resident slaves in 1850. \n",
    "\n",
    "## But are they any good?\n",
    "\n",
    "In a perfect world<sup id=\"a1\">[1](#f1)</sup> , we would know the exact dates of birht and death of everyone in the population.  We of course have nothing like that. What we have are two observations made 10 years apart.  At each point in time the population of living slaves was assigned to age categories by either their owners or the census enumerator (generally the county sheriff).   This is quite different from the perfect set up.  \n",
    "\n",
    "Let's consider some of the implications:\n",
    "\n",
    "<ol>\n",
    "<li> What do we make of the rising survival probability at the oldest age group?\n",
    "<li> What do we make of the probability of survival from 0-4 to 10-14 for male slaves ... can it really be greater than 1 ?\n",
    "</ol>\n",
    "\n",
    "## For next week...\n",
    "\n",
    "<ol>\n",
    "<li> review the code in the notebook to make sure that you understand:\n",
    "<ul>\n",
    "<li> What we have done to produce these survival probabilities\n",
    "<li> What these survival probabilities really are\n",
    "</ul>\n",
    "<li> Develop a cocktail party level understanding of infant and child mortality patterns today and in the 19th Century. so that we can start next week with a discussion of how we might improve these survival probability estimates.  To that end:\n",
    "<ol>\n",
    "<li> Read Postell (1952) which includes a calculation of both fertility and infant mortality rates based on a different kind of set from what we have.  Read this paper critically. For our purpose, this is both a secondary and a primary source.  We are interested both in 1850 <b>and</b> 1950.\n",
    "<li> Visit this UNICEF site, http://data.unicef.org/child-mortality/under-five.html and look at the data that they provide on infant and child mortality in various regions currently and back to the middle of the 20th Century.\n",
    "</ol>\n",
    "</ol>\n"
   ]
  },
  {
   "cell_type": "code",
   "execution_count": null,
   "metadata": {
    "collapsed": false
   },
   "outputs": [],
   "source": [
    "\n",
    "\n",
    "### OBSOLETE   now embedded in function above\n",
    "\n",
    "### OK Let's proceed. In order to calculate the survival rates defined above, we are going\n",
    "## to have to combine a few age categories so that we will be able to compare them with their\n",
    "## corresponding quantities 10 years later. \n",
    "\n",
    "# For example,  we have age 0 and 1-4  ... and then we have age 10-14  If we have age 10  and 11-14 all would be great\n",
    "# but we do not so we'll have to combine 1 and 1-4.  A process which turns out to be kind of tedious with our \n",
    "# current tool set.\n",
    "\n",
    "# extract age 0 and 1-4 for each state and sum the Ns\n",
    "temp=spopByYear.where(spopByYear.column('loAge')<= 1).groups(['sex'],sum)\n",
    "# extract 10-14 and 15-19 for each state and sum the Ns\n",
    "temp2=spopByYear.where(spopByYear.column('loAge'), are.between_or_equal_to(10,15)).groups(['sex'],sum)\n",
    "\n",
    "temp.show()\n",
    "temp2.show()\n",
    "## correct the loAge and hiAge  which were also summed in the previous operation\n",
    "temp.append_column('loAge sum',0)\n",
    "temp.append_column('hiAge sum',4)\n",
    "temp2.append_column('loAge sum',10)\n",
    "temp2.append_column('hiAge sum',19)\n",
    "## combine temp and temp2\n",
    "temp=temp.with_rows(temp2.to_array())\n",
    "## change columnnames of temp\n",
    "temp.relabel('loAge sum','loAge')\n",
    "temp.relabel('hiAge sum','hiAge')\n",
    "temp.relabel('N1850 sum','N1850')\n",
    "temp.relabel('N1860 sum', 'N1860')\n",
    "temp.append_column('agesex sum',['FEMALES.0.4','MALES.0.4','FEMALES.10.19','MALES.10.19'])\n",
    "temp.relabel('agesex sum','agesex')\n",
    "temp.show()\n",
    "spopByYearx=spopByYear.where(spopByYear.column('loAge') >1).with_rows(\n",
    "    temp.select(['agesex','sex','loAge','hiAge','N1850','N1860']).to_array())\n",
    "\n",
    "\n",
    "spopByYearx.append_column('midAge',spopByYearx.apply(lambda hi, lo :(lo+hi)/2, ['loAge','hiAge']))\n",
    "\n",
    "spopByYearx.sort('loAge')\n",
    "print('NOTICE that our age categories are NO LONGER NON-OVERLAPPING')"
   ]
  },
  {
   "cell_type": "code",
   "execution_count": null,
   "metadata": {
    "collapsed": false
   },
   "outputs": [],
   "source": [
    "## now the magic part: getting mortality rates out of spopByYearx\n",
    "## first trick add a mid point of the age range\n",
    "spopByYearx.append_column('midAge',spopByYearx.apply(lambda hi,lo : (hi+lo)/2, ['hiAge','loAge']))\n",
    "## and add another variable that is 10 more than the midpoint of the age range\n",
    "spopByYearx.append_column('midAge10',spopByYearx.apply(lambda mid : (mid+10), ['midAge']))\n",
    "spopByYearx.show(5)\n",
    "\n",
    "males5060=spopByYearx.where(spopByYearx['sex'] == 'MALES')\n",
    "females5060=spopByYearx.where(spopByYearx['sex'] == 'FEMALES')\n",
    "\n",
    "males5060=males5060.join('midAge10',males5060,'midAge' )\n",
    "females5060=females5060.join('midAge10',females5060,'midAge' )\n",
    "\n",
    "## and here is where we get the survival rates\n",
    "males5060.append_column('surv5060',males5060.apply(lambda n1850, n1860 : (n1860/n1850) , ['N1850','N1860_2']))\n",
    "print(\"Male survival rates for slaves in the US 1850-60\")\n",
    "males5060.select(['agesex','agesex_2','N1850','N1860','N1860','N1860_2','surv5060']).show()\n",
    "\n",
    "females5060.append_column('surv5060',females5060.apply(lambda n1850, n1860 : (n1860/n1850) , ['N1850','N1860_2']))\n",
    "print(\"Female survival rates for slaves in the US 1850-60\")\n",
    "\n",
    "females5060.select(['agesex','agesex_2','N1850','N1860','N1860','N1860_2','surv5060']).show()\n",
    "      \n",
    "  "
   ]
  },
  {
   "cell_type": "code",
   "execution_count": null,
   "metadata": {
    "collapsed": false
   },
   "outputs": [],
   "source": []
  },
  {
   "cell_type": "code",
   "execution_count": null,
   "metadata": {
    "collapsed": false
   },
   "outputs": [],
   "source": []
  },
  {
   "cell_type": "code",
   "execution_count": null,
   "metadata": {
    "collapsed": true
   },
   "outputs": [],
   "source": []
  },
  {
   "cell_type": "markdown",
   "metadata": {},
   "source": [
    "<img src=\"http://images.slideplayer.com/13/3828559/slides/slide_4.jpg\">\n"
   ]
  },
  {
   "cell_type": "markdown",
   "metadata": {},
   "source": [
    "https://www.google.com/url?sa=i&rct=j&q=&esrc=s&source=images&cd=&cad=rja&uact=8&ved=0ahUKEwij5unfl7rNAhVT2GMKHYGKAaEQjRwIBw&url=http%3A%2F%2Fslideplayer.com%2Fslide%2F3828559%2F&psig=AFQjCNHZaJXmI6Ww060hSrcu3wo6L9D9kw&ust=1466635127084012"
   ]
  }
 ],
 "metadata": {
  "anaconda-cloud": {},
  "kernelspec": {
   "display_name": "Python 3",
   "language": "python",
   "name": "python3"
  },
  "language_info": {
   "codemirror_mode": {
    "name": "ipython",
    "version": 3
   },
   "file_extension": ".py",
   "mimetype": "text/x-python",
   "name": "python",
   "nbconvert_exporter": "python",
   "pygments_lexer": "ipython3",
   "version": "3.5.2"
  }
 },
 "nbformat": 4,
 "nbformat_minor": 0
}
