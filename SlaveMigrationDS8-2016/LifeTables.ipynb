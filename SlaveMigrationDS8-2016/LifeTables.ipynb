{
 "cells": [
  {
   "cell_type": "markdown",
   "metadata": {
    "collapsed": false
   },
   "source": [
    "# Life Tables:  a deeper look at mortality\n",
    "\n",
    "This week we will build on the survival probabilities that we developed last week in the hopes of learning more stuff about the lives of US slaves.  \n",
    "\n",
    "The plan is to construct a 'life table' -- which is a way of presenting survival probabilities that allow us to calculate other interesting quantities and also to compare the life course of our population of interest with that of other populations.\n"
   ]
  },
  {
   "cell_type": "code",
   "execution_count": 2,
   "metadata": {
    "collapsed": false
   },
   "outputs": [],
   "source": [
    "# Run this cell, but please don't change it.\n",
    "\n",
    "# These lines import the Numpy and Datascience modules.\n",
    "import numpy as np\n",
    "from datascience import *\n",
    "#from datascience.predicates import are\n",
    "# These lines do some fancy plotting magic\n",
    "import matplotlib\n",
    "%matplotlib inline\n",
    "import matplotlib.pyplot as plots\n",
    "plots.style.use('fivethirtyeight')\n",
    "from datascience.predicates import are\n",
    "import math"
   ]
  },
  {
   "cell_type": "markdown",
   "metadata": {},
   "source": [
    "<h2>What do we think about these survival probabilities</h2>\n",
    "\n",
    "Over the last week, you (hopefuly) spent some time developing a casual expertise regarding $19^{th}$ century infant and child mortality.  Based on what you now know... what do you think?\n",
    "\n",
    "let's take a look at a few of them just to remind ourselves of what we are woking with.\n",
    "\n"
   ]
  },
  {
   "cell_type": "code",
   "execution_count": 5,
   "metadata": {
    "collapsed": false
   },
   "outputs": [
    {
     "data": {
      "text/html": [
       "<table border=\"1\" class=\"dataframe\">\n",
       "    <thead>\n",
       "        <tr>\n",
       "            <th>sex</th> <th>midAge</th> <th>loAge</th> <th>hiAge</th> <th>surv5060</th>\n",
       "        </tr>\n",
       "    </thead>\n",
       "    <tbody>\n",
       "        <tr>\n",
       "            <td>FEMALES</td> <td>2     </td> <td>0    </td> <td>4    </td> <td>0.96641 </td>\n",
       "        </tr>\n",
       "    </tbody>\n",
       "        <tr>\n",
       "            <td>FEMALES</td> <td>7     </td> <td>5    </td> <td>9    </td> <td>0.952182</td>\n",
       "        </tr>\n",
       "    </tbody>\n",
       "        <tr>\n",
       "            <td>FEMALES</td> <td>14.5  </td> <td>10   </td> <td>19   </td> <td>0.867193</td>\n",
       "        </tr>\n",
       "    </tbody>\n",
       "        <tr>\n",
       "            <td>FEMALES</td> <td>24.5  </td> <td>20   </td> <td>29   </td> <td>0.780687</td>\n",
       "        </tr>\n",
       "    </tbody>\n",
       "        <tr>\n",
       "            <td>FEMALES</td> <td>34.5  </td> <td>30   </td> <td>39   </td> <td>0.779428</td>\n",
       "        </tr>\n",
       "    </tbody>\n",
       "</table>\n",
       "<p>... (6 rows omitted)</p"
      ],
      "text/plain": [
       "<IPython.core.display.HTML object>"
      ]
     },
     "metadata": {},
     "output_type": "display_data"
    },
    {
     "data": {
      "text/html": [
       "<table border=\"1\" class=\"dataframe\">\n",
       "    <thead>\n",
       "        <tr>\n",
       "            <th>sex</th> <th>midAge</th> <th>loAge</th> <th>hiAge</th> <th>surv5060</th>\n",
       "        </tr>\n",
       "    </thead>\n",
       "    <tbody>\n",
       "        <tr>\n",
       "            <td>MALES</td> <td>2     </td> <td>0    </td> <td>4    </td> <td>1.03681 </td>\n",
       "        </tr>\n",
       "    </tbody>\n",
       "        <tr>\n",
       "            <td>MALES</td> <td>7     </td> <td>5    </td> <td>9    </td> <td>0.921583</td>\n",
       "        </tr>\n",
       "    </tbody>\n",
       "        <tr>\n",
       "            <td>MALES</td> <td>14.5  </td> <td>10   </td> <td>19   </td> <td>0.893296</td>\n",
       "        </tr>\n",
       "    </tbody>\n",
       "        <tr>\n",
       "            <td>MALES</td> <td>24.5  </td> <td>20   </td> <td>29   </td> <td>0.754211</td>\n",
       "        </tr>\n",
       "    </tbody>\n",
       "        <tr>\n",
       "            <td>MALES</td> <td>34.5  </td> <td>30   </td> <td>39   </td> <td>0.803249</td>\n",
       "        </tr>\n",
       "    </tbody>\n",
       "</table>\n",
       "<p>... (6 rows omitted)</p"
      ],
      "text/plain": [
       "<IPython.core.display.HTML object>"
      ]
     },
     "metadata": {},
     "output_type": "display_data"
    }
   ],
   "source": [
    "## read and remind ourselves about the survival rates that we have wrested from the old cenus data\n",
    "slavSurv=Table.read_table(\"SlaveSurvivalRates1850_60.csv\").select(['sex','midAge','loAge','hiAge','surv5060'])\n",
    "slavSurv.where('sex','FEMALES').show(5)\n",
    "slavSurv.where('sex','MALES').show(5)\n"
   ]
  },
  {
   "cell_type": "markdown",
   "metadata": {},
   "source": []
  },
  {
   "cell_type": "markdown",
   "metadata": {},
   "source": [
    "## Mortality is more than just survival (probabilities)\n",
    "\n",
    "It turns out that we (demographers) can do rather a lot with a set of age specific mortality rates. \n",
    "For example we can calculate life expectancies and, in the context of known population growth rates, we can\n",
    "also say something interesting about fertility.\n",
    "\n",
    "To do these things, it is convenient to construct what is called a \"life table\"  Like the other tables that we\n",
    "have experineced in DS8,  it is an array of numbers where columns are \"vectors\" of quantities arranged according to\n",
    "something displayed on the rows.\n",
    "\n",
    "the columns of a life table include the following :\n",
    "<ol>\n",
    "<li> $x$ : the inclusive lower bound of the age category\n",
    "<li> $n$ : the width of the age category\n",
    "<li> $_na_x$ : generally the midpoint of the age category (technically its the average point within the age interval at which people who die, die)\n",
    "<li> $l_x$ : the number of people observed alive at the beginning of an age cateogry. This is the key column, from which all the columns below are derived. We can figure this on out because we know the <b>rates of survival across all the age categories.</b>  but its going to take a little work.\n",
    "\n",
    "<li> $_nq_x$ : the probablility of death by age $x+n$ conditional on having survived to age x ($1-(l_{x+n}/l_x)$)\n",
    "<li> $_nd_x$ : number of deaths between age $x$ and $x+n$ ($l_{x+n}-l_x$)\n",
    "<li> $_nL_x$ : person years lived between ages $x$ and $x+n$ (  $(n)(l_{x+n})+(_na_x)(_nd_x)$)\n",
    "<li> $T_x$ : remaining person years at age $x$ until extinction ($\\sum_{a=x}^{\\infty} {_nL_a}$)\n",
    "<li> $e_x$ : Expectation of life at age $x$ ($T_x /l_x$)\n",
    "\n",
    "</ol>\n",
    "\n",
    "Before you panic please notice a couple of things.  First,  only a few columns are intrinsically interesting -- cheif among them the $e_x$ column which gives us life expectancy. Is there a more important number in any social science? \n",
    "The rest of the columns are there mainly to help us calculage $e_x$. \n",
    "\n",
    "Second, while the notation might be confusing, <b>NONE of this is conceptually difficult.</b> \n"
   ]
  },
  {
   "cell_type": "code",
   "execution_count": null,
   "metadata": {
    "collapsed": false
   },
   "outputs": [],
   "source": [
    "#np.array([1,2,3])**np.array([2,4,6])\n",
    "#.867**(1/10)\n",
    "slavSurv.append_column('s5060an',slavSurv['surv5060']**(1/10))\n",
    "#x5= \n",
    "(slavSurv[\"surv5060\"][0]**(1/5)) * (slavSurv[\"surv5060\"][1]**(1/5))\n",
    "#slavSurv['s5060an'][2]**5\n",
    "#**(1/5)\n",
    "#x=annualizedSurv\n",
    "#x[1]=slavSurv['surv5060'][1]/x[2]\n",
    "#slavSurv.where('sex','FEMALES').where('loAge',5).column('surv5060') / annualizedSurv\n"
   ]
  },
  {
   "cell_type": "markdown",
   "metadata": {},
   "source": [
    "<h2>Using survival probabilities to find the $l_x$ column</h2>\n",
    "\n",
    "This is the key to the whole lifetable construction enterprise:\n",
    "\n",
    "Let's begin with some assumptions:\n",
    "<ol>\n",
    "<li> Lets assume that the mortality experience over the 10 years from 1850 - 1860 is constant across years. This means that the probability of say a new born (in say 1852) surviving upto her 5th birthday (in 1857) is the same as a different new born in say 1854 celebrating her 5th birthday in 1857.  In other words: same ages, same survival probabilities regardless of the year (between 1850 and 1860).  What do you think if this assumption?\n",
    "\n",
    "\n",
    "<li> Let's assume further that (to the extent possible) the mortality probability <i>within</i> age categories is also constant. In other words, the probability of suriving from one's 2nd birthday to one's third is the same as from the 3rd to 4th --BUT NOT the same as between the 6th and 7th (which is within a different age category on our table).  What do you think of this assumption ?\n",
    "</ol>\n",
    "\n",
    "For our present purpose, we can model survival as a coin toss.  Each  person is born with a coin whose probability of heads (survival) changes with age, and she tosses it once a year to determine whether or not she will see her next birthday.  \n",
    "<li> Let's assume that survival is like tossing a coin -- happily in this case it is NOT a \"fair\" coin but rather a coin that lands \"heads\" most of the time.  If you are 20 year old female slave in 1850 (and you have the time and curiousity .. and I guess courage and a metaphysical imagination) you can toss that coin (of survival) say 10 times 1000 times (thats 1000 sets of 10 coin tosses).  Then count it up and about 7811 times out of 10,000 you will get 10 heads in a row. \n",
    "Mathematically we can ask ourselves then what \n",
    "toss that coin (of survival) lots of times.  Suten times and expect to get 10 heads in a row 78.0687 percent of the times.\n",
    "\n",
    "The probability of 10 consecutive heads from a coin where the probability of heads on each toss is $p$ is $p^{10}$ or $p*p*p*p*p*p*p*p*p*p$ (there should be 10 $p$'s in that expression).\n",
    "<ol>\n",
    "\n"
   ]
  },
  {
   "cell_type": "code",
   "execution_count": null,
   "metadata": {
    "collapsed": false
   },
   "outputs": [],
   "source": [
    "# Now to build that life table\n",
    "tab=slavSurv.where(slavSurv.column('sex') == 'MALES')\n",
    "\n",
    "x=tab['loAge']\n",
    "n=tab['hiAge']-tab['loAge']+1\n",
    "nax= .5*n\n",
    "## Now ti tge lx column. This is the important one and will require some thoughful assumptions\n",
    "## first let's assume because we can't do anything better that the one year probabilities of survival are constant across\n",
    "## both age and time. this is a HUGE assumption which is most certainly wrong for infants and the very old. It's probably\n",
    "## OK for most ages and... since we have 10 years between observations .  What it means is that a person who is say 22 years old in 1850 has the same\n",
    "## probability of dying in the next year as a person who is say 27 years old in 1850 -- AND the same probability\n",
    "## of dying in the next year as a person who is say 25 years old in 1857.  Got that?  \n",
    "## It mean that the probability of a 20 year old female slave surviving to age 21 is .780687^(1/10) \n",
    "## why?  because the probability of this person surviving 10 years is given in the slavSurv table as .780687 \n",
    "## and to survive 10 years is to roll the dice 10 times. \n",
    "## To beat this to death ... consider a fair coin: what is the probability of tossing 2 heads in a row?\n",
    "## why it's (1/2)^2 = 1/4.  and how about tossing ten heads in a row?  (1/2)^10=0.0009765625\n",
    "annual_surv=tab['surv5060']**(1/10)\n",
    "temp=annual_surv**n\n",
    "temp.cumprod()\n",
    "#temp1 = lambda  surv,lo,hi :math.pow(surv,((hi-lo+1)/10)) ,['surv5060','loAge','hiAge'] ))\n",
    "#temp1=math.pow(tab['surv5060'],n/10)\n",
    "#temp1\n",
    "\n",
    "#lx.append('survAC',slavSurv.apply(lambda surv,lo,hi :math.pow(surv,((hi-lo+1)/10)) ,['surv5060','loAge','hiAge'] ))\n",
    "#malSurv=slavSurv.where(slavSurv.column('sex') == 'MALES')\n",
    "\n",
    "\n",
    "#lx=\n",
    "#slavSurv.append_column('survAC',slavSurv.apply(lambda surv,lo,hi :math.pow(surv,((hi-lo+1)/10)) ,['surv5060','loAge','hiAge'] ))\n",
    "#femSurv=slavSurv.where(slavSurv.column('sex') == 'FEMALES')\n",
    "#nax\n"
   ]
  },
  {
   "cell_type": "code",
   "execution_count": null,
   "metadata": {
    "collapsed": false
   },
   "outputs": [],
   "source": [
    "ptab=malSurv.to_df()\n",
    "ptab"
   ]
  },
  {
   "cell_type": "code",
   "execution_count": null,
   "metadata": {
    "collapsed": false
   },
   "outputs": [],
   "source": [
    "slavSurv=Table.read_table(\"SlaveSurvivalRates1850_60.csv\").select(['sex','midAge','loAge','hiAge','surv5060'])\n",
    "#slavSurv.show\n",
    "## convert 10 year to annual survival rate\n",
    "#slavSurv.show(5)\n",
    "slavSurv.append_column('survAC',slavSurv.apply(lambda surv,lo,hi :math.pow(surv,((hi-lo+1)/10)) ,['surv5060','loAge','hiAge'] ))\n",
    "malSurv=slavSurv.where(slavSurv.column('sex') == 'MALES')\n",
    "femSurv=slavSurv.where(slavSurv.column('sex') == 'FEMALES')\n",
    "#malSurv.show()\n",
    "radix=10000\n",
    "c_lx=[] ;c_x=[]\n",
    "tab=malSurv.copy()\n",
    "for i in range(0,tab.num_rows) :\n",
    "    #print(tab.row(i)[1])\n",
    "    midAge,loAge,hiAge =tab.row(i)[1:4]  #grabs 2nd 3rd and 4th columns aka 0th through 3rd\n",
    "    survAC=tab.row(i)[5]\n",
    "    if (i == 0) :\n",
    "        lx=radix\n",
    "    else :\n",
    "        lx= lx*survAC\n",
    "    \n",
    "    c_lx.append(lx)\n",
    "    c_x.append(loAge)\n",
    "    \n",
    "c_nqx=[]\n",
    "c_ndx=[]\n",
    "for i in range(0,tab.num_rows) :\n",
    "    #print( c_lx[i])\n",
    "    if (i < tab.num_rows):\n",
    "        c_nqx.append(1- (c_lx[i+1]/c_lx[i]))    \n",
    "        c_ndx.append(c_lx[i] - c_lx[i+1])\n",
    "    else :\n",
    "        c_nqx.append(1)\n",
    "        c_ndx.append(c_lx[i])\n",
    "    \n",
    "    "
   ]
  }
 ],
 "metadata": {
  "anaconda-cloud": {},
  "kernelspec": {
   "display_name": "Python 3",
   "language": "python",
   "name": "python3"
  },
  "language_info": {
   "codemirror_mode": {
    "name": "ipython",
    "version": 3
   },
   "file_extension": ".py",
   "mimetype": "text/x-python",
   "name": "python",
   "nbconvert_exporter": "python",
   "pygments_lexer": "ipython3",
   "version": "3.5.2"
  }
 },
 "nbformat": 4,
 "nbformat_minor": 0
}
