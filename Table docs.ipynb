{
 "cells": [
  {
   "cell_type": "code",
   "execution_count": 1,
   "metadata": {
    "collapsed": false
   },
   "outputs": [],
   "source": [
    "import matplotlib\n",
    "from datascience import Table\n",
    "%matplotlib inline\n",
    "import matplotlib.pyplot as plt\n",
    "import numpy as np\n",
    "plt.style.use('fivethirtyeight')"
   ]
  },
  {
   "cell_type": "markdown",
   "metadata": {},
   "source": [
    "## Notation:\n",
    "    \n",
    "    - .function_name : denotes that the table name goes before the dot and the name of the function after.\n",
    "    (e.g.  .select([column labels]) = twitter_data.select(['id','date'])\n",
    "    \n",
    "    - () : denotes that the function takes no arguments and is called on the table object named before the function.\n",
    "    (e.g. twitter_data.num_rows() gives you the number of rows for twitter_data)\n",
    "    \n",
    "    - [] : denotes that whats inside the [] should be an array of elements \n",
    "    (e.g.   [places] = [first, second, third])\n",
    "    \n",
    "    - {T/F} : denotes that either a True or False boolean can replace the {T/F} \n",
    "    (e.g.  (descending = {T/F}) = (descending = True))\n",
    "    \n",
    "    - {fn} : denotes what you could replace with a function (usually specific to table)\n",
    "    (e.g. collect = {fn} could be collect = np.mean or even a function you create)\n",
    "    \n",
    "    - {val} : denotes what you could replace with a value (string, float, int, variable) \n",
    "    (e.g. zero = {val} could be zero = 'nan')\n",
    "    \n",
    "### For more resources:\n",
    "http://data8.org/data8assets/exam/data8_sp16_midterm_study_guide.pdf\n",
    "\n",
    "http://data8.org/data8assets/exam/data8_sp16_final_study_guide.pdf"
   ]
  },
  {
   "cell_type": "markdown",
   "metadata": {},
   "source": [
    "# Importing a table\n",
    "\n",
    "### This is where you start a data analysis, by finding, cleaning and importing your data\n",
    "\n",
    "- Table.read_table(file link): Creates table from a data file (.csv,.txt) in the same jupyter folder as active notebook, or from a URL. Either way, arguments can be added to the call for more complex data formats.\n",
    "\n",
    "For this it is essential to know what you are importing, so in this case, I refer to the documentation and see this:\n",
    "0 - the polarity of the tweet (0 = negative, 2 = neutral, 4 = positive)\n",
    "\n",
    "1 - the id of the tweet (2087)\n",
    "\n",
    "2 - the date of the tweet (Sat May 16 23:58:44 UTC 2009)\n",
    "\n",
    "3 - the query (lyx). If there is no query, then this value is NO_QUERY.\n",
    "\n",
    "4 - the user that tweeted (robotickilldozr)\n",
    "\n",
    "5 - the text of the tweet (Lyx is cool)\n",
    "\n",
    "http://help.sentiment140.com/for-students/\n",
    "http://www.cs.columbia.edu/~julia/papers/Agarwaletal11.pdf\n"
   ]
  },
  {
   "cell_type": "code",
   "execution_count": 2,
   "metadata": {
    "collapsed": false,
    "scrolled": true
   },
   "outputs": [
    {
     "data": {
      "text/html": [
       "<table border=\"1\" class=\"dataframe\">\n",
       "    <thead>\n",
       "        <tr>\n",
       "            <th>0</th> <th>1</th> <th>2</th> <th>3</th> <th>4</th> <th>5</th>\n",
       "        </tr>\n",
       "    </thead>\n",
       "    <tbody>\n",
       "        <tr>\n",
       "            <td>4   </td> <td>3   </td> <td>Mon May 11 03:17:40 UTC 2009</td> <td>kindle2</td> <td>tpryan      </td> <td>@stellargirl I loooooooovvvvvveee my Kindle2. Not that t ...</td>\n",
       "        </tr>\n",
       "    </tbody>\n",
       "        <tr>\n",
       "            <td>4   </td> <td>4   </td> <td>Mon May 11 03:18:03 UTC 2009</td> <td>kindle2</td> <td>vcu451      </td> <td>Reading my kindle2...  Love it... Lee childs is good read.  </td>\n",
       "        </tr>\n",
       "    </tbody>\n",
       "        <tr>\n",
       "            <td>4   </td> <td>5   </td> <td>Mon May 11 03:18:54 UTC 2009</td> <td>kindle2</td> <td>chadfu      </td> <td>Ok, first assesment of the #kindle2 ...it fucking rocks!!!  </td>\n",
       "        </tr>\n",
       "    </tbody>\n",
       "        <tr>\n",
       "            <td>4   </td> <td>6   </td> <td>Mon May 11 03:19:04 UTC 2009</td> <td>kindle2</td> <td>SIX15       </td> <td>@kenburbary You'll love your Kindle2. I've had mine for  ...</td>\n",
       "        </tr>\n",
       "    </tbody>\n",
       "        <tr>\n",
       "            <td>4   </td> <td>7   </td> <td>Mon May 11 03:21:41 UTC 2009</td> <td>kindle2</td> <td>yamarama    </td> <td>@mikefish  Fair enough. But i have the Kindle2 and I thi ...</td>\n",
       "        </tr>\n",
       "    </tbody>\n",
       "        <tr>\n",
       "            <td>4   </td> <td>8   </td> <td>Mon May 11 03:22:00 UTC 2009</td> <td>kindle2</td> <td>GeorgeVHulme</td> <td>@richardebaker no. it is too big. I'm quite happy with t ...</td>\n",
       "        </tr>\n",
       "    </tbody>\n",
       "        <tr>\n",
       "            <td>0   </td> <td>9   </td> <td>Mon May 11 03:22:30 UTC 2009</td> <td>aig    </td> <td>Seth937     </td> <td>Fuck this economy. I hate aig and their non loan given a ...</td>\n",
       "        </tr>\n",
       "    </tbody>\n",
       "        <tr>\n",
       "            <td>4   </td> <td>10  </td> <td>Mon May 11 03:26:10 UTC 2009</td> <td>jquery </td> <td>dcostalis   </td> <td>Jquery is my new best friend.                               </td>\n",
       "        </tr>\n",
       "    </tbody>\n",
       "        <tr>\n",
       "            <td>4   </td> <td>11  </td> <td>Mon May 11 03:27:15 UTC 2009</td> <td>twitter</td> <td>PJ_King     </td> <td>Loves twitter                                               </td>\n",
       "        </tr>\n",
       "    </tbody>\n",
       "        <tr>\n",
       "            <td>4   </td> <td>12  </td> <td>Mon May 11 03:29:20 UTC 2009</td> <td>obama  </td> <td>mandanicole </td> <td>how can you not love Obama? he makes jokes about himself.   </td>\n",
       "        </tr>\n",
       "    </tbody>\n",
       "</table>\n",
       "<p>... (488 rows omitted)</p"
      ],
      "text/plain": [
       "0    | 1    | 2                            | 3       | 4            | 5\n",
       "4    | 3    | Mon May 11 03:17:40 UTC 2009 | kindle2 | tpryan       | @stellargirl I loooooooovvvvvveee my Kindle2. Not that t ...\n",
       "4    | 4    | Mon May 11 03:18:03 UTC 2009 | kindle2 | vcu451       | Reading my kindle2...  Love it... Lee childs is good read.\n",
       "4    | 5    | Mon May 11 03:18:54 UTC 2009 | kindle2 | chadfu       | Ok, first assesment of the #kindle2 ...it fucking rocks!!!\n",
       "4    | 6    | Mon May 11 03:19:04 UTC 2009 | kindle2 | SIX15        | @kenburbary You'll love your Kindle2. I've had mine for  ...\n",
       "4    | 7    | Mon May 11 03:21:41 UTC 2009 | kindle2 | yamarama     | @mikefish  Fair enough. But i have the Kindle2 and I thi ...\n",
       "4    | 8    | Mon May 11 03:22:00 UTC 2009 | kindle2 | GeorgeVHulme | @richardebaker no. it is too big. I'm quite happy with t ...\n",
       "0    | 9    | Mon May 11 03:22:30 UTC 2009 | aig     | Seth937      | Fuck this economy. I hate aig and their non loan given a ...\n",
       "4    | 10   | Mon May 11 03:26:10 UTC 2009 | jquery  | dcostalis    | Jquery is my new best friend.\n",
       "4    | 11   | Mon May 11 03:27:15 UTC 2009 | twitter | PJ_King      | Loves twitter\n",
       "4    | 12   | Mon May 11 03:29:20 UTC 2009 | obama   | mandanicole  | how can you not love Obama? he makes jokes about himself.\n",
       "... (488 rows omitted)"
      ]
     },
     "execution_count": 2,
     "metadata": {},
     "output_type": "execute_result"
    }
   ],
   "source": [
    "Table.read_table('testdata.manual.2009.06.14.csv') #must be stored in same jupyter folder as active notebook"
   ]
  },
  {
   "cell_type": "code",
   "execution_count": 3,
   "metadata": {
    "collapsed": false
   },
   "outputs": [],
   "source": [
    "twitter_data = Table.read_table('testdata.manual.2009.06.14.csv') #to save the new table, name it"
   ]
  },
  {
   "cell_type": "markdown",
   "metadata": {},
   "source": [
    "- When loading a URL, also put it in quotes. The only thing to look for is make sure the link is a .txt or .csv file"
   ]
  },
  {
   "cell_type": "code",
   "execution_count": 4,
   "metadata": {
    "collapsed": false
   },
   "outputs": [
    {
     "data": {
      "text/html": [
       "<table border=\"1\" class=\"dataframe\">\n",
       "    <thead>\n",
       "        <tr>\n",
       "            <th>year</th> <th>month</th> <th>decimal_date</th> <th>average</th> <th>interpolated</th> <th>trend</th> <th>days</th>\n",
       "        </tr>\n",
       "    </thead>\n",
       "    <tbody>\n",
       "        <tr>\n",
       "            <td>1958</td> <td>3    </td> <td>1958.21     </td> <td>315.71 </td> <td>315.71      </td> <td>314.62</td> <td>nan </td>\n",
       "        </tr>\n",
       "    </tbody>\n",
       "        <tr>\n",
       "            <td>1958</td> <td>4    </td> <td>1958.29     </td> <td>317.45 </td> <td>317.45      </td> <td>315.29</td> <td>nan </td>\n",
       "        </tr>\n",
       "    </tbody>\n",
       "        <tr>\n",
       "            <td>1958</td> <td>5    </td> <td>1958.38     </td> <td>317.5  </td> <td>317.5       </td> <td>314.71</td> <td>nan </td>\n",
       "        </tr>\n",
       "    </tbody>\n",
       "        <tr>\n",
       "            <td>1958</td> <td>6    </td> <td>1958.46     </td> <td>nan    </td> <td>317.1       </td> <td>314.85</td> <td>nan </td>\n",
       "        </tr>\n",
       "    </tbody>\n",
       "        <tr>\n",
       "            <td>1958</td> <td>7    </td> <td>1958.54     </td> <td>315.86 </td> <td>315.86      </td> <td>314.98</td> <td>nan </td>\n",
       "        </tr>\n",
       "    </tbody>\n",
       "        <tr>\n",
       "            <td>1958</td> <td>8    </td> <td>1958.62     </td> <td>314.93 </td> <td>314.93      </td> <td>315.94</td> <td>nan </td>\n",
       "        </tr>\n",
       "    </tbody>\n",
       "        <tr>\n",
       "            <td>1958</td> <td>9    </td> <td>1958.71     </td> <td>313.2  </td> <td>313.2       </td> <td>315.91</td> <td>nan </td>\n",
       "        </tr>\n",
       "    </tbody>\n",
       "        <tr>\n",
       "            <td>1958</td> <td>10   </td> <td>1958.79     </td> <td>nan    </td> <td>312.66      </td> <td>315.61</td> <td>nan </td>\n",
       "        </tr>\n",
       "    </tbody>\n",
       "        <tr>\n",
       "            <td>1958</td> <td>11   </td> <td>1958.88     </td> <td>313.33 </td> <td>313.33      </td> <td>315.31</td> <td>nan </td>\n",
       "        </tr>\n",
       "    </tbody>\n",
       "        <tr>\n",
       "            <td>1958</td> <td>12   </td> <td>1958.96     </td> <td>314.67 </td> <td>314.67      </td> <td>315.61</td> <td>nan </td>\n",
       "        </tr>\n",
       "    </tbody>\n",
       "</table>\n",
       "<p>... (689 rows omitted)</p"
      ],
      "text/plain": [
       "year | month | decimal_date | average | interpolated | trend  | days\n",
       "1958 | 3     | 1958.21      | 315.71  | 315.71       | 314.62 | nan\n",
       "1958 | 4     | 1958.29      | 317.45  | 317.45       | 315.29 | nan\n",
       "1958 | 5     | 1958.38      | 317.5   | 317.5        | 314.71 | nan\n",
       "1958 | 6     | 1958.46      | nan     | 317.1        | 314.85 | nan\n",
       "1958 | 7     | 1958.54      | 315.86  | 315.86       | 314.98 | nan\n",
       "1958 | 8     | 1958.62      | 314.93  | 314.93       | 315.94 | nan\n",
       "1958 | 9     | 1958.71      | 313.2   | 313.2        | 315.91 | nan\n",
       "1958 | 10    | 1958.79      | nan     | 312.66       | 315.61 | nan\n",
       "1958 | 11    | 1958.88      | 313.33  | 313.33       | 315.31 | nan\n",
       "1958 | 12    | 1958.96      | 314.67  | 314.67       | 315.61 | nan\n",
       "... (689 rows omitted)"
      ]
     },
     "execution_count": 4,
     "metadata": {},
     "output_type": "execute_result"
    }
   ],
   "source": [
    "NOAA_data = Table.read_table('ftp://aftp.cmdl.noaa.gov/products/trends/co2/co2_mm_mlo.txt', comment = \"#\", \n",
    "                                 na_values = [-99.99, -1], delim_whitespace = True,\n",
    "                   names = [\"year\", \"month\", \"decimal_date\", \"average\", \"interpolated\", \"trend\", \"days\"])\n",
    "NOAA_data"
   ]
  },
  {
   "cell_type": "markdown",
   "metadata": {},
   "source": [
    "- As you can see, the call above not only called the table but also included other more complex calls to specifically format the table. This is rarely used in the main class but may be explored in the connectors. More info for what arguments to use can be found at http://pandas.pydata.org/pandas-docs/stable/generated/pandas.read_csv.html"
   ]
  },
  {
   "cell_type": "markdown",
   "metadata": {},
   "source": [
    "# Accessing Values\n",
    "### This gives you information from the table about values or the table as a whole\n",
    "Try uncommenting different different statements to view their multiple outputs\n",
    "\n",
    "#### These methods access values\n",
    "- Table_name[index or label] : Returns the column values under the column at that index or label. Remember indexes start at 0, and labels must be strings.\n",
    "\n",
    "\n",
    "- .labels() : Returns a tuple of the labels in order.\n",
    "\n",
    "\n",
    "- .row(index) // .column(index or label) : Returns an array of the row or column specified by the indexing/labels.\n",
    "\n",
    "\n",
    "- .column_index(label) : Returns the index of a column. \n",
    "\n",
    "\n",
    "#### These methods give you information about the table\n",
    "- .num_rows() // .num_columns() : Returns the number of rows/columns in the table\n",
    "\n",
    "\n",
    "- .rows() // .columns() : Returns an array with elements corresponding to the sequential elements of each row/column"
   ]
  },
  {
   "cell_type": "code",
   "execution_count": 5,
   "metadata": {
    "collapsed": false
   },
   "outputs": [
    {
     "name": "stdout",
     "output_type": "stream",
     "text": [
      "3\n"
     ]
    },
    {
     "data": {
      "text/plain": [
       "True"
      ]
     },
     "execution_count": 5,
     "metadata": {},
     "output_type": "execute_result"
    }
   ],
   "source": [
    "NOAA_data['average']                             #both the 'query' column\n",
    "#NOAA_data_url[3]\n",
    "print(NOAA_data.column_index('average'))         #returns 3\n",
    "NOAA_data['average'] is NOAA_data[3]         #each method refers to the same column so they are the same"
   ]
  },
  {
   "cell_type": "code",
   "execution_count": 6,
   "metadata": {
    "collapsed": false
   },
   "outputs": [
    {
     "name": "stdout",
     "output_type": "stream",
     "text": [
      "3\n"
     ]
    },
    {
     "data": {
      "text/plain": [
       "True"
      ]
     },
     "execution_count": 6,
     "metadata": {},
     "output_type": "execute_result"
    }
   ],
   "source": [
    "NOAA_data.column('average')                      #same exact results as above, just different ways to access column values\n",
    "#NOAA_data_url.column(3)\n",
    "print(NOAA_data.column_index('average'))               \n",
    "NOAA_data.column('average')  is NOAA_data.column(3)"
   ]
  },
  {
   "cell_type": "code",
   "execution_count": 7,
   "metadata": {
    "collapsed": false
   },
   "outputs": [
    {
     "data": {
      "text/plain": [
       "Row(0=4, 1=8, 2='Mon May 11 03:22:00 UTC 2009', 3='kindle2', 4='GeorgeVHulme', 5=\"@richardebaker no. it is too big. I'm quite happy with the Kindle2.\")"
      ]
     },
     "execution_count": 7,
     "metadata": {},
     "output_type": "execute_result"
    }
   ],
   "source": [
    "twitter_data.rows \n",
    "twitter_data.row(5)     #shows what data is contained in row #5, the tweet by GeorgeVHulme\n",
    "#twitter_data.row(600)  #index must be in range of table row nums"
   ]
  },
  {
   "cell_type": "code",
   "execution_count": 8,
   "metadata": {
    "collapsed": false
   },
   "outputs": [
    {
     "data": {
      "text/plain": [
       "array([ '@stellargirl I loooooooovvvvvveee my Kindle2. Not that the DX is cool, but the 2 is fantastic in its own right.',\n",
       "       'Reading my kindle2...  Love it... Lee childs is good read.',\n",
       "       'Ok, first assesment of the #kindle2 ...it fucking rocks!!!',\n",
       "       \"@kenburbary You'll love your Kindle2. I've had mine for a few months and never looked back. The new big one is huge! No need for remorse! :)\",\n",
       "       \"@mikefish  Fair enough. But i have the Kindle2 and I think it's perfect  :)\",\n",
       "       \"@richardebaker no. it is too big. I'm quite happy with the Kindle2.\",\n",
       "       'Fuck this economy. I hate aig and their non loan given asses.',\n",
       "       'Jquery is my new best friend.', 'Loves twitter',\n",
       "       'how can you not love Obama? he makes jokes about himself.',\n",
       "       \"Check this video out -- President Obama at the White House Correspondents' Dinner http://bit.ly/IMXUM\",\n",
       "       \"@Karoli I firmly believe that Obama/Pelosi have ZERO desire to be civil.  It's a charade and a slogan, but they want to destroy conservatism\",\n",
       "       'House Correspondents dinner was last night whoopi, barbara &amp; sherri went, Obama got a standing ovation',\n",
       "       'Watchin Espn..Jus seen this new Nike Commerical with a Puppet Lebron..sh*t was hilarious...LMAO!!!',\n",
       "       'dear nike, stop with the flywire. that shit is a waste of science. and ugly. love, @vincentx24x',\n",
       "       \"#lebron best athlete of our generation, if not all time (basketball related) I don't want to get into inter-sport debates about   __1/2\",\n",
       "       'I was talking to this guy last night and he was telling me that he is a die hard Spurs fan.  He also told me that he hates LeBron James.',\n",
       "       'i love lebron. http://bit.ly/PdHur',\n",
       "       \"@ludajuice Lebron is a Beast, but I'm still cheering 4 the A..til the end.\",\n",
       "       '@Pmillzz lebron IS THE BOSS',\n",
       "       \"@sketchbug Lebron is a hometown hero to me, lol I love the Lakers but let's go Cavs, lol\",\n",
       "       'lebron and zydrunas are such an awesome duo',\n",
       "       '@wordwhizkid Lebron is a beast... nobody in the NBA comes even close.',\n",
       "       'downloading apps for my iphone! So much fun :-) There literally is an app for just about anything.',\n",
       "       'good news, just had a call from the Visa office, saying everything is fine.....what a relief! I am sick of scams out there! Stealing!',\n",
       "       'http://twurl.nl/epkr4b - awesome come back from @biz (via @fredwilson)',\n",
       "       'In montreal for a long weekend of R&amp;R. Much needed.',\n",
       "       'Booz Allen Hamilton has a bad ass homegrown social collaboration platform. Way cool!  #ttiv',\n",
       "       '[#MLUC09] Customer Innovation Award Winner: Booz Allen Hamilton -- http://ping.fm/c2hPP',\n",
       "       '@SoChi2 I current use the Nikon D90 and love it, but not as much as the Canon 40D/50D. I chose the D90 for the  video feature. My mistake.',\n",
       "       'need suggestions for a good IR filter for my canon 40D ... got some? pls DM',\n",
       "       '@surfit: I just checked my google for my business- blip shows up as the second entry! Huh. Is that a good or ba... ? http://blip.fm/~6emhv',\n",
       "       \"@phyreman9 Google is always a good place to look. Should've mentioned I worked on the Mustang w/ my Dad, @KimbleT.\",\n",
       "       'Played with an android google phone. The slide out screen scares me I would break that fucker so fast. Still prefer my iPhone.',\n",
       "       'US planning to resume the military tribunals at Guantanamo Bay... only this time those on trial will be AIG execs and Chrysler debt holders',\n",
       "       'omg so bored &amp; my tattoooos are so itchy!!  help! aha =)',\n",
       "       \"I'm itchy and miserable!\",\n",
       "       \"@sekseemess no. I'm not itchy for now. Maybe later, lol.\",\n",
       "       'RT @jessverr I love the nerdy Stanford human biology videos - makes me miss school. http://bit.ly/13t7NR',\n",
       "       '@spinuzzi: Has been a bit crazy, with steep learning curve, but LyX is really good for long docs. For anything shorter, it would be insane.',\n",
       "       'I\\'m listening to \"P.Y.T\" by Danny Gokey &lt;3 &lt;3 &lt;3 Aww, he\\'s so amazing. I &lt;3 him so much :)',\n",
       "       'is going to sleep then on a bike ride:]',\n",
       "       'cant sleep... my tooth is aching.',\n",
       "       'Blah, blah, blah same old same old. No plans today, going back to sleep I guess.',\n",
       "       \"glad i didnt do Bay to Breakers today, it's 1000 freaking degrees in San Francisco wtf\",\n",
       "       'is in San Francisco at Bay to Breakers.',\n",
       "       'just landed at San Francisco',\n",
       "       'San Francisco today.  Any suggestions?',\n",
       "       '?Obama Administration Must Stop Bonuses to AIG Ponzi Schemers ... http://bit.ly/2CUIg',\n",
       "       'started to think that Citi is in really deep s&amp;^t. Are they gonna survive the turmoil or are they gonna be the next AIG?',\n",
       "       \"ShaunWoo hate'n on AiG\",\n",
       "       '@YarnThing you will not regret going to see Star Trek. It was AWESOME!',\n",
       "       'On my way to see Star Trek @ The Esquire.',\n",
       "       'Going to see star trek soon with my dad.',\n",
       "       'annoying new trend on the internets:  people picking apart michael lewis and malcolm gladwell.  nobody wants to read that.',\n",
       "       'Bill Simmons in conversation with Malcolm Gladwell http://bit.ly/j9o50',\n",
       "       'Highly recommend: http://tinyurl.com/HowDavidBeatsGoliath by Malcolm Gladwell',\n",
       "       'Blink by malcolm gladwell amazing book and The tipping point!',\n",
       "       'Malcolm Gladwell might be my new man crush',\n",
       "       'omg. The commercials alone on ESPN are going to drive me nuts.',\n",
       "       '@robmalon Playing with Twitter API sounds fun.  May need to take a class or find a new friend who like to generate results with API code.',\n",
       "       'playing with cURL and the Twitter API', 'Hello Twitter API ;)',\n",
       "       'playing with Java and the Twitter API',\n",
       "       \"@morind45 Because the twitter api is slow and most client's aren't good.\",\n",
       "       'yahoo answers can be a butt sometimes',\n",
       "       'is scrapbooking with Nic =D',\n",
       "       'RT @mashable: Five Things Wolfram Alpha Does Better (And Vastly Different) Than Google - http://bit.ly/6nSnR',\n",
       "       'just changed my default pic to a Nike basketball cause bball is awesome!!!!!',\n",
       "       'Nike owns NBA Playoffs ads w/ LeBron, Kobe, Carmelo? http://ow.ly/7Uiy  #Adidas #Billups #Howard  #Marketing #Branding',\n",
       "       \"'Next time, I'll call myself Nike'\",\n",
       "       \"New blog post: Nike SB Dunk Low Premium 'White Gum' http://tr.im/lOtT\",\n",
       "       'RT @SmartChickPDX: Was just told that Nike layoffs started today :-(',\n",
       "       'Back when I worked for Nike we had one fav word : JUST DO IT! :)',\n",
       "       \"By the way, I'm totally inspired by this freaky Nike commercial: http://snurl.com/icgj9\",\n",
       "       'giving weka an app engine interface, using the bird strike data for the tests, the logo is a given.',\n",
       "       'Brand New Canon EOS 50D 15MP DSLR Camera Canon 17-85mm IS Lens ...: Web Technology Thread, Brand New Canon EOS 5.. http://u.mavrev.com/5a3t',\n",
       "       'Class... The 50d is supposed to come today :)',\n",
       "       'needs someone to explain lambda calculus to him! :(',\n",
       "       'Took the Graduate Field Exam for Computer Science today.  Nothing makes you feel like more of an idiot than lambda calculus.',\n",
       "       'SHOUT OUTS TO ALL EAST PALO ALTO FOR BEING IN THE BUILDIN KARIZMAKAZE 50CAL GTA! ALSO THANKS TO PROFITS OF DOOM UNIVERSAL HEMPZ CRACKA......',\n",
       "       \"@legalgeekery Yeahhhhhhhhh, I wouldn't really have lived in East Palo Alto if I could have avoided it.  I guess it's only for the summer.\",\n",
       "       '@accannis @edog1203 Great Stanford course. Thanks for making it available to the public! Really helpful and informative for starting off!',\n",
       "       \"NVIDIA Names Stanford's Bill Dally Chief Scientist, VP Of Research http://bit.ly/Fvvg9\",\n",
       "       'New blog post: Harvard Versus Stanford - Who Wins? http://bit.ly/MCoCo',\n",
       "       '@ work til 6pm... lets go lakers!!!',\n",
       "       'Damn you North Korea. http://bit.ly/KtMeQ',\n",
       "       'Can we just go ahead and blow North Korea off the map already?',\n",
       "       \"North Korea, please cease this douchebaggery. China doesn't even like you anymore. http://bit.ly/NeHSl\",\n",
       "       'Why the hell is Pelosi in freakin China? and on whose dime?',\n",
       "       'Are YOU burning more cash $$$ than Chrysler and GM? Stop the financial tsunami. Where \"bailout\" means taking a handout!',\n",
       "       'insects have infected my spinach plant :(',\n",
       "       'wish i could catch every mosquito in the world n burn em slowly.they been bitin the shit outta me 2day.mosquitos are the assholes of insects',\n",
       "       'just got back from church, and I totally hate insects.',\n",
       "       \"Just got mcdonalds goddam those eggs make me sick. O yeah Laker up date go lakers. Not much of an update? Well it's true so suck it\",\n",
       "       'omgg i ohhdee want mcdonalds damn i wonder if its open lol =]',\n",
       "       'History exam studying ugh',\n",
       "       \"I hate revision, it's so boring! I am totally unprepared for my exam tomorrow :( Things are not looking good...\",\n",
       "       'Higher physics exam tommorow, not lookin forward to it much :(',\n",
       "       \"It's a bank holiday, yet I'm only out of work now. Exam season sucks:(\",\n",
       "       'Cheney and Bush are the real culprits - http://fwix.com/article/939496',\n",
       "       'Life?s a bitch? and so is Dick Cheney. #p2 #bipart #tlot #tcot #hhrs #GOP #DNC http://is.gd/DjyQ',\n",
       "       \"Dick Cheney's dishonest speech about torture, terror, and Obama. -Fred Kaplan Slate. http://is.gd/DiHg\",\n",
       "       '\"The Republican party is a bunch of anti-abortion zealots who couldn\\'t draw flies to a dump.\" -- Neal Boortz (just now, on the radio)',\n",
       "       \"is Twitter's connections API broken? Some tweets didn't make it to Twitter...\",\n",
       "       'i srsly hate the stupid twitter API timeout thing, soooo annoying!!!!! :(',\n",
       "       '@psychemedia I really liked @kswedberg\\'s \"Learning jQuery\" book. http://bit.ly/pg0lT is worth a look too',\n",
       "       'jQuery UI 1.6 Book Review - http://cfbloggers.org/?c=30631',\n",
       "       'Very Interesting Ad from Adobe by Goodby, Silverstein &amp; Partners - YouTube - Adobe CS4: Le Sens Propre http://bit.ly/VprpT',\n",
       "       'Goodby Silverstein agency new site! http://www.goodbysilverstein.com/ Great!',\n",
       "       \"RT @designplay Goodby, Silverstein's new site: http://www.goodbysilverstein.com/ I enjoy it. *nice find!*\",\n",
       "       'The ever amazing Psyop and Goodby Silverstein &amp; Partners for HP! http://bit.ly/g2rU8 Have to go play with After Effects now!',\n",
       "       'top ten most watched on Viral-Video Chart.  Love the nike #mostvaluablepuppets campaign from Wieden &amp; Kennedy http://bit.ly/nR1n9',\n",
       "       'zomg!!! I have a G2!!!!!!!',\n",
       "       'Ok so lots of buzz from IO2009 but how lucky are they - a Free G2!! http://is.gd/Hyzl',\n",
       "       'just got a free G2 android at google i/o!!!',\n",
       "       \"Guess I'll be retiring my G1 and start using my developer G2 woot #googleio\",\n",
       "       'At GWT fireside chat @googleio',\n",
       "       'I am happy for Philip being at GoogleIO today',\n",
       "       'Lakers played great!  Cannot wait for Thursday night Lakers vs. ???',\n",
       "       'Hi there, does anyone have a great source for advice on viral marketing?... http://link.gs/YtZ8',\n",
       "       'Judd Apatow creates fake sitcom on NBC.com to market his new movie... viral marketing at its best. http://is.gd/K0yK',\n",
       "       \"Here's A case study on how to use viral marketing to add over 10,000 people to your list http://snipr.com/i50oz\",\n",
       "       \"VIRAL MARKETING FAIL. This Acia Pills brand oughta get shut down for hacking into people's messenger's.  i get 5-6 msgs in a day! Arrrgh!\",\n",
       "       'watching Night at The Museum . Lmao',\n",
       "       'i loved night at the museum!!!',\n",
       "       'going to see the new night at the museum  movie with my family oh boy a three year old in the movies fuin',\n",
       "       'just got back from the movies.  went to see the new night at the museum with rachel.  it was good',\n",
       "       'Just saw the new Night at the Museum movie...it was...okay...lol 7\\\\10',\n",
       "       'Going to see night at the museum 2 with tall boy',\n",
       "       '@shannyoday I will take you on a date to see night at the museum 2 whenever you want...it looks soooooo good',\n",
       "       'no watching The Night At The Museum. Getting Really Good',\n",
       "       'Night at the Museum, Wolverine and junk food - perfect monday!',\n",
       "       'saw night at the museum 2 last night.. pretty crazy movie.. but the cast was awesome so it was well worth it. Robin Williams forever!',\n",
       "       'I saw Night at the Museum: Battle of the Swithsonian today. It was okay. Your typical [kids] Ben Stiller movie.',\n",
       "       'Taking Katie to see Night at the Museum.  (she picked it)',\n",
       "       'Night at the Museum tonite instead of UP. :( oh well. that 4 yr old better enjoy it. LOL',\n",
       "       'GM says expects announcment on sale of Hummer soon - Reuters: WDSUGM says expects announcment on sale of Hummer .. http://bit.ly/4E1Fv',\n",
       "       \"It's unfortunate that after the Stimulus plan was put in place twice to help GM on the back of the American people has led to the inevitable\",\n",
       "       'Tell me again why we are giving more $$ to GM?? We should use that $ for all the programs that support the unemployed.',\n",
       "       '@jdreiss oh yes but if GM dies it will only be worth more boo hahaha',\n",
       "       'Time Warner cable is down again 3rd time since Memorial Day bummer!',\n",
       "       'I would rather pay reasonable yearly taxes for \"free\" fast internet, than get gouged by Time Warner for a slow connection.',\n",
       "       'NOOOOOOO my DVR just died and I was only half way through the EA presser. Hate you Time Warner',\n",
       "       'F*ck Time Warner Cable!!! You f*cking suck balls!!! I have a $700 HD tv &amp; my damn HD channels hardly ever come in. Bullshit!!',\n",
       "       'time warner has the worse customer service ever. I will never use them again',\n",
       "       'Time warner is the devil. Worst possible time for the Internet to go out.',\n",
       "       'Fuck no internet damn time warner!',\n",
       "       'time warner really picks the worst time to not work. all i want to do is get to mtv.com so i can watch the hills. wtfffff.',\n",
       "       'I hate Time Warner! Soooo wish I had Vios. Cant watch the fricken Mets game w/o buffering. I feel like im watching free internet porn.',\n",
       "       'Ahh...got rid of stupid time warner today &amp; now taking a nap while the roomies cook for me. Pretty good end for a monday :)',\n",
       "       \"Time Warner's HD line up is crap.\",\n",
       "       'is being fucked by time warner cable. didnt know modems could explode. and Susan Boyle sucks too!',\n",
       "       \"Time Warner Cable Pulls the Plug on 'The Girlfriend Experience' - (www.tinyurl.com/m595fk)\",\n",
       "       'Time Warner Cable slogan: Where calling it a day at 2pm Happens.',\n",
       "       'Rocawear Heads to China, Building 300 Stores  - http://tinyurl.com/nofet3',\n",
       "       'Climate focus turns to Beijing: The United Nations, the US and European governments have called on China to co-o.. http://tinyurl.com/lto92n',\n",
       "       \"myfoxdc Barrie Students Back from Trip to China: A Silver Spring high school's class trip to China has en.. http://tinyurl.com/nlhqba\",\n",
       "       'Three China aerospace giants develop Tianjin Binhai  New Area,  22.9 B yuan invested   http://bit.ly/mMiDv',\n",
       "       'http://xi.gs/04FO GM CEO: China will continue to be key partner',\n",
       "       'RT @LATimesautos is now the time to buy a GM car? http://bit.ly/nRzlu',\n",
       "       'Recovering from surgery..wishing @julesrenner was here :(',\n",
       "       'My wrist still hurts. I have to get it looked at. I HATE the dr/dentist/scary places. :( Time to watch Eagle eye. If you want to join, txt!',\n",
       "       'Dentist tomorrow. Have to brush well in the morning. Like I make my hair all nice before I get it cut. Why?',\n",
       "       'THE DENTIST LIED! \" U WON\\'T FEEL ANY DISCOMORT! PROB WON\\'T EVEN NEED PAIN PILLS\" MAN U TWIPPIN THIS SHIT HURT!! HOW MANY PILLS CAN I TAKE!!',\n",
       "       \"@kirstiealley my dentist is great but she's expensive...=(\",\n",
       "       '@kirstiealley Pet Dentist http://www.funnyville.com/fv/pictures/dogdentures.shtml',\n",
       "       'is studing math ;) tomorrow exam and dentist :)',\n",
       "       'my dentist was wrong... WRONG', 'Going to the dentist later.:|',\n",
       "       'Son has me looking at cars online.  I hate car shopping.  Would rather go to the dentist!  Anyone with a good car at a good price to sell?',\n",
       "       'NCAA Baseball Super Regional - Rams Club http://bit.ly/Ro7nx',\n",
       "       'just started playing Major League Baseball 2K9. http://raptr.com/H3LLGWAR',\n",
       "       'Cardinals baseball advance to Super Regionals. Face CS-Fullerton Friday.',\n",
       "       'Sony coupon code.. Expires soon.. http://www.coupondork.com/r/1796',\n",
       "       'waiting in line at safeway.',\n",
       "       'luke and i got stopped walking out of safeway and asked to empty our pockets and lift our shirts. how jacked up is that?',\n",
       "       'Did not realize there is a gym above Safeway!',\n",
       "       '@XPhile1908 I have three words for you: \"Safeway dot com\"',\n",
       "       'Safeway is very rock n roll tonight',\n",
       "       'Bout to hit safeway I gotta eat', \"Jake's going to safeway!\",\n",
       "       'Found a safeway. Picking up a few staples.',\n",
       "       'Safeway Super-marketing via mobile coupons http://bit.ly/ONH7w',\n",
       "       'The safeway bathroom still smells like ass!',\n",
       "       \"At safeway on elkhorn, they move like they're dead!\",\n",
       "       'Your Normal Weight (and How to Get There) ? Normal Eating Blog http://bit.ly/ZeT8O',\n",
       "       'Is Eating and Watching Movies....', 'eating sashimi',\n",
       "       'is eating  home made yema', 'eating cake',\n",
       "       \"i love Dwight Howard's vitamin water commercial... now i wish he was with NIKE and not adidas. lol.\",\n",
       "       'Found NOTHING at Nike Factory :/ Off to Banana Republic Outlet! http://myloc.me/2zic',\n",
       "       'iPhone May Get Radio Tagging and Nike  : Recently-released iTunes version 8.2 suggests that VoiceOver functional.. http://tinyurl.com/oq5ctc',\n",
       "       \"is lovin his Nike  already and that's only from running on the spot in his bedroom\",\n",
       "       'Launched! http://imgsearch.net  #imgsearch #ajax #jquery #webapp',\n",
       "       '@matthewcyan I finally got around to using jquery to make my bio collapse. Yay for slide animations.',\n",
       "       'RT @jquery: The Ultimate jQuery List - http://jquerylist.com/',\n",
       "       'I just extracted and open-sourced a jQuery plugin from Stormweight to highlight text with a regular expression: http://bit.ly/ybJKb',\n",
       "       '@anna_debenham what was the php jquery hack?',\n",
       "       'jQuery Cheat Sheet http://www.javascripttoolbox.com/jquery/cheatsheet/',\n",
       "       'Beginning JavaScript and CSS Development with jQuery #javascript #css #jquery http://bit.ly/TO3e5',\n",
       "       \"@PDubyaD right!!! LOL we'll get there!! I have high expectations, Warren Buffet style.\",\n",
       "       'RT @blknprecious1: RT GREAT @dbroos \"Someone\\'s sitting in the shade today because someone planted a tree a long time ago.\"- Warren Buffet',\n",
       "       'Warren Buffet on the economy http://ping.fm/Lau0p',\n",
       "       'Warren Buffet became (for a time) the richest man in the United States, not by working but investing in 1 Big idea which lead to the fortune',\n",
       "       'According to the create a school, Notre Dame will have 7 receivers in NCAA 10 at 84 or higher rating :) *sweet*',\n",
       "       \"All-Star Basketball Classic Tuesday Features Top Talent: Chattanooga's Notre Dame High School will play host.. http://bit.ly/qltJA\",\n",
       "       \"@BlondeBroad it's definitely under warranty &amp; my experience is the amazon support for kindle is great! had to contact them about my kindle2\",\n",
       "       'RT Look, Available !Amazon Kindle2 &amp; Kindle DX, Get it Here: http://short.to/87ub The Top Electronic Book Reader Period, free 2 day ship ...',\n",
       "       \"Time Warner Road Runner customer support here absolutely blows. I hate not having other high-speed net options. I'm ready to go nuclear.\",\n",
       "       'Time Warner cable phone reps r dumber than nails!!!!! UGH! Cable was working 10 mins ago now its not WTF!',\n",
       "       \"@siratomofbones we tried but Time Warner wasn't being nice so we recorded today. :)\",\n",
       "       \"OMG - time warner f'ed up my internet install - instead of today  its now NEXT saturday - another week w/o internet! &amp;$*ehfa^V9fhg[*# fml.\",\n",
       "       'wth..i have never seen a line this loooong at time warner before, ugh.',\n",
       "       \"Impatiently awaiting the arrival of the time warner guy. It's way too pretty to be inside all afternoon\",\n",
       "       'Man accosts Roger Federer during French Open http://ff.im/3HCPT',\n",
       "       'Naive Bayes using EM for Text Classification. Really Frustrating...',\n",
       "       \"We went to Stanford University today. Got a tour. Made me want to go back to college. It's also decided all of our kids will go there.\",\n",
       "       'Investigation pending on death of Stanford CS prof / Google mentor Rajeev Motwani http://bit.ly/LwOUR tip @techmeme',\n",
       "       \"I'm going to bed. It was a successful weekend. Stanford, here I come.\",\n",
       "       \"@KarrisFoxy If you're being harassed by calls about your car warranty, changing your number won't fix that. They call every number. #d-bags\",\n",
       "       'Just blocked United Blood Services using Google Voice. They call more than those Car Warranty guys.',\n",
       "       '#at&amp;t is complete fail.',\n",
       "       \"@broskiii OH SNAP YOU WORK AT AT&amp;T DON'T YOU\",\n",
       "       '@Mbjthegreat i really dont want AT&amp;T phone service..they suck when it comes to having a signal',\n",
       "       \"I say we just cut out the small talk: AT&amp;T's new slogan: F__k you, give us your money. (Apologies to Bob Geldof.)\",\n",
       "       \"pissed about at&amp;t's mid-contract upgrade price for the iPhone (it's $200 more) I'm not going to pay $499 for something I thought was $299\",\n",
       "       'Safari 4 is fast :) Even on my shitty AT&amp;T tethering.',\n",
       "       '@ims What is AT&amp;T fucking up?',\n",
       "       \"@springsingfiend @dvyers @sethdaggett @jlshack AT&amp;T dropped the ball and isn't supporting crap with the new iPhone 3.0... FAIL #att SUCKS!!!\",\n",
       "       '@MMBarnhill yay, glad you got the phone! Still, damn you, AT&amp;T.',\n",
       "       'Google Wave Developer Sandbox Account Request http://bit.ly/2NYlc',\n",
       "       'Talk is Cheap: Bing that, I?ll stick with Google. http://bit.ly/XC3C8',\n",
       "       '@defsounds WTF is the point of deleting tweets if they can still be found in summize and searches? Twitter, please fix that. Thanks and bye',\n",
       "       '@mattcutts have google profiles stopped showing up in searches? cant see them anymore',\n",
       "       '@ArunBasilLal I love Google Translator too ! :D Good day mate !',\n",
       "       'reading on my new Kindle2!', 'My Kindle2 came and I LOVE it! :)',\n",
       "       'LOVING my new Kindle2.  Named her Kendra in case u were wondering. The \"cookbook\" is THE tool cuz it tells u all the tricks!  Best gift EVR!',\n",
       "       'The real AIG scandal / http://bit.ly/b82Px',\n",
       "       'Any twitter to aprs apps yet?',\n",
       "       '45 Pros You Should Be Following on Twitter - http://is.gd/sMbZ',\n",
       "       'Obama is quite a good comedian! check out his dinner speech on CNN :) very funny jokes.',\n",
       "       '\\' Barack Obama shows his funny side \" &gt;&gt; http://tr.im/l0gY !! Great speech..',\n",
       "       'I like this guy : \\' Barack Obama shows his funny side \" &gt;&gt; http://tr.im/l0gY !!',\n",
       "       \"Obama's speech was pretty awesome last night! http://bit.ly/IMXUM\",\n",
       "       'Reading  \"Bill Clinton Fail - Obama Win?\" http://tinyurl.com/pcyxj7',\n",
       "       \"Obama More Popular Than U.S. Among Arabs: Survey: President Barack Obama's popularity in leading Arab countries .. http://tinyurl.com/prlvqu\",\n",
       "       \"Obama's got JOKES!! haha just got to watch a bit of his after dinner speech from last night... i'm in love with mr. president ;)\",\n",
       "       'LEbron james got in a car accident i guess..just heard it on evening news...wow i cant believe it..will he be ok ? http://twtad.com/69750',\n",
       "       'is it me or is this the best the playoffs have been in years oh yea lebron and melo in the finals',\n",
       "       '@khalid0456 No, Lebron is the best',\n",
       "       '@the_real_usher LeBron is cool.  I like his personality...he has good character.',\n",
       "       'Watching Lebron highlights. Damn that niggas good',\n",
       "       '@Lou911 Lebron is MURDERING shit.',\n",
       "       \"@uscsports21 LeBron is a monsta and he is only 24. SMH The world ain't ready.\",\n",
       "       \"@cthagod when Lebron is done in the NBA he will probably be greater than Kobe. Like u said Kobe is good but there alot of 'good' players.\",\n",
       "       'KOBE IS GOOD BT LEBRON HAS MY VOTE',\n",
       "       'Kobe is the best in the world not lebron .',\n",
       "       \"@asherroth World Cup 2010 Access?? Damn, that's a good look!\",\n",
       "       'Just bought my tickets for the 2010 FIFA World Cup in South Africa. Its going to be a great summer. http://bit.ly/9GEZI',\n",
       "       \"Share: Disruption...Fred Wilson's slides for his talk at Google HQ  http://bit.ly/Bo8PG\",\n",
       "       'I have to go to Booz Allen Hamilton for a 2hr meeting :(  But then i get to go home :)',\n",
       "       'The great Indian tamasha truly will unfold from May 16, the result day for Indian General Election.',\n",
       "       \"@crlane I have the Kindle2. I've seen pictures of the DX, but haven't seen it in person. I love my Kindle - I'm on it everyday.\",\n",
       "       '@criticalpath Such an awesome idea - the  continual learning program with a Kindle2  http://bit.ly/1ZLfF',\n",
       "       'ok.. do nothing.. just thinking about 40D',\n",
       "       '@faithbabywear Ooooh, what model are you getting??? I have the 40D and LOVE LOVE LOVE LOVE it!',\n",
       "       \"The Times of India: The wonder that is India's election. http://bit.ly/p7u1H\",\n",
       "       'http://is.gd/ArUJ Good video from Google on using search options.',\n",
       "       '@ambcharlesfield lol. Ah my skin is itchy :( damn lawnmowing.',\n",
       "       'itchy back!! dont ya hate it!',\n",
       "       'Stanford Charity Fashion Show a top draw http://cli.gs/NeNuAH',\n",
       "       'Stanford University?s Facebook Profile is One of the Most Popular Official University Pages - http://tinyurl.com/p5b3fl',\n",
       "       'Lyx is cool.',\n",
       "       'SOOO DISSAPOiNTED THEY SENT DANNY GOKEY HOME... YOU STiLL ROCK ...DANNY ... MY HOMETOWN HERO !! YEAH MiLROCKEE!!',\n",
       "       \"RT @PassionModel 'American Idol' fashion: Adam Lambert tones down, Danny Gokey cute ... http://cli.gs/7JWSHV\",\n",
       "       '@dannygokey I love you DANNY GOKEY!! :)',\n",
       "       'RT @justindavey: RT @tweetmeme GM OnStar now instantly sends accident location coordinates to 911 | GPS Obsessed http://bit.ly/16szL1',\n",
       "       \"so tired. i didn't sleep well at all last night.\",\n",
       "       'Boarding plane for San Francisco in 1 hour; 6 hr flight. Blech.',\n",
       "       'bonjour San Francisco. My back hurts from last night..',\n",
       "       'breakers. in San Francisco, CA http://loopt.us/4v88Bw.t',\n",
       "       'Heading to San Francisco',\n",
       "       'With my best girl for a few more hours in San francisco. Mmmmmfamily is wonderful!',\n",
       "       'F*** up big, or go home - AIG',\n",
       "       'Went to see the Star Trek movie last night.  Very satisfying.',\n",
       "       \"I can't wait, going to see star trek tonight!!\",\n",
       "       'Star Trek was as good as everyone said!!',\n",
       "       'am loving new malcolm gladwell book - outliers',\n",
       "       \"I highly recommend Malcolm Gladwell's 'The Tipping Point.' My next audiobook will probably be one of his as well.\",\n",
       "       \"Malcolm Gladwell is a genius at tricking people into not realizing he's a fucking idiot\",\n",
       "       '@sportsguy33 hey no offense but malcolm gladwell is a pretenious, annoying cunt and he brings you down. cant read his shit',\n",
       "       'RT @clashmore: http://bit.ly/SOYv7  Great article by Malcolm Gladwell.',\n",
       "       'I seriously underestimated Malcolm Gladwell.  I want to meet this dude.',\n",
       "       'i hate comcast right now. everything is down cable internet &amp; phone....ughh what am i to do',\n",
       "       'Comcast sucks.',\n",
       "       'The day I never have to deal with Comcast again will rank as one of the best days of my life.',\n",
       "       '@Dommm did comcast fail again??',\n",
       "       'How do you use the twitter API?... http://bit.ly/4VBhH',\n",
       "       'curses the Twitter API limit',\n",
       "       'Now I can see why Dave Winer screams about lack of Twitter API, its limitations and access throttles!',\n",
       "       'testing Twitter API', 'Arg. Twitter API is making me crazy.',\n",
       "       'Testing Twitter API. Remote Update',\n",
       "       \"I'm really loving the new search site Wolfram/Alpha. Makes Google seem so ... quaint. http://www72.wolframalpha.com/\",\n",
       "       '#wolfram Alpha SUCKS! Even for researchers the information provided is less than you can get from #google or #wikipedia, totally useless!',\n",
       "       'Off to the NIKE factory!!!',\n",
       "       'New nike muppet commercials are pretty cute. Why do we live together again?',\n",
       "       'New blog post: Nike Zoom LeBron Soldier 3 (III) - White / Black - Teal http://bit.ly/rouUS',\n",
       "       'New blog post: Nike Trainer 1 http://bit.ly/394bp',\n",
       "       \"@Fraggle312 oh those are awesome! i so wish they weren't owned by nike :(\",\n",
       "       \"@tonyhawk http://twitpic.com/5c7uj - AWESOME!!! Seeing the show Friday at the Shoreline Amphitheatre. Never seen NIN before. Can't wait. ...\",\n",
       "       'arhh, It\\'s weka bug. = =\" and I spent almost two hours to find that out. crappy me',\n",
       "       \"@mitzs hey bud :) np I do so love my 50D, although I'd love a 5D mkII more\",\n",
       "       '@jonduenas @robynlyn just got us a 50D for the office. :D',\n",
       "       \"Just picked up my new Canon 50D...it's beautiful!!  Prepare for some seriously awesome photography!\",\n",
       "       'Just got my new toy. Canon 50D. Love love love it!',\n",
       "       'Learning about lambda calculus :)',\n",
       "       '#jobs #sittercity Help with taking care of sick child (East Palo Alto, CA) http://tinyurl.com/qwrr2m',\n",
       "       \"I'm moving to East Palo Alto!\",\n",
       "       '@ atebits I just finished watching your Stanford iPhone Class session. I really appreciate it. You Rock!',\n",
       "       '@jktweet Hi! Just saw your Stanford talk and really liked your advice. Just saying Hi from Singapore (yes the videos do get around)',\n",
       "       '#MBA Admissions Tips Stanford GSB Deadlines and Essay Topics 2009-2010 http://tinyurl.com/pet4fd',\n",
       "       'Ethics and nonprofits - http://bit.ly/qsXRp  #stanford #socialentrepreneurship',\n",
       "       \"LAKERS tonight let's go!!!!\",\n",
       "       'Will the Lakers kick the Nuggets ass tonight?',\n",
       "       'Oooooooh... North Korea is in troubleeeee! http://bit.ly/19epAH',\n",
       "       'Wat the heck is North Korea doing!!??!! They just conducted powerful nuclear tests! Follow the link: http://www.msnbc.msn.com/id/30921379',\n",
       "       'Listening to Obama... Friggin North Korea...',\n",
       "       'I just realized we three monkeys in the white Obama.Biden,Pelosi . Sarah Palin 2012',\n",
       "       '@foxnews Pelosi should stay in China and never come back.',\n",
       "       \"Nancy Pelosi gave the worst commencement speech I've ever heard. Yes I'm still bitter about this\",\n",
       "       'ugh. the amount of times these stupid insects have bitten me. Grr..',\n",
       "       'Prettiest insects EVER - Pink Katydids: http://bit.ly/2Upw2p',\n",
       "       'Just got barraged by a horde of insects hungry for my kitchen light. So scary.',\n",
       "       'Just had McDonalds for dinner. :D It was goooood. Big Mac Meal. ;)',\n",
       "       'AHH YES LOL IMA TELL MY HUBBY TO GO GET ME SUM MCDONALDS =]',\n",
       "       'Stopped to have lunch at McDonalds. Chicken Nuggetssss! :) yummmmmy.',\n",
       "       'Could go for a lot of McDonalds. i mean A LOT.',\n",
       "       'my exam went good. @HelloLeonie: your prayers worked (:',\n",
       "       'Only one exam left, and i am so happy for it :D',\n",
       "       'Math review. Im going to fail the exam.',\n",
       "       'Colin Powell rocked yesterday on CBS. Cheney needs to shut the hell up and go home.Powell is a man of Honor and served our country proudly',\n",
       "       'obviously not siding with Cheney here: http://bit.ly/19j2d',\n",
       "       'Absolutely hilarious!!! from @mashable:  http://bit.ly/bccWt',\n",
       "       '@mashable I never did thank you for including me in your Top 100 Twitter Authors! You Rock! (&amp; I New Wave :-D) http://bit.ly/EOrFV',\n",
       "       'Learning jQuery 1.3 Book Review - http://cfbloggers.org/?c=30629',\n",
       "       'RT @shrop: Awesome JQuery reference book for Coda! http://www.macpeeps.com/coda/ #webdesign',\n",
       "       \"I've been sending e-mails like crazy today to my contacts...does anyone have a contact at Goodby SIlverstein...I'd love to speak to them\",\n",
       "       'Adobe CS4 commercial by Goodby Silverstein: http://bit.ly/1aikhF',\n",
       "       \"Goodby, Silverstein's new site... http://www.goodbysilverstein.com/ I enjoy it.\",\n",
       "       \"Wow everyone at the Google I/O conference got free G2's with a month of unlimited service\",\n",
       "       '@vkerkez dood I got a free google android phone at the I/O conference. The G2!',\n",
       "       '@Orli the G2 is amazing btw, a HUGE improvement over the G1',\n",
       "       \"HTML 5 Demos! Lots of great stuff to come! Yes, I'm excited. :) http://htmlfive.appspot.com #io2009 #googleio\",\n",
       "       '@googleio http://twitpic.com/62shi - Yay! Happy place! Place place!  I love Google!',\n",
       "       '#GoogleIO | O3D - Bringing 3d graphics to the browser. Very nice tbh. Funfun.',\n",
       "       'Awesome viral marketing for \"Funny People\" http://www.nbc.com/yo-teach/',\n",
       "       'Watching a programme about the life of Hitler, its only enhancing my geekiness of history.',\n",
       "       'saw night at the museum out of sheer desperation. who is funding these movies?',\n",
       "       'Night At The Museum 2? Pretty furkin good.',\n",
       "       'Watching Night at the Museum - giggling.',\n",
       "       '@pambeeslyjenna Jenna, I went to see Night At The Museum 2 today and I was so surprised to see three cast members from The Office...',\n",
       "       'About to watch Night at the Museum with Ryan and Stacy',\n",
       "       'Getting ready to go watch Night at the Museum 2.  Dum dum, you give me gum gum!',\n",
       "       \"Back from seeing 'Star Trek' and 'Night at the Museum.' 'Star Trek' was amazing, but 'Night at the Museum' was; eh.\",\n",
       "       'just watched night at the museum 2! so stinkin cute!',\n",
       "       \"So, Night at the Museum 2 was AWESOME! Much better than part 1. Next weekend we'll see Up.\",\n",
       "       'I think I may have a new favorite restaurant. On our way to see \"Night at the Museum 2\".',\n",
       "       \"UP! was sold out, so i'm seeing Night At The Museum 2. I'm __ years old.\",\n",
       "       'saw the new Night at the Museum and i loved it. Next is to go see UP in 3D',\n",
       "       'It is a shame about GM. What if they are forced to make only cars the White House THINKS will sell? What do you think?',\n",
       "       'As u may have noticed, not too happy about the GM situation, nor AIG, Lehman, et al',\n",
       "       'Obama: Nationalization of GM to be short-term   (AP) http://tinyurl.com/md347r',\n",
       "       '@Pittstock $GM good riddance.  sad though.',\n",
       "       'I Will NEVER Buy a Government Motors Vehicle: Until just recently, I drove GM cars. Since 1988, when I bought a .. http://tinyurl.com/lulsw8',\n",
       "       'Having the old Coca-Cola guy on the GM board is stupid has heck! #tcot #ala',\n",
       "       '#RantsAndRaves The worst thing about GM (concord / pleasant hill / martinez): is the fucking UAW. ..   http://buzzup.com/4ueb',\n",
       "       'Give a man a fish, u feed him for the day. Teach him to fish, u feed him for life. Buy him GM, and u F**K him over for good.',\n",
       "       'The more I hear about this GM thing the more angry I get. Billions wasted, more bullshit. All for something like 40k employees and all the..',\n",
       "       '@QuantTrader i own a GM car and it is junk as far as quality compared to a honda',\n",
       "       'sad day...bankrupt GM',\n",
       "       'is upset about the whole GM thing. life as i know it is so screwed up',\n",
       "       'whoever is running time warner needs to be repeatedly raped by a rhino so they understand the consequences of putting out shitty cable svcs',\n",
       "       'Time Warner CEO hints at online fees for magazines      (AP) - Read from Mountain View,United States. Views 16209 http://bit.ly/UdFCH',\n",
       "       '#WFTB Joining a bit late. My connection was down (boo time warner)',\n",
       "       'Cox or Time Warner?  Cox is cheaper and gets a B on dslreports.  TW is more expensive and gets a C.',\n",
       "       'i am furious with time warner and their phone promotions!',\n",
       "       'Just got home from chick-fil-a with the boys. Damn my internets down =( stupid time warner',\n",
       "       'could time-warner cable suck more?  NO.',\n",
       "       'Pissed at Time Warner for causin me to have slow internet problems',\n",
       "       '@sportsguy33 Ummm, having some Time Warner problems?',\n",
       "       'You guys see this?  Why does Time Warner have to suck so much ass?  Really wish I could get U-Verse at my apartment. http://bit.ly/s594j',\n",
       "       \"RT @sportsguy33 The upside to Time Warner: unhelpful phone operators   superslow on-site service. Crap, that's not an upside.\",\n",
       "       'RT @sportsguy33: New Time Warner slogan: \"Time Warner, where we make you long for the days before cable.\"',\n",
       "       \"confirmed: it's Time Warner's fault, not Facebook's, that fb is taking about 3 minutes to load. so tempted to switch to verizon =/\",\n",
       "       '@sportsguy33 Time Warner = epic fail',\n",
       "       'Lawson to head Newedge Hong Kong http://bit.ly/xLQSD #business #china',\n",
       "       'Weird Piano Guitar House in China! http://u2s.me/72i8',\n",
       "       'Send us your GM/Chevy photos http://tinyurl.com/luzkpq',\n",
       "       \"I know. How sad is that?  RT @caseymercier: 1st day of hurricane season. That's less scarey than govt taking over GM.\",\n",
       "       'GM files Bankruptcy, not a good sign...',\n",
       "       'yankees won mets lost. its a good day.',\n",
       "       'My dentist appt today was actually quite enjoyable.',\n",
       "       'I hate the effing dentist.',\n",
       "       '@stevemoakler i had a dentist appt this morning and had the same conversation!',\n",
       "       '@kirstiealley I hate going to the dentist.. !!!',\n",
       "       'i hate the dentist....who invented them anyways?',\n",
       "       \"this dentist's office is cold :/\",\n",
       "       'Check this video out -- David After Dentist http://bit.ly/47aW2',\n",
       "       'First dentist appointment [in years] on Wednesday possibly.',\n",
       "       \"Tom Shanahan's latest column on SDSU and its NCAA Baseball Regional appearance: http://ow.ly/axhu\",\n",
       "       'BaseballAmerica.com: Blog: Baseball America Prospects Blog ? Blog ... http://bit.ly/EtT8a',\n",
       "       'Portland city politics may undo baseball park http://tinyurl.com/lpjquj',\n",
       "       \"RT @WaterSISWEB: CA Merced's water bottled by Safeway, resold at a profit: Wells are drying up across the county http://tinyurl.com/mb573s\",\n",
       "       'dropped her broccoli walking home from safeway! ;( so depressed',\n",
       "       \"@ronjon we don't have Safeway.\",\n",
       "       'Just applied at Safeway!(: Yeeeee!',\n",
       "       '@ Safeway. Place is a nightmare right now. Bumming.',\n",
       "       'at safeway with dad',\n",
       "       'HATE safeway select green tea icecream! bought two cartons, what a waste of money.  &gt;_&lt;',\n",
       "       'Safeway with Marvin, Janelle, and Auntie Lhu',\n",
       "       'Safeway offering mobile coupons http://bit.ly/ONH7w',\n",
       "       'Phillies Driving in the Cadillac with the Top Down in Cali, Win 5-3 - http://tinyurl.com/nzcjqa',\n",
       "       'Saved money by opting for grocery store trip and stocking food in hotel room fridge vs. eating out every night while out of town.',\n",
       "       'Lounging around, eating Taco Bell and watching NCIS before work tonight. Need help staying awake.',\n",
       "       'eating breakfast and then school', 'still hungry after eating....',\n",
       "       '10 tips for healthy eating ? ResultsBy Fitness Blog :: Fitness ... http://bit.ly/62gFn',\n",
       "       'with the boyfriend, eating a quesadilla',\n",
       "       'Eating dinner. Meat, chips, and risotto.',\n",
       "       'got a new pair of nike shoes. pics up later',\n",
       "       'Nike SB Blazer High \"ACG\" Custom - Brad Douglas - http://timesurl.at/45a448',\n",
       "       \"Nike rocks. I'm super grateful for what I've done with them :) &amp; the European Division of NIKE is BEYOND! @whitSTYLES @muchasmuertes\",\n",
       "       'Nike Air Yeezy Khaki/Pink Colorway Release - http://shar.es/bjfN',\n",
       "       '@evelynbyrne have you tried Nike  ? V. addictive.',\n",
       "       \"@erickoston That looks an awful lot like one of Nike's private jets....I'm just sayin....\",\n",
       "       'The Nike Training Club (beta) iPhone app looks very interesting.',\n",
       "       \"argghhhh why won't  my jquery appear in safari bad safari !!!\",\n",
       "       'DevSnippets : jQuery Tools - Javascript UI Components for the Web... http://inblogs.org/go/hfuqt',\n",
       "       'all about Ajax,jquery ,css ,JavaScript and more... (many examples) http://ajaxian.com/',\n",
       "       \"I'm ready to drop the pretenses, I am forever in love with jQuery, and I want to marry it. Sorry ladies, this nerd is jquery.spokenFor.js\",\n",
       "       'This is cold.. I was looking at google\\'s chart//visualization API and found this jQuery \"wrapper\" for the API...  http://tinyurl.com/mq52bq',\n",
       "       'I spent most of my day reading a jQuery book. Now to start drinking some delirium tremens.',\n",
       "       'jquery Selectors http://codylindley.com/jqueryselectors/',\n",
       "       'How to implement a news ticker with jQuery and ten lines of code http://bit.ly/CZnFJ',\n",
       "       \"What's Buffet Doing? Warren Buffett Kicks Butt In Battle of the Boots: Posted By:Alex Crippe.. http://bit.ly/AUIzO\",\n",
       "       'SUPER INVESTORS: A great weekend read here from Warren Buffet. Oldie, but a goodie. http://tinyurl.com/oqxgga',\n",
       "       \"I'm truly braindead.  I couldn't come up with Warren Buffet's name to save my soul\",\n",
       "       \"reading Michael Palin book, The Python Years...great book. I also recommend Warren Buffet &amp; Nelson Mandela's bio\",\n",
       "       \"I mean, I'm down with Notre Dame if I have to.  It's a good school, I'd be closer to Dan, I'd enjoy it.\",\n",
       "       \"I can't watch TV without a Tivo.  And after all these years, the Time/Warner DVR  STILL sucks. http://www.davehitt.com/march03/twdvr.html\",\n",
       "       \"I'd say some sports writers are idiots for saying Roger Federer is one of the best ever in Tennis.  Roger Federer is THE best ever in Tennis\",\n",
       "       'I still love my Kindle2 but reading The New York Times on it does not feel natural. I miss the Bloomingdale ads.',\n",
       "       'I love my Kindle2. No more stacks of books to trip over on the way to the loo.',\n",
       "       \"Although today's keynote rocked, for every great announcement, AT&amp;T shit on us just a little bit more.\",\n",
       "       \"@sheridanmarfil - its not so much my obsession with cell phones, but the iphone!  i'm a slave to at&amp;t forever because of it. :)\",\n",
       "       '@freitasm oh I see. I thought AT&amp;T were 900MHz WCDMA?',\n",
       "       '@Plip Where did you read about tethering support Phil?  Just AT&amp;T or will O2 be joining in?',\n",
       "       'Fuzzball is more fun than AT&amp;T ;P http://fuzz-ball.com/twitter',\n",
       "       'Today is a good day to dislike AT&amp;T. Vote out of office indeed, @danielpunkass',\n",
       "       \"GOT MY WAVE SANDBOX INVITE! Extra excited! Too bad I have class now... but I'll play with it soon enough! #io2009 #wave\",\n",
       "       'looks like summize has gone down. too many tweets from WWDC perhaps?',\n",
       "       'I hope the girl at work  buys my Kindle2',\n",
       "       \"Missed this insight-filled May column: One smart guy looking closely at why he's impressed with Kindle2 http://bit.ly/i0peY @wroush\",\n",
       "       '@sklososky Thanks so much!!! ...from one of your *very* happy Kindle2 winners ; ) I was so surprised, fabulous. Thank you! Best, Kathleen',\n",
       "       'Man I kinda dislike Apple right now. Case in point: the iPhone 3GS. Wish there was a video recorder app. Please?? http://bit.ly/DZm1T',\n",
       "       '@cwong08 I have a Kindle2 (&amp; Sony PRS-500). Like it! Physical device feels good. Font is nice. Pg turns are snappy enuf. UI a little klunky.',\n",
       "       'The #Kindle2 seems the best eReader, but will it work in the UK and where can I get one?',\n",
       "       'I have a google addiction. Thank you for pointing that out, @annamartin123. Hahaha.',\n",
       "       '@ruby_gem My primary debit card is Visa Electron.',\n",
       "       'Off to the bank to get my new visa platinum card',\n",
       "       \"dearest @google, you rich bastards! the VISA card you sent me doesn't work. why screw a little guy like me?\",\n",
       "       'has a date with bobby flay and gut fieri from food network',\n",
       "       'Excited about seeing Bobby Flay and Guy Fieri tomorrow at the Great American Food &amp; Music Fest!',\n",
       "       'Gonna go see Bobby Flay 2moro at Shoreline. Eat and drink. Gonna be good.',\n",
       "       \"can't wait for the great american food and music festival at shoreline tomorrow.  mmm...katz pastrami and bobby flay. yes please.\",\n",
       "       'My dad was in NY for a day, we ate at MESA grill last night and met Bobby Flay. So much fun, except I completely lost my voice today.',\n",
       "       'Fighting with LaTex. Again...',\n",
       "       \"@Iheartseverus we love you too and don't want you to die!!!!!!  Latex = the devil\",\n",
       "       \"7 hours. 7 hours of inkscape crashing, normally solid as a rock. 7 hours of LaTeX complaining at the slightest thing. I can't take any more.\",\n",
       "       'How to Track Iran with Social Media: http://bit.ly/2BoqU',\n",
       "       \"Shit's hitting the fan in Iran...craziness indeed #iranelection\",\n",
       "       'Monday already. Iran may implode. Kitchen is a disaster. @annagoss seems happy. @sebulous had a nice weekend and @goldpanda is great. whoop.',\n",
       "       'Twitter Stock buzz: $AAPL $ES_F $SPY $SPX $PALM  (updated: 12:00 PM)',\n",
       "       'getting ready to test out some burger receipes this weekend. Bobby Flay has some great receipes to try. Thanks Bobby.',\n",
       "       '@johncmayer is Bobby Flay joining you?',\n",
       "       'i lam so in love with Bobby Flay... he is my favorite. RT @terrysimpson: @bflay you need a place in Phoenix. We have great peppers here!',\n",
       "       \"I just created my first LaTeX file from scratch. That didn't work out very well. (See @amandabittner , it's a great time waster)\",\n",
       "       'using Linux and loving it - so much nicer than windows... Looking forward to using the wysiwyg latex editor!',\n",
       "       'After using LaTeX a lot, any other typeset mathematics just looks hideous.',\n",
       "       'Ask Programming: LaTeX or InDesign?: submitted by calcio1 [link] [1 comment] http://tinyurl.com/myfmf7',\n",
       "       'On that note, I hate Word. I hate Pages. I hate LaTeX. There, I said it. I hate LaTeX. All you TEXN3RDS can come kill me now.',\n",
       "       'Ahhh... back in a *real* text editing environment. I &lt;3 LaTeX.',\n",
       "       'Trouble in Iran, I see. Hmm. Iran. Iran so far away. #flockofseagullsweregeopoliticallycorrect',\n",
       "       'Reading the tweets coming out of Iran... The whole thing is terrifying and incredibly sad...'], \n",
       "      dtype='<U144')"
      ]
     },
     "execution_count": 8,
     "metadata": {},
     "output_type": "execute_result"
    }
   ],
   "source": [
    "twitter_data.columns    #shows what data are contained in column 5, labeled 'text'\n",
    "twitter_data.column(5)"
   ]
  },
  {
   "cell_type": "markdown",
   "metadata": {},
   "source": [
    "# Modifying a Table\n",
    "\n",
    "### Once you have a table to work with, this is your toolkit for adding, removing or changing values\n",
    "\n",
    "#### These methods do not modify the table, but just return a new instance\n",
    "\n",
    "- .relabeled( [list of old labels] , [list of new labels] ) : Returns a table with column label(s) changed from old labels to new labels.\n",
    "\n",
    "\n",
    "- .with_column( label , [values] ) // .with_columns( [series of ( label , [values] )] ) : Returns a table with column(s) with the specified values. The values must be the same length as the tables number of rows. If the label is already a label in the table, the values in that column will be replaced with the new values called on. \n",
    "\n",
    "\n",
    "- .with_row( [values] ) // .with_rows( [lists of values] ) : Returns a table with the values added to the bottom of the table in order. The values must be in the same order and format as the column labels. \n",
    "\n",
    "\n",
    "- .drop( label or [labels] ) :  Returns a table without the label(s) specified.\n",
    "\n",
    "\n",
    "- .take( row_num or [row_nums] ) // .exclude( row_num or [row_nums] ) : Returns a table with only row numbers or without specified numbers accordingly, but each with all columns.\n",
    "\n",
    "\n",
    "- .select( label or [labels] ) : Returns a table with only column labels, but with all rows.\n",
    "\n",
    "\n",
    "#### These methods modify the original table\n",
    "\n",
    "- .relabel( old_label, new_label ) : Changes a single label from old_label to new_label in the table.\n",
    "\n",
    "\n",
    "- .move_to_start(label) // .move_to_end(label) : Move a column to the first or last spots in order.\n",
    "\n",
    "\n",
    "- .append(row_or_table) // .append_column(label, values) : Appends a row or entire table to the bottom of the table. Appends a column to the far right of the table or replaces a column if label is already in the table."
   ]
  },
  {
   "cell_type": "code",
   "execution_count": 9,
   "metadata": {
    "collapsed": false
   },
   "outputs": [],
   "source": [
    "twitter_data = twitter_data.relabeled(['0','1','2','3','4','5'], ['polarity','id','date','query','user','text']) \n",
    "#labels are always strings"
   ]
  },
  {
   "cell_type": "code",
   "execution_count": 10,
   "metadata": {
    "collapsed": false,
    "scrolled": true
   },
   "outputs": [
    {
     "data": {
      "text/html": [
       "<table border=\"1\" class=\"dataframe\">\n",
       "    <thead>\n",
       "        <tr>\n",
       "            <th>polarity</th> <th>id</th> <th>date</th> <th>query</th> <th>user</th> <th>text</th> <th>source</th>\n",
       "        </tr>\n",
       "    </thead>\n",
       "    <tbody>\n",
       "        <tr>\n",
       "            <td>4       </td> <td>3   </td> <td>Mon May 11 03:17:40 UTC 2009</td> <td>kindle2</td> <td>tpryan      </td> <td>@stellargirl I loooooooovvvvvveee my Kindle2. Not that t ...</td> <td>GitHub</td>\n",
       "        </tr>\n",
       "    </tbody>\n",
       "        <tr>\n",
       "            <td>4       </td> <td>4   </td> <td>Mon May 11 03:18:03 UTC 2009</td> <td>kindle2</td> <td>vcu451      </td> <td>Reading my kindle2...  Love it... Lee childs is good read.  </td> <td>GitHub</td>\n",
       "        </tr>\n",
       "    </tbody>\n",
       "        <tr>\n",
       "            <td>4       </td> <td>5   </td> <td>Mon May 11 03:18:54 UTC 2009</td> <td>kindle2</td> <td>chadfu      </td> <td>Ok, first assesment of the #kindle2 ...it fucking rocks!!!  </td> <td>GitHub</td>\n",
       "        </tr>\n",
       "    </tbody>\n",
       "        <tr>\n",
       "            <td>4       </td> <td>6   </td> <td>Mon May 11 03:19:04 UTC 2009</td> <td>kindle2</td> <td>SIX15       </td> <td>@kenburbary You'll love your Kindle2. I've had mine for  ...</td> <td>GitHub</td>\n",
       "        </tr>\n",
       "    </tbody>\n",
       "        <tr>\n",
       "            <td>4       </td> <td>7   </td> <td>Mon May 11 03:21:41 UTC 2009</td> <td>kindle2</td> <td>yamarama    </td> <td>@mikefish  Fair enough. But i have the Kindle2 and I thi ...</td> <td>GitHub</td>\n",
       "        </tr>\n",
       "    </tbody>\n",
       "        <tr>\n",
       "            <td>4       </td> <td>8   </td> <td>Mon May 11 03:22:00 UTC 2009</td> <td>kindle2</td> <td>GeorgeVHulme</td> <td>@richardebaker no. it is too big. I'm quite happy with t ...</td> <td>GitHub</td>\n",
       "        </tr>\n",
       "    </tbody>\n",
       "        <tr>\n",
       "            <td>0       </td> <td>9   </td> <td>Mon May 11 03:22:30 UTC 2009</td> <td>aig    </td> <td>Seth937     </td> <td>Fuck this economy. I hate aig and their non loan given a ...</td> <td>GitHub</td>\n",
       "        </tr>\n",
       "    </tbody>\n",
       "        <tr>\n",
       "            <td>4       </td> <td>10  </td> <td>Mon May 11 03:26:10 UTC 2009</td> <td>jquery </td> <td>dcostalis   </td> <td>Jquery is my new best friend.                               </td> <td>GitHub</td>\n",
       "        </tr>\n",
       "    </tbody>\n",
       "        <tr>\n",
       "            <td>4       </td> <td>11  </td> <td>Mon May 11 03:27:15 UTC 2009</td> <td>twitter</td> <td>PJ_King     </td> <td>Loves twitter                                               </td> <td>GitHub</td>\n",
       "        </tr>\n",
       "    </tbody>\n",
       "        <tr>\n",
       "            <td>4       </td> <td>12  </td> <td>Mon May 11 03:29:20 UTC 2009</td> <td>obama  </td> <td>mandanicole </td> <td>how can you not love Obama? he makes jokes about himself.   </td> <td>GitHub</td>\n",
       "        </tr>\n",
       "    </tbody>\n",
       "</table>\n",
       "<p>... (488 rows omitted)</p"
      ],
      "text/plain": [
       "polarity | id   | date                         | query   | user         | text                                                         | source\n",
       "4        | 3    | Mon May 11 03:17:40 UTC 2009 | kindle2 | tpryan       | @stellargirl I loooooooovvvvvveee my Kindle2. Not that t ... | GitHub\n",
       "4        | 4    | Mon May 11 03:18:03 UTC 2009 | kindle2 | vcu451       | Reading my kindle2...  Love it... Lee childs is good read.   | GitHub\n",
       "4        | 5    | Mon May 11 03:18:54 UTC 2009 | kindle2 | chadfu       | Ok, first assesment of the #kindle2 ...it fucking rocks!!!   | GitHub\n",
       "4        | 6    | Mon May 11 03:19:04 UTC 2009 | kindle2 | SIX15        | @kenburbary You'll love your Kindle2. I've had mine for  ... | GitHub\n",
       "4        | 7    | Mon May 11 03:21:41 UTC 2009 | kindle2 | yamarama     | @mikefish  Fair enough. But i have the Kindle2 and I thi ... | GitHub\n",
       "4        | 8    | Mon May 11 03:22:00 UTC 2009 | kindle2 | GeorgeVHulme | @richardebaker no. it is too big. I'm quite happy with t ... | GitHub\n",
       "0        | 9    | Mon May 11 03:22:30 UTC 2009 | aig     | Seth937      | Fuck this economy. I hate aig and their non loan given a ... | GitHub\n",
       "4        | 10   | Mon May 11 03:26:10 UTC 2009 | jquery  | dcostalis    | Jquery is my new best friend.                                | GitHub\n",
       "4        | 11   | Mon May 11 03:27:15 UTC 2009 | twitter | PJ_King      | Loves twitter                                                | GitHub\n",
       "4        | 12   | Mon May 11 03:29:20 UTC 2009 | obama   | mandanicole  | how can you not love Obama? he makes jokes about himself.    | GitHub\n",
       "... (488 rows omitted)"
      ]
     },
     "execution_count": 10,
     "metadata": {},
     "output_type": "execute_result"
    }
   ],
   "source": [
    "twitter_data = twitter_data.with_column('source', 'GitHub')\n",
    "twitter_data\n",
    "#Since only one value was input, every row will assume that value for the new column"
   ]
  },
  {
   "cell_type": "code",
   "execution_count": 11,
   "metadata": {
    "collapsed": false
   },
   "outputs": [
    {
     "data": {
      "text/html": [
       "<table border=\"1\" class=\"dataframe\">\n",
       "    <thead>\n",
       "        <tr>\n",
       "            <th>polarity</th> <th>id</th> <th>date</th> <th>query</th> <th>user</th> <th>text</th> <th>source</th> <th>row_num</th>\n",
       "        </tr>\n",
       "    </thead>\n",
       "    <tbody>\n",
       "        <tr>\n",
       "            <td>4       </td> <td>3   </td> <td>Mon May 11 03:17:40 UTC 2009</td> <td>kindle2</td> <td>tpryan      </td> <td>@stellargirl I loooooooovvvvvveee my Kindle2. Not that t ...</td> <td>twitter</td> <td>0      </td>\n",
       "        </tr>\n",
       "    </tbody>\n",
       "        <tr>\n",
       "            <td>4       </td> <td>4   </td> <td>Mon May 11 03:18:03 UTC 2009</td> <td>kindle2</td> <td>vcu451      </td> <td>Reading my kindle2...  Love it... Lee childs is good read.  </td> <td>twitter</td> <td>1      </td>\n",
       "        </tr>\n",
       "    </tbody>\n",
       "        <tr>\n",
       "            <td>4       </td> <td>5   </td> <td>Mon May 11 03:18:54 UTC 2009</td> <td>kindle2</td> <td>chadfu      </td> <td>Ok, first assesment of the #kindle2 ...it fucking rocks!!!  </td> <td>twitter</td> <td>2      </td>\n",
       "        </tr>\n",
       "    </tbody>\n",
       "        <tr>\n",
       "            <td>4       </td> <td>6   </td> <td>Mon May 11 03:19:04 UTC 2009</td> <td>kindle2</td> <td>SIX15       </td> <td>@kenburbary You'll love your Kindle2. I've had mine for  ...</td> <td>twitter</td> <td>3      </td>\n",
       "        </tr>\n",
       "    </tbody>\n",
       "        <tr>\n",
       "            <td>4       </td> <td>7   </td> <td>Mon May 11 03:21:41 UTC 2009</td> <td>kindle2</td> <td>yamarama    </td> <td>@mikefish  Fair enough. But i have the Kindle2 and I thi ...</td> <td>twitter</td> <td>4      </td>\n",
       "        </tr>\n",
       "    </tbody>\n",
       "        <tr>\n",
       "            <td>4       </td> <td>8   </td> <td>Mon May 11 03:22:00 UTC 2009</td> <td>kindle2</td> <td>GeorgeVHulme</td> <td>@richardebaker no. it is too big. I'm quite happy with t ...</td> <td>twitter</td> <td>5      </td>\n",
       "        </tr>\n",
       "    </tbody>\n",
       "        <tr>\n",
       "            <td>0       </td> <td>9   </td> <td>Mon May 11 03:22:30 UTC 2009</td> <td>aig    </td> <td>Seth937     </td> <td>Fuck this economy. I hate aig and their non loan given a ...</td> <td>twitter</td> <td>6      </td>\n",
       "        </tr>\n",
       "    </tbody>\n",
       "        <tr>\n",
       "            <td>4       </td> <td>10  </td> <td>Mon May 11 03:26:10 UTC 2009</td> <td>jquery </td> <td>dcostalis   </td> <td>Jquery is my new best friend.                               </td> <td>twitter</td> <td>7      </td>\n",
       "        </tr>\n",
       "    </tbody>\n",
       "        <tr>\n",
       "            <td>4       </td> <td>11  </td> <td>Mon May 11 03:27:15 UTC 2009</td> <td>twitter</td> <td>PJ_King     </td> <td>Loves twitter                                               </td> <td>twitter</td> <td>8      </td>\n",
       "        </tr>\n",
       "    </tbody>\n",
       "        <tr>\n",
       "            <td>4       </td> <td>12  </td> <td>Mon May 11 03:29:20 UTC 2009</td> <td>obama  </td> <td>mandanicole </td> <td>how can you not love Obama? he makes jokes about himself.   </td> <td>twitter</td> <td>9      </td>\n",
       "        </tr>\n",
       "    </tbody>\n",
       "</table>\n",
       "<p>... (488 rows omitted)</p"
      ],
      "text/plain": [
       "polarity | id   | date                         | query   | user         | text                                                         | source  | row_num\n",
       "4        | 3    | Mon May 11 03:17:40 UTC 2009 | kindle2 | tpryan       | @stellargirl I loooooooovvvvvveee my Kindle2. Not that t ... | twitter | 0\n",
       "4        | 4    | Mon May 11 03:18:03 UTC 2009 | kindle2 | vcu451       | Reading my kindle2...  Love it... Lee childs is good read.   | twitter | 1\n",
       "4        | 5    | Mon May 11 03:18:54 UTC 2009 | kindle2 | chadfu       | Ok, first assesment of the #kindle2 ...it fucking rocks!!!   | twitter | 2\n",
       "4        | 6    | Mon May 11 03:19:04 UTC 2009 | kindle2 | SIX15        | @kenburbary You'll love your Kindle2. I've had mine for  ... | twitter | 3\n",
       "4        | 7    | Mon May 11 03:21:41 UTC 2009 | kindle2 | yamarama     | @mikefish  Fair enough. But i have the Kindle2 and I thi ... | twitter | 4\n",
       "4        | 8    | Mon May 11 03:22:00 UTC 2009 | kindle2 | GeorgeVHulme | @richardebaker no. it is too big. I'm quite happy with t ... | twitter | 5\n",
       "0        | 9    | Mon May 11 03:22:30 UTC 2009 | aig     | Seth937      | Fuck this economy. I hate aig and their non loan given a ... | twitter | 6\n",
       "4        | 10   | Mon May 11 03:26:10 UTC 2009 | jquery  | dcostalis    | Jquery is my new best friend.                                | twitter | 7\n",
       "4        | 11   | Mon May 11 03:27:15 UTC 2009 | twitter | PJ_King      | Loves twitter                                                | twitter | 8\n",
       "4        | 12   | Mon May 11 03:29:20 UTC 2009 | obama   | mandanicole  | how can you not love Obama? he makes jokes about himself.    | twitter | 9\n",
       "... (488 rows omitted)"
      ]
     },
     "execution_count": 11,
     "metadata": {},
     "output_type": "execute_result"
    }
   ],
   "source": [
    "twitter_data = twitter_data.with_columns([['source', 'twitter'], ['row_num', np.arange(498)]])\n",
    "twitter_data\n",
    "#Note how every value in 'source' was changed and how you can also add unique values in the form of an array."
   ]
  },
  {
   "cell_type": "code",
   "execution_count": 12,
   "metadata": {
    "collapsed": false
   },
   "outputs": [
    {
     "data": {
      "text/html": [
       "<table border=\"1\" class=\"dataframe\">\n",
       "    <thead>\n",
       "        <tr>\n",
       "            <th>polarity</th> <th>id</th> <th>date</th> <th>query</th> <th>user</th> <th>text</th> <th>source</th> <th>row_num</th>\n",
       "        </tr>\n",
       "    </thead>\n",
       "    <tbody>\n",
       "        <tr>\n",
       "            <td>4       </td> <td>3   </td> <td>Mon May 11 03:17:40 UTC 2009</td> <td>kindle2</td> <td>tpryan      </td> <td>@stellargirl I loooooooovvvvvveee my Kindle2. Not that t ...</td> <td>twitter</td> <td>0      </td>\n",
       "        </tr>\n",
       "    </tbody>\n",
       "        <tr>\n",
       "            <td>4       </td> <td>4   </td> <td>Mon May 11 03:18:03 UTC 2009</td> <td>kindle2</td> <td>vcu451      </td> <td>Reading my kindle2...  Love it... Lee childs is good read.  </td> <td>twitter</td> <td>1      </td>\n",
       "        </tr>\n",
       "    </tbody>\n",
       "        <tr>\n",
       "            <td>4       </td> <td>5   </td> <td>Mon May 11 03:18:54 UTC 2009</td> <td>kindle2</td> <td>chadfu      </td> <td>Ok, first assesment of the #kindle2 ...it fucking rocks!!!  </td> <td>twitter</td> <td>2      </td>\n",
       "        </tr>\n",
       "    </tbody>\n",
       "        <tr>\n",
       "            <td>4       </td> <td>6   </td> <td>Mon May 11 03:19:04 UTC 2009</td> <td>kindle2</td> <td>SIX15       </td> <td>@kenburbary You'll love your Kindle2. I've had mine for  ...</td> <td>twitter</td> <td>3      </td>\n",
       "        </tr>\n",
       "    </tbody>\n",
       "        <tr>\n",
       "            <td>4       </td> <td>7   </td> <td>Mon May 11 03:21:41 UTC 2009</td> <td>kindle2</td> <td>yamarama    </td> <td>@mikefish  Fair enough. But i have the Kindle2 and I thi ...</td> <td>twitter</td> <td>4      </td>\n",
       "        </tr>\n",
       "    </tbody>\n",
       "        <tr>\n",
       "            <td>4       </td> <td>8   </td> <td>Mon May 11 03:22:00 UTC 2009</td> <td>kindle2</td> <td>GeorgeVHulme</td> <td>@richardebaker no. it is too big. I'm quite happy with t ...</td> <td>twitter</td> <td>5      </td>\n",
       "        </tr>\n",
       "    </tbody>\n",
       "        <tr>\n",
       "            <td>0       </td> <td>9   </td> <td>Mon May 11 03:22:30 UTC 2009</td> <td>aig    </td> <td>Seth937     </td> <td>Fuck this economy. I hate aig and their non loan given a ...</td> <td>twitter</td> <td>6      </td>\n",
       "        </tr>\n",
       "    </tbody>\n",
       "        <tr>\n",
       "            <td>4       </td> <td>10  </td> <td>Mon May 11 03:26:10 UTC 2009</td> <td>jquery </td> <td>dcostalis   </td> <td>Jquery is my new best friend.                               </td> <td>twitter</td> <td>7      </td>\n",
       "        </tr>\n",
       "    </tbody>\n",
       "        <tr>\n",
       "            <td>4       </td> <td>11  </td> <td>Mon May 11 03:27:15 UTC 2009</td> <td>twitter</td> <td>PJ_King     </td> <td>Loves twitter                                               </td> <td>twitter</td> <td>8      </td>\n",
       "        </tr>\n",
       "    </tbody>\n",
       "        <tr>\n",
       "            <td>4       </td> <td>12  </td> <td>Mon May 11 03:29:20 UTC 2009</td> <td>obama  </td> <td>mandanicole </td> <td>how can you not love Obama? he makes jokes about himself.   </td> <td>twitter</td> <td>9      </td>\n",
       "        </tr>\n",
       "    </tbody>\n",
       "</table>\n",
       "<p>... (490 rows omitted)</p"
      ],
      "text/plain": [
       "polarity | id   | date                         | query   | user         | text                                                         | source  | row_num\n",
       "4        | 3    | Mon May 11 03:17:40 UTC 2009 | kindle2 | tpryan       | @stellargirl I loooooooovvvvvveee my Kindle2. Not that t ... | twitter | 0\n",
       "4        | 4    | Mon May 11 03:18:03 UTC 2009 | kindle2 | vcu451       | Reading my kindle2...  Love it... Lee childs is good read.   | twitter | 1\n",
       "4        | 5    | Mon May 11 03:18:54 UTC 2009 | kindle2 | chadfu       | Ok, first assesment of the #kindle2 ...it fucking rocks!!!   | twitter | 2\n",
       "4        | 6    | Mon May 11 03:19:04 UTC 2009 | kindle2 | SIX15        | @kenburbary You'll love your Kindle2. I've had mine for  ... | twitter | 3\n",
       "4        | 7    | Mon May 11 03:21:41 UTC 2009 | kindle2 | yamarama     | @mikefish  Fair enough. But i have the Kindle2 and I thi ... | twitter | 4\n",
       "4        | 8    | Mon May 11 03:22:00 UTC 2009 | kindle2 | GeorgeVHulme | @richardebaker no. it is too big. I'm quite happy with t ... | twitter | 5\n",
       "0        | 9    | Mon May 11 03:22:30 UTC 2009 | aig     | Seth937      | Fuck this economy. I hate aig and their non loan given a ... | twitter | 6\n",
       "4        | 10   | Mon May 11 03:26:10 UTC 2009 | jquery  | dcostalis    | Jquery is my new best friend.                                | twitter | 7\n",
       "4        | 11   | Mon May 11 03:27:15 UTC 2009 | twitter | PJ_King      | Loves twitter                                                | twitter | 8\n",
       "4        | 12   | Mon May 11 03:29:20 UTC 2009 | obama   | mandanicole  | how can you not love Obama? he makes jokes about himself.    | twitter | 9\n",
       "... (490 rows omitted)"
      ]
     },
     "execution_count": 12,
     "metadata": {},
     "output_type": "execute_result"
    }
   ],
   "source": [
    "twitter_data.with_rows([\n",
    "    [2,0,'Tue Jun 7 12:02:35 UTC 2016', 'data8', 'deneros_dog', 'Cant wait to start my first project', 'Twitter', 499],\n",
    "    [0,0,'Tue Jun 7 12:03:45 UTC 2016', 'data100', 'deneros_dog', 'Will we learn Apache Spark?', 'GitHub', 500]])\n",
    "\n",
    "#Note how each array was formatted to match the previous data types identically"
   ]
  },
  {
   "cell_type": "code",
   "execution_count": 13,
   "metadata": {
    "collapsed": false
   },
   "outputs": [
    {
     "data": {
      "text/html": [
       "<table border=\"1\" class=\"dataframe\">\n",
       "    <thead>\n",
       "        <tr>\n",
       "            <th>polarity</th> <th>date</th> <th>query</th> <th>user</th> <th>text</th> <th>row_num</th>\n",
       "        </tr>\n",
       "    </thead>\n",
       "    <tbody>\n",
       "        <tr>\n",
       "            <td>4       </td> <td>Mon May 11 03:17:40 UTC 2009</td> <td>kindle2</td> <td>tpryan      </td> <td>@stellargirl I loooooooovvvvvveee my Kindle2. Not that t ...</td> <td>0      </td>\n",
       "        </tr>\n",
       "    </tbody>\n",
       "        <tr>\n",
       "            <td>4       </td> <td>Mon May 11 03:18:03 UTC 2009</td> <td>kindle2</td> <td>vcu451      </td> <td>Reading my kindle2...  Love it... Lee childs is good read.  </td> <td>1      </td>\n",
       "        </tr>\n",
       "    </tbody>\n",
       "        <tr>\n",
       "            <td>4       </td> <td>Mon May 11 03:18:54 UTC 2009</td> <td>kindle2</td> <td>chadfu      </td> <td>Ok, first assesment of the #kindle2 ...it fucking rocks!!!  </td> <td>2      </td>\n",
       "        </tr>\n",
       "    </tbody>\n",
       "        <tr>\n",
       "            <td>4       </td> <td>Mon May 11 03:19:04 UTC 2009</td> <td>kindle2</td> <td>SIX15       </td> <td>@kenburbary You'll love your Kindle2. I've had mine for  ...</td> <td>3      </td>\n",
       "        </tr>\n",
       "    </tbody>\n",
       "        <tr>\n",
       "            <td>4       </td> <td>Mon May 11 03:21:41 UTC 2009</td> <td>kindle2</td> <td>yamarama    </td> <td>@mikefish  Fair enough. But i have the Kindle2 and I thi ...</td> <td>4      </td>\n",
       "        </tr>\n",
       "    </tbody>\n",
       "        <tr>\n",
       "            <td>4       </td> <td>Mon May 11 03:22:00 UTC 2009</td> <td>kindle2</td> <td>GeorgeVHulme</td> <td>@richardebaker no. it is too big. I'm quite happy with t ...</td> <td>5      </td>\n",
       "        </tr>\n",
       "    </tbody>\n",
       "        <tr>\n",
       "            <td>0       </td> <td>Mon May 11 03:22:30 UTC 2009</td> <td>aig    </td> <td>Seth937     </td> <td>Fuck this economy. I hate aig and their non loan given a ...</td> <td>6      </td>\n",
       "        </tr>\n",
       "    </tbody>\n",
       "        <tr>\n",
       "            <td>4       </td> <td>Mon May 11 03:26:10 UTC 2009</td> <td>jquery </td> <td>dcostalis   </td> <td>Jquery is my new best friend.                               </td> <td>7      </td>\n",
       "        </tr>\n",
       "    </tbody>\n",
       "        <tr>\n",
       "            <td>4       </td> <td>Mon May 11 03:27:15 UTC 2009</td> <td>twitter</td> <td>PJ_King     </td> <td>Loves twitter                                               </td> <td>8      </td>\n",
       "        </tr>\n",
       "    </tbody>\n",
       "        <tr>\n",
       "            <td>4       </td> <td>Mon May 11 03:29:20 UTC 2009</td> <td>obama  </td> <td>mandanicole </td> <td>how can you not love Obama? he makes jokes about himself.   </td> <td>9      </td>\n",
       "        </tr>\n",
       "    </tbody>\n",
       "</table>\n",
       "<p>... (488 rows omitted)</p"
      ],
      "text/plain": [
       "polarity | date                         | query   | user         | text                                                         | row_num\n",
       "4        | Mon May 11 03:17:40 UTC 2009 | kindle2 | tpryan       | @stellargirl I loooooooovvvvvveee my Kindle2. Not that t ... | 0\n",
       "4        | Mon May 11 03:18:03 UTC 2009 | kindle2 | vcu451       | Reading my kindle2...  Love it... Lee childs is good read.   | 1\n",
       "4        | Mon May 11 03:18:54 UTC 2009 | kindle2 | chadfu       | Ok, first assesment of the #kindle2 ...it fucking rocks!!!   | 2\n",
       "4        | Mon May 11 03:19:04 UTC 2009 | kindle2 | SIX15        | @kenburbary You'll love your Kindle2. I've had mine for  ... | 3\n",
       "4        | Mon May 11 03:21:41 UTC 2009 | kindle2 | yamarama     | @mikefish  Fair enough. But i have the Kindle2 and I thi ... | 4\n",
       "4        | Mon May 11 03:22:00 UTC 2009 | kindle2 | GeorgeVHulme | @richardebaker no. it is too big. I'm quite happy with t ... | 5\n",
       "0        | Mon May 11 03:22:30 UTC 2009 | aig     | Seth937      | Fuck this economy. I hate aig and their non loan given a ... | 6\n",
       "4        | Mon May 11 03:26:10 UTC 2009 | jquery  | dcostalis    | Jquery is my new best friend.                                | 7\n",
       "4        | Mon May 11 03:27:15 UTC 2009 | twitter | PJ_King      | Loves twitter                                                | 8\n",
       "4        | Mon May 11 03:29:20 UTC 2009 | obama   | mandanicole  | how can you not love Obama? he makes jokes about himself.    | 9\n",
       "... (488 rows omitted)"
      ]
     },
     "execution_count": 13,
     "metadata": {},
     "output_type": "execute_result"
    }
   ],
   "source": [
    "twitter_data.drop(['source', 'id']) #without 'source' or 'id'\n",
    "#twitter_data.drop('row_num') without row_num"
   ]
  },
  {
   "cell_type": "code",
   "execution_count": 14,
   "metadata": {
    "collapsed": false
   },
   "outputs": [],
   "source": [
    "odd_rows = twitter_data.take(np.arange(1,499,2)) #only only odd-numbered rows\n",
    "even_rows = twitter_data.exclude(np.arange(1,499,2)) #everything but odd-numbered rows "
   ]
  },
  {
   "cell_type": "code",
   "execution_count": 15,
   "metadata": {
    "collapsed": false
   },
   "outputs": [
    {
     "data": {
      "text/html": [
       "<table border=\"1\" class=\"dataframe\">\n",
       "    <thead>\n",
       "        <tr>\n",
       "            <th>polarity</th> <th>id</th> <th>date</th> <th>query</th> <th>user</th> <th>text</th> <th>source</th> <th>row_num</th>\n",
       "        </tr>\n",
       "    </thead>\n",
       "    <tbody>\n",
       "        <tr>\n",
       "            <td>4       </td> <td>4   </td> <td>Mon May 11 03:18:03 UTC 2009</td> <td>kindle2</td> <td>vcu451      </td> <td>Reading my kindle2...  Love it... Lee childs is good read.  </td> <td>twitter</td> <td>1      </td>\n",
       "        </tr>\n",
       "    </tbody>\n",
       "        <tr>\n",
       "            <td>4       </td> <td>6   </td> <td>Mon May 11 03:19:04 UTC 2009</td> <td>kindle2</td> <td>SIX15       </td> <td>@kenburbary You'll love your Kindle2. I've had mine for  ...</td> <td>twitter</td> <td>3      </td>\n",
       "        </tr>\n",
       "    </tbody>\n",
       "        <tr>\n",
       "            <td>4       </td> <td>8   </td> <td>Mon May 11 03:22:00 UTC 2009</td> <td>kindle2</td> <td>GeorgeVHulme</td> <td>@richardebaker no. it is too big. I'm quite happy with t ...</td> <td>twitter</td> <td>5      </td>\n",
       "        </tr>\n",
       "    </tbody>\n",
       "        <tr>\n",
       "            <td>4       </td> <td>10  </td> <td>Mon May 11 03:26:10 UTC 2009</td> <td>jquery </td> <td>dcostalis   </td> <td>Jquery is my new best friend.                               </td> <td>twitter</td> <td>7      </td>\n",
       "        </tr>\n",
       "    </tbody>\n",
       "        <tr>\n",
       "            <td>4       </td> <td>12  </td> <td>Mon May 11 03:29:20 UTC 2009</td> <td>obama  </td> <td>mandanicole </td> <td>how can you not love Obama? he makes jokes about himself.   </td> <td>twitter</td> <td>9      </td>\n",
       "        </tr>\n",
       "    </tbody>\n",
       "        <tr>\n",
       "            <td>0       </td> <td>14  </td> <td>Mon May 11 03:32:48 UTC 2009</td> <td>obama  </td> <td>kylesellers </td> <td>@Karoli I firmly believe that Obama/Pelosi have ZERO des ...</td> <td>twitter</td> <td>11     </td>\n",
       "        </tr>\n",
       "    </tbody>\n",
       "        <tr>\n",
       "            <td>4       </td> <td>16  </td> <td>Mon May 11 05:05:58 UTC 2009</td> <td>nike   </td> <td>MumsFP      </td> <td>Watchin Espn..Jus seen this new Nike Commerical with a P ...</td> <td>twitter</td> <td>13     </td>\n",
       "        </tr>\n",
       "    </tbody>\n",
       "        <tr>\n",
       "            <td>4       </td> <td>18  </td> <td>Mon May 11 05:20:15 UTC 2009</td> <td>lebron </td> <td>cameronwylie</td> <td>#lebron best athlete of our generation, if not all time  ...</td> <td>twitter</td> <td>15     </td>\n",
       "        </tr>\n",
       "    </tbody>\n",
       "        <tr>\n",
       "            <td>4       </td> <td>20  </td> <td>Mon May 11 05:21:04 UTC 2009</td> <td>lebron </td> <td>mtgillikin  </td> <td>i love lebron. http://bit.ly/PdHur                          </td> <td>twitter</td> <td>17     </td>\n",
       "        </tr>\n",
       "    </tbody>\n",
       "        <tr>\n",
       "            <td>4       </td> <td>22  </td> <td>Mon May 11 05:21:45 UTC 2009</td> <td>lebron </td> <td>Native_01   </td> <td>@Pmillzz lebron IS THE BOSS                                 </td> <td>twitter</td> <td>19     </td>\n",
       "        </tr>\n",
       "    </tbody>\n",
       "</table>\n",
       "<p>... (488 rows omitted)</p"
      ],
      "text/plain": [
       "polarity | id   | date                         | query   | user         | text                                                         | source  | row_num\n",
       "4        | 4    | Mon May 11 03:18:03 UTC 2009 | kindle2 | vcu451       | Reading my kindle2...  Love it... Lee childs is good read.   | twitter | 1\n",
       "4        | 6    | Mon May 11 03:19:04 UTC 2009 | kindle2 | SIX15        | @kenburbary You'll love your Kindle2. I've had mine for  ... | twitter | 3\n",
       "4        | 8    | Mon May 11 03:22:00 UTC 2009 | kindle2 | GeorgeVHulme | @richardebaker no. it is too big. I'm quite happy with t ... | twitter | 5\n",
       "4        | 10   | Mon May 11 03:26:10 UTC 2009 | jquery  | dcostalis    | Jquery is my new best friend.                                | twitter | 7\n",
       "4        | 12   | Mon May 11 03:29:20 UTC 2009 | obama   | mandanicole  | how can you not love Obama? he makes jokes about himself.    | twitter | 9\n",
       "0        | 14   | Mon May 11 03:32:48 UTC 2009 | obama   | kylesellers  | @Karoli I firmly believe that Obama/Pelosi have ZERO des ... | twitter | 11\n",
       "4        | 16   | Mon May 11 05:05:58 UTC 2009 | nike    | MumsFP       | Watchin Espn..Jus seen this new Nike Commerical with a P ... | twitter | 13\n",
       "4        | 18   | Mon May 11 05:20:15 UTC 2009 | lebron  | cameronwylie | #lebron best athlete of our generation, if not all time  ... | twitter | 15\n",
       "4        | 20   | Mon May 11 05:21:04 UTC 2009 | lebron  | mtgillikin   | i love lebron. http://bit.ly/PdHur                           | twitter | 17\n",
       "4        | 22   | Mon May 11 05:21:45 UTC 2009 | lebron  | Native_01    | @Pmillzz lebron IS THE BOSS                                  | twitter | 19\n",
       "... (488 rows omitted)"
      ]
     },
     "execution_count": 15,
     "metadata": {},
     "output_type": "execute_result"
    }
   ],
   "source": [
    "odd_rows.append(even_rows)  #all the even numbers are now on the bottom of the table"
   ]
  },
  {
   "cell_type": "code",
   "execution_count": 16,
   "metadata": {
    "collapsed": false
   },
   "outputs": [],
   "source": [
    "odd_rows.append_column('source', 'odd_twitter') \n",
    "#notice, the table is not returned, but only mutated with the above call that replaced the column"
   ]
  },
  {
   "cell_type": "code",
   "execution_count": 17,
   "metadata": {
    "collapsed": false
   },
   "outputs": [
    {
     "data": {
      "text/html": [
       "<table border=\"1\" class=\"dataframe\">\n",
       "    <thead>\n",
       "        <tr>\n",
       "            <th>query</th> <th>polarity</th> <th>text</th>\n",
       "        </tr>\n",
       "    </thead>\n",
       "    <tbody>\n",
       "        <tr>\n",
       "            <td>kindle2</td> <td>4       </td> <td>@stellargirl I loooooooovvvvvveee my Kindle2. Not that t ...</td>\n",
       "        </tr>\n",
       "    </tbody>\n",
       "        <tr>\n",
       "            <td>kindle2</td> <td>4       </td> <td>Reading my kindle2...  Love it... Lee childs is good read.  </td>\n",
       "        </tr>\n",
       "    </tbody>\n",
       "        <tr>\n",
       "            <td>kindle2</td> <td>4       </td> <td>Ok, first assesment of the #kindle2 ...it fucking rocks!!!  </td>\n",
       "        </tr>\n",
       "    </tbody>\n",
       "        <tr>\n",
       "            <td>kindle2</td> <td>4       </td> <td>@kenburbary You'll love your Kindle2. I've had mine for  ...</td>\n",
       "        </tr>\n",
       "    </tbody>\n",
       "        <tr>\n",
       "            <td>kindle2</td> <td>4       </td> <td>@mikefish  Fair enough. But i have the Kindle2 and I thi ...</td>\n",
       "        </tr>\n",
       "    </tbody>\n",
       "        <tr>\n",
       "            <td>kindle2</td> <td>4       </td> <td>@richardebaker no. it is too big. I'm quite happy with t ...</td>\n",
       "        </tr>\n",
       "    </tbody>\n",
       "        <tr>\n",
       "            <td>aig    </td> <td>0       </td> <td>Fuck this economy. I hate aig and their non loan given a ...</td>\n",
       "        </tr>\n",
       "    </tbody>\n",
       "        <tr>\n",
       "            <td>jquery </td> <td>4       </td> <td>Jquery is my new best friend.                               </td>\n",
       "        </tr>\n",
       "    </tbody>\n",
       "        <tr>\n",
       "            <td>twitter</td> <td>4       </td> <td>Loves twitter                                               </td>\n",
       "        </tr>\n",
       "    </tbody>\n",
       "        <tr>\n",
       "            <td>obama  </td> <td>4       </td> <td>how can you not love Obama? he makes jokes about himself.   </td>\n",
       "        </tr>\n",
       "    </tbody>\n",
       "</table>\n",
       "<p>... (488 rows omitted)</p"
      ],
      "text/plain": [
       "query   | polarity | text\n",
       "kindle2 | 4        | @stellargirl I loooooooovvvvvveee my Kindle2. Not that t ...\n",
       "kindle2 | 4        | Reading my kindle2...  Love it... Lee childs is good read.\n",
       "kindle2 | 4        | Ok, first assesment of the #kindle2 ...it fucking rocks!!!\n",
       "kindle2 | 4        | @kenburbary You'll love your Kindle2. I've had mine for  ...\n",
       "kindle2 | 4        | @mikefish  Fair enough. But i have the Kindle2 and I thi ...\n",
       "kindle2 | 4        | @richardebaker no. it is too big. I'm quite happy with t ...\n",
       "aig     | 0        | Fuck this economy. I hate aig and their non loan given a ...\n",
       "jquery  | 4        | Jquery is my new best friend.\n",
       "twitter | 4        | Loves twitter\n",
       "obama   | 4        | how can you not love Obama? he makes jokes about himself.\n",
       "... (488 rows omitted)"
      ]
     },
     "execution_count": 17,
     "metadata": {},
     "output_type": "execute_result"
    }
   ],
   "source": [
    "twitter_data.select(['query', 'polarity', 'text'])"
   ]
  },
  {
   "cell_type": "code",
   "execution_count": 18,
   "metadata": {
    "collapsed": false
   },
   "outputs": [
    {
     "data": {
      "text/html": [
       "<table border=\"1\" class=\"dataframe\">\n",
       "    <thead>\n",
       "        <tr>\n",
       "            <th>row_num</th> <th>polarity</th> <th>id</th> <th>date</th> <th>query</th> <th>user</th> <th>text</th> <th>source</th>\n",
       "        </tr>\n",
       "    </thead>\n",
       "    <tbody>\n",
       "        <tr>\n",
       "            <td>0      </td> <td>4       </td> <td>3   </td> <td>Mon May 11 03:17:40 UTC 2009</td> <td>kindle2</td> <td>tpryan      </td> <td>@stellargirl I loooooooovvvvvveee my Kindle2. Not that t ...</td> <td>twitter</td>\n",
       "        </tr>\n",
       "    </tbody>\n",
       "        <tr>\n",
       "            <td>1      </td> <td>4       </td> <td>4   </td> <td>Mon May 11 03:18:03 UTC 2009</td> <td>kindle2</td> <td>vcu451      </td> <td>Reading my kindle2...  Love it... Lee childs is good read.  </td> <td>twitter</td>\n",
       "        </tr>\n",
       "    </tbody>\n",
       "        <tr>\n",
       "            <td>2      </td> <td>4       </td> <td>5   </td> <td>Mon May 11 03:18:54 UTC 2009</td> <td>kindle2</td> <td>chadfu      </td> <td>Ok, first assesment of the #kindle2 ...it fucking rocks!!!  </td> <td>twitter</td>\n",
       "        </tr>\n",
       "    </tbody>\n",
       "        <tr>\n",
       "            <td>3      </td> <td>4       </td> <td>6   </td> <td>Mon May 11 03:19:04 UTC 2009</td> <td>kindle2</td> <td>SIX15       </td> <td>@kenburbary You'll love your Kindle2. I've had mine for  ...</td> <td>twitter</td>\n",
       "        </tr>\n",
       "    </tbody>\n",
       "        <tr>\n",
       "            <td>4      </td> <td>4       </td> <td>7   </td> <td>Mon May 11 03:21:41 UTC 2009</td> <td>kindle2</td> <td>yamarama    </td> <td>@mikefish  Fair enough. But i have the Kindle2 and I thi ...</td> <td>twitter</td>\n",
       "        </tr>\n",
       "    </tbody>\n",
       "        <tr>\n",
       "            <td>5      </td> <td>4       </td> <td>8   </td> <td>Mon May 11 03:22:00 UTC 2009</td> <td>kindle2</td> <td>GeorgeVHulme</td> <td>@richardebaker no. it is too big. I'm quite happy with t ...</td> <td>twitter</td>\n",
       "        </tr>\n",
       "    </tbody>\n",
       "        <tr>\n",
       "            <td>6      </td> <td>0       </td> <td>9   </td> <td>Mon May 11 03:22:30 UTC 2009</td> <td>aig    </td> <td>Seth937     </td> <td>Fuck this economy. I hate aig and their non loan given a ...</td> <td>twitter</td>\n",
       "        </tr>\n",
       "    </tbody>\n",
       "        <tr>\n",
       "            <td>7      </td> <td>4       </td> <td>10  </td> <td>Mon May 11 03:26:10 UTC 2009</td> <td>jquery </td> <td>dcostalis   </td> <td>Jquery is my new best friend.                               </td> <td>twitter</td>\n",
       "        </tr>\n",
       "    </tbody>\n",
       "        <tr>\n",
       "            <td>8      </td> <td>4       </td> <td>11  </td> <td>Mon May 11 03:27:15 UTC 2009</td> <td>twitter</td> <td>PJ_King     </td> <td>Loves twitter                                               </td> <td>twitter</td>\n",
       "        </tr>\n",
       "    </tbody>\n",
       "        <tr>\n",
       "            <td>9      </td> <td>4       </td> <td>12  </td> <td>Mon May 11 03:29:20 UTC 2009</td> <td>obama  </td> <td>mandanicole </td> <td>how can you not love Obama? he makes jokes about himself.   </td> <td>twitter</td>\n",
       "        </tr>\n",
       "    </tbody>\n",
       "</table>\n",
       "<p>... (488 rows omitted)</p"
      ],
      "text/plain": [
       "row_num | polarity | id   | date                         | query   | user         | text                                                         | source\n",
       "0       | 4        | 3    | Mon May 11 03:17:40 UTC 2009 | kindle2 | tpryan       | @stellargirl I loooooooovvvvvveee my Kindle2. Not that t ... | twitter\n",
       "1       | 4        | 4    | Mon May 11 03:18:03 UTC 2009 | kindle2 | vcu451       | Reading my kindle2...  Love it... Lee childs is good read.   | twitter\n",
       "2       | 4        | 5    | Mon May 11 03:18:54 UTC 2009 | kindle2 | chadfu       | Ok, first assesment of the #kindle2 ...it fucking rocks!!!   | twitter\n",
       "3       | 4        | 6    | Mon May 11 03:19:04 UTC 2009 | kindle2 | SIX15        | @kenburbary You'll love your Kindle2. I've had mine for  ... | twitter\n",
       "4       | 4        | 7    | Mon May 11 03:21:41 UTC 2009 | kindle2 | yamarama     | @mikefish  Fair enough. But i have the Kindle2 and I thi ... | twitter\n",
       "5       | 4        | 8    | Mon May 11 03:22:00 UTC 2009 | kindle2 | GeorgeVHulme | @richardebaker no. it is too big. I'm quite happy with t ... | twitter\n",
       "6       | 0        | 9    | Mon May 11 03:22:30 UTC 2009 | aig     | Seth937      | Fuck this economy. I hate aig and their non loan given a ... | twitter\n",
       "7       | 4        | 10   | Mon May 11 03:26:10 UTC 2009 | jquery  | dcostalis    | Jquery is my new best friend.                                | twitter\n",
       "8       | 4        | 11   | Mon May 11 03:27:15 UTC 2009 | twitter | PJ_King      | Loves twitter                                                | twitter\n",
       "9       | 4        | 12   | Mon May 11 03:29:20 UTC 2009 | obama   | mandanicole  | how can you not love Obama? he makes jokes about himself.    | twitter\n",
       "... (488 rows omitted)"
      ]
     },
     "execution_count": 18,
     "metadata": {},
     "output_type": "execute_result"
    }
   ],
   "source": [
    "twitter_data.move_to_start('row_num')\n",
    "#Uncomment and delete this message to see that the twitter_data table object has changed\n",
    "#twitter_data"
   ]
  },
  {
   "cell_type": "code",
   "execution_count": 19,
   "metadata": {
    "collapsed": false
   },
   "outputs": [
    {
     "data": {
      "text/html": [
       "<table border=\"1\" class=\"dataframe\">\n",
       "    <thead>\n",
       "        <tr>\n",
       "            <th>row_num</th> <th>polarity</th> <th>id</th> <th>query</th> <th>user</th> <th>text</th> <th>source</th> <th>date</th>\n",
       "        </tr>\n",
       "    </thead>\n",
       "    <tbody>\n",
       "        <tr>\n",
       "            <td>0      </td> <td>4       </td> <td>3   </td> <td>kindle2</td> <td>tpryan      </td> <td>@stellargirl I loooooooovvvvvveee my Kindle2. Not that t ...</td> <td>twitter</td> <td>Mon May 11 03:17:40 UTC 2009</td>\n",
       "        </tr>\n",
       "    </tbody>\n",
       "        <tr>\n",
       "            <td>1      </td> <td>4       </td> <td>4   </td> <td>kindle2</td> <td>vcu451      </td> <td>Reading my kindle2...  Love it... Lee childs is good read.  </td> <td>twitter</td> <td>Mon May 11 03:18:03 UTC 2009</td>\n",
       "        </tr>\n",
       "    </tbody>\n",
       "        <tr>\n",
       "            <td>2      </td> <td>4       </td> <td>5   </td> <td>kindle2</td> <td>chadfu      </td> <td>Ok, first assesment of the #kindle2 ...it fucking rocks!!!  </td> <td>twitter</td> <td>Mon May 11 03:18:54 UTC 2009</td>\n",
       "        </tr>\n",
       "    </tbody>\n",
       "        <tr>\n",
       "            <td>3      </td> <td>4       </td> <td>6   </td> <td>kindle2</td> <td>SIX15       </td> <td>@kenburbary You'll love your Kindle2. I've had mine for  ...</td> <td>twitter</td> <td>Mon May 11 03:19:04 UTC 2009</td>\n",
       "        </tr>\n",
       "    </tbody>\n",
       "        <tr>\n",
       "            <td>4      </td> <td>4       </td> <td>7   </td> <td>kindle2</td> <td>yamarama    </td> <td>@mikefish  Fair enough. But i have the Kindle2 and I thi ...</td> <td>twitter</td> <td>Mon May 11 03:21:41 UTC 2009</td>\n",
       "        </tr>\n",
       "    </tbody>\n",
       "        <tr>\n",
       "            <td>5      </td> <td>4       </td> <td>8   </td> <td>kindle2</td> <td>GeorgeVHulme</td> <td>@richardebaker no. it is too big. I'm quite happy with t ...</td> <td>twitter</td> <td>Mon May 11 03:22:00 UTC 2009</td>\n",
       "        </tr>\n",
       "    </tbody>\n",
       "        <tr>\n",
       "            <td>6      </td> <td>0       </td> <td>9   </td> <td>aig    </td> <td>Seth937     </td> <td>Fuck this economy. I hate aig and their non loan given a ...</td> <td>twitter</td> <td>Mon May 11 03:22:30 UTC 2009</td>\n",
       "        </tr>\n",
       "    </tbody>\n",
       "        <tr>\n",
       "            <td>7      </td> <td>4       </td> <td>10  </td> <td>jquery </td> <td>dcostalis   </td> <td>Jquery is my new best friend.                               </td> <td>twitter</td> <td>Mon May 11 03:26:10 UTC 2009</td>\n",
       "        </tr>\n",
       "    </tbody>\n",
       "        <tr>\n",
       "            <td>8      </td> <td>4       </td> <td>11  </td> <td>twitter</td> <td>PJ_King     </td> <td>Loves twitter                                               </td> <td>twitter</td> <td>Mon May 11 03:27:15 UTC 2009</td>\n",
       "        </tr>\n",
       "    </tbody>\n",
       "        <tr>\n",
       "            <td>9      </td> <td>4       </td> <td>12  </td> <td>obama  </td> <td>mandanicole </td> <td>how can you not love Obama? he makes jokes about himself.   </td> <td>twitter</td> <td>Mon May 11 03:29:20 UTC 2009</td>\n",
       "        </tr>\n",
       "    </tbody>\n",
       "</table>\n",
       "<p>... (488 rows omitted)</p"
      ],
      "text/plain": [
       "row_num | polarity | id   | query   | user         | text                                                         | source  | date\n",
       "0       | 4        | 3    | kindle2 | tpryan       | @stellargirl I loooooooovvvvvveee my Kindle2. Not that t ... | twitter | Mon May 11 03:17:40 UTC 2009\n",
       "1       | 4        | 4    | kindle2 | vcu451       | Reading my kindle2...  Love it... Lee childs is good read.   | twitter | Mon May 11 03:18:03 UTC 2009\n",
       "2       | 4        | 5    | kindle2 | chadfu       | Ok, first assesment of the #kindle2 ...it fucking rocks!!!   | twitter | Mon May 11 03:18:54 UTC 2009\n",
       "3       | 4        | 6    | kindle2 | SIX15        | @kenburbary You'll love your Kindle2. I've had mine for  ... | twitter | Mon May 11 03:19:04 UTC 2009\n",
       "4       | 4        | 7    | kindle2 | yamarama     | @mikefish  Fair enough. But i have the Kindle2 and I thi ... | twitter | Mon May 11 03:21:41 UTC 2009\n",
       "5       | 4        | 8    | kindle2 | GeorgeVHulme | @richardebaker no. it is too big. I'm quite happy with t ... | twitter | Mon May 11 03:22:00 UTC 2009\n",
       "6       | 0        | 9    | aig     | Seth937      | Fuck this economy. I hate aig and their non loan given a ... | twitter | Mon May 11 03:22:30 UTC 2009\n",
       "7       | 4        | 10   | jquery  | dcostalis    | Jquery is my new best friend.                                | twitter | Mon May 11 03:26:10 UTC 2009\n",
       "8       | 4        | 11   | twitter | PJ_King      | Loves twitter                                                | twitter | Mon May 11 03:27:15 UTC 2009\n",
       "9       | 4        | 12   | obama   | mandanicole  | how can you not love Obama? he makes jokes about himself.    | twitter | Mon May 11 03:29:20 UTC 2009\n",
       "... (488 rows omitted)"
      ]
     },
     "execution_count": 19,
     "metadata": {},
     "output_type": "execute_result"
    }
   ],
   "source": [
    "twitter_data.move_to_end('date')"
   ]
  },
  {
   "cell_type": "markdown",
   "metadata": {
    "collapsed": true
   },
   "source": [
    "# Useful Functions\n",
    "\n",
    "### This explores many of the functions used on tables and provides examples of their use\n",
    "\n",
    "## Mutation\n",
    "\n",
    "#### It is important to note that certain functions have optional arguments, such that you only need to call it on 1 or 2 variables, rather than all 5. You can distinguish between these because unnecessary variables have an = sign after them (i.e. collect = {fn})\n",
    "\n",
    "- .sort(column_label, decreasing = {T/F}, distinct = {T/F} : Sorts values in a column according to value in the specified column, either increasing or decreasing. distinct = True removes repeated values.\n",
    "\n",
    "\n",
    "- .group(column_label, collect = {fn}) : Groups values in the table based on unique values in that column_label. Then, because values are usually aggregated in the other columns, the collect = {fn} sets a function that will run on that array and can return a single value or other function output.\n",
    "\n",
    "\n",
    "- .groups([column_labels], collect = {fn}) : Groups values in the table based on unique values in the column label pairs/trios...\n",
    "\n",
    "\n",
    "- .pivot(column_label, row or [rows], values = column_label or [labels], collect = {fn}, zero = {val}) : Makes a table with a column for each unique value from column_label. The table rows are made of unique values in row or [rows] and the bulk of the table is the counts of each occurrence of a value in both of those categories. values could also be set to a column instead of counts, but to do so, you need a collect function and zero processor.\n",
    "\n",
    "\n",
    "- .stack(key, labels = [column_labels]) : Makes a 2 or 3-column table with the first column as each value in that table. The next columns are all data associated with that value. If labels are specified then the data associated with that value are just the ones specified.\n",
    "\n",
    "\n",
    "- .join(column_label, other_table, other_column_label) : Generates a table with columns in self and other_table, with rows for all values of a column that appear in both tables. If a join value appears elsewhere in the original (self) table, both instances appear in the joined table, but if values are repeated in the other_table, only the first is joined."
   ]
  },
  {
   "cell_type": "code",
   "execution_count": 20,
   "metadata": {
    "collapsed": false
   },
   "outputs": [
    {
     "data": {
      "text/html": [
       "<table border=\"1\" class=\"dataframe\">\n",
       "    <thead>\n",
       "        <tr>\n",
       "            <th>row_num</th> <th>polarity</th> <th>id</th> <th>query</th> <th>user</th> <th>text</th> <th>source</th> <th>date</th>\n",
       "        </tr>\n",
       "    </thead>\n",
       "    <tbody>\n",
       "        <tr>\n",
       "            <td>495    </td> <td>4       </td> <td>14074</td> <td>latex     </td> <td>iamtheonlyjosie</td> <td>Ahhh... back in a *real* text editing environment. I &lt ...</td> <td>twitter</td> <td>Sun Jun 14 04:36:34 UTC 2009</td>\n",
       "        </tr>\n",
       "    </tbody>\n",
       "        <tr>\n",
       "            <td>492    </td> <td>4       </td> <td>14071</td> <td>latex     </td> <td>yomcat         </td> <td>After using LaTeX a lot, any other typeset mathematics j ...</td> <td>twitter</td> <td>Sun Jun 14 04:31:28 UTC 2009</td>\n",
       "        </tr>\n",
       "    </tbody>\n",
       "        <tr>\n",
       "            <td>491    </td> <td>4       </td> <td>14070</td> <td>latex     </td> <td>roguemovement  </td> <td>using Linux and loving it - so much nicer than windows.. ...</td> <td>twitter</td> <td>Sun Jun 14 04:31:23 UTC 2009</td>\n",
       "        </tr>\n",
       "    </tbody>\n",
       "        <tr>\n",
       "            <td>489    </td> <td>4       </td> <td>14050</td> <td>Bobby Flay</td> <td>A_TALL_BLONDE  </td> <td>i lam so in love with Bobby Flay... he is my favorite. R ...</td> <td>twitter</td> <td>Sat Jun 13 16:24:15 UTC 2009</td>\n",
       "        </tr>\n",
       "    </tbody>\n",
       "        <tr>\n",
       "            <td>487    </td> <td>4       </td> <td>14046</td> <td>Bobby Flay</td> <td>JimFacey       </td> <td>getting ready to test out some burger receipes this week ...</td> <td>twitter</td> <td>Sat Jun 13 16:23:41 UTC 2009</td>\n",
       "        </tr>\n",
       "    </tbody>\n",
       "        <tr>\n",
       "            <td>479    </td> <td>4       </td> <td>13055</td> <td>Bobby Flay</td> <td>LAURAcBRYAN    </td> <td>My dad was in NY for a day, we ate at MESA grill last ni ...</td> <td>twitter</td> <td>Sat Jun 13 16:24:34 UTC 2009</td>\n",
       "        </tr>\n",
       "    </tbody>\n",
       "        <tr>\n",
       "            <td>478    </td> <td>4       </td> <td>13054</td> <td>Bobby Flay</td> <td>annieblane     </td> <td>can't wait for the great american food and music festiva ...</td> <td>twitter</td> <td>Sat Jun 13 16:24:25 UTC 2009</td>\n",
       "        </tr>\n",
       "    </tbody>\n",
       "        <tr>\n",
       "            <td>477    </td> <td>4       </td> <td>13053</td> <td>Bobby Flay</td> <td>ZFilth         </td> <td>Gonna go see Bobby Flay 2moro at Shoreline. Eat and drin ...</td> <td>twitter</td> <td>Sat Jun 13 16:24:12 UTC 2009</td>\n",
       "        </tr>\n",
       "    </tbody>\n",
       "        <tr>\n",
       "            <td>476    </td> <td>4       </td> <td>13052</td> <td>Bobby Flay</td> <td>tessalau       </td> <td>Excited about seeing Bobby Flay and Guy Fieri tomorrow a ...</td> <td>twitter</td> <td>Sat Jun 13 16:24:08 UTC 2009</td>\n",
       "        </tr>\n",
       "    </tbody>\n",
       "        <tr>\n",
       "            <td>471    </td> <td>4       </td> <td>7015 </td> <td>google    </td> <td>popitlockit    </td> <td>I have a google addiction. Thank you for pointing that o ...</td> <td>twitter</td> <td>Wed Jun 10 05:24:40 UTC 2009</td>\n",
       "        </tr>\n",
       "    </tbody>\n",
       "</table>\n",
       "<p>... (488 rows omitted)</p"
      ],
      "text/plain": [
       "row_num | polarity | id    | query      | user            | text                                                         | source  | date\n",
       "495     | 4        | 14074 | latex      | iamtheonlyjosie | Ahhh... back in a *real* text editing environment. I &lt ... | twitter | Sun Jun 14 04:36:34 UTC 2009\n",
       "492     | 4        | 14071 | latex      | yomcat          | After using LaTeX a lot, any other typeset mathematics j ... | twitter | Sun Jun 14 04:31:28 UTC 2009\n",
       "491     | 4        | 14070 | latex      | roguemovement   | using Linux and loving it - so much nicer than windows.. ... | twitter | Sun Jun 14 04:31:23 UTC 2009\n",
       "489     | 4        | 14050 | Bobby Flay | A_TALL_BLONDE   | i lam so in love with Bobby Flay... he is my favorite. R ... | twitter | Sat Jun 13 16:24:15 UTC 2009\n",
       "487     | 4        | 14046 | Bobby Flay | JimFacey        | getting ready to test out some burger receipes this week ... | twitter | Sat Jun 13 16:23:41 UTC 2009\n",
       "479     | 4        | 13055 | Bobby Flay | LAURAcBRYAN     | My dad was in NY for a day, we ate at MESA grill last ni ... | twitter | Sat Jun 13 16:24:34 UTC 2009\n",
       "478     | 4        | 13054 | Bobby Flay | annieblane      | can't wait for the great american food and music festiva ... | twitter | Sat Jun 13 16:24:25 UTC 2009\n",
       "477     | 4        | 13053 | Bobby Flay | ZFilth          | Gonna go see Bobby Flay 2moro at Shoreline. Eat and drin ... | twitter | Sat Jun 13 16:24:12 UTC 2009\n",
       "476     | 4        | 13052 | Bobby Flay | tessalau        | Excited about seeing Bobby Flay and Guy Fieri tomorrow a ... | twitter | Sat Jun 13 16:24:08 UTC 2009\n",
       "471     | 4        | 7015  | google     | popitlockit     | I have a google addiction. Thank you for pointing that o ... | twitter | Wed Jun 10 05:24:40 UTC 2009\n",
       "... (488 rows omitted)"
      ]
     },
     "execution_count": 20,
     "metadata": {},
     "output_type": "execute_result"
    }
   ],
   "source": [
    "twitter_data.sort('polarity', descending = True, distinct = False) \n",
    "#twitter_data.sort('polarity', descending = True, distinct = True)  #uncomment this to see when distinct = True"
   ]
  },
  {
   "cell_type": "code",
   "execution_count": 21,
   "metadata": {
    "collapsed": false
   },
   "outputs": [
    {
     "data": {
      "text/html": [
       "<table border=\"1\" class=\"dataframe\">\n",
       "    <thead>\n",
       "        <tr>\n",
       "            <th>polarity</th> <th>count</th>\n",
       "        </tr>\n",
       "    </thead>\n",
       "    <tbody>\n",
       "        <tr>\n",
       "            <td>0       </td> <td>177  </td>\n",
       "        </tr>\n",
       "    </tbody>\n",
       "        <tr>\n",
       "            <td>2       </td> <td>139  </td>\n",
       "        </tr>\n",
       "    </tbody>\n",
       "        <tr>\n",
       "            <td>4       </td> <td>182  </td>\n",
       "        </tr>\n",
       "    </tbody>\n",
       "</table>"
      ],
      "text/plain": [
       "polarity | count\n",
       "0        | 177\n",
       "2        | 139\n",
       "4        | 182"
      ]
     },
     "execution_count": 21,
     "metadata": {},
     "output_type": "execute_result"
    }
   ],
   "source": [
    "twitter_data.group('polarity')   #when no collect function is specified, the counts are returned"
   ]
  },
  {
   "cell_type": "code",
   "execution_count": 22,
   "metadata": {
    "collapsed": false
   },
   "outputs": [
    {
     "data": {
      "text/html": [
       "<table border=\"1\" class=\"dataframe\">\n",
       "    <thead>\n",
       "        <tr>\n",
       "            <th>polarity</th> <th>row_num mean</th> <th>id mean</th> <th>query mean</th> <th>user mean</th> <th>text mean</th> <th>source mean</th> <th>date mean</th>\n",
       "        </tr>\n",
       "    </thead>\n",
       "    <tbody>\n",
       "        <tr>\n",
       "            <td>0       </td> <td>247.938     </td> <td>1872.81</td> <td>          </td> <td>         </td> <td>         </td> <td>           </td> <td>         </td>\n",
       "        </tr>\n",
       "    </tbody>\n",
       "        <tr>\n",
       "            <td>2       </td> <td>272.439     </td> <td>1848.27</td> <td>          </td> <td>         </td> <td>         </td> <td>           </td> <td>         </td>\n",
       "        </tr>\n",
       "    </tbody>\n",
       "        <tr>\n",
       "            <td>4       </td> <td>230.764     </td> <td>1876.27</td> <td>          </td> <td>         </td> <td>         </td> <td>           </td> <td>         </td>\n",
       "        </tr>\n",
       "    </tbody>\n",
       "</table>"
      ],
      "text/plain": [
       "polarity | row_num mean | id mean | query mean | user mean | text mean | source mean | date mean\n",
       "0        | 247.938      | 1872.81 |            |           |           |             |\n",
       "2        | 272.439      | 1848.27 |            |           |           |             |\n",
       "4        | 230.764      | 1876.27 |            |           |           |             |"
      ]
     },
     "execution_count": 22,
     "metadata": {},
     "output_type": "execute_result"
    }
   ],
   "source": [
    "twitter_data.group('polarity', collect = np.mean)  \n",
    "#most functions operate best on numerical values, and return nothing if operating on strings"
   ]
  },
  {
   "cell_type": "code",
   "execution_count": 23,
   "metadata": {
    "collapsed": false
   },
   "outputs": [
    {
     "data": {
      "text/html": [
       "<table border=\"1\" class=\"dataframe\">\n",
       "    <thead>\n",
       "        <tr>\n",
       "            <th>user</th> <th>count</th>\n",
       "        </tr>\n",
       "    </thead>\n",
       "    <tbody>\n",
       "        <tr>\n",
       "            <td>vmkobs       </td> <td>3    </td>\n",
       "        </tr>\n",
       "    </tbody>\n",
       "        <tr>\n",
       "            <td>tradecruz    </td> <td>2    </td>\n",
       "        </tr>\n",
       "    </tbody>\n",
       "        <tr>\n",
       "            <td>souleaterjh  </td> <td>2    </td>\n",
       "        </tr>\n",
       "    </tbody>\n",
       "        <tr>\n",
       "            <td>mobileadgirl </td> <td>2    </td>\n",
       "        </tr>\n",
       "    </tbody>\n",
       "        <tr>\n",
       "            <td>cfbloggers   </td> <td>2    </td>\n",
       "        </tr>\n",
       "    </tbody>\n",
       "        <tr>\n",
       "            <td>SimpleManJess</td> <td>2    </td>\n",
       "        </tr>\n",
       "    </tbody>\n",
       "        <tr>\n",
       "            <td>MamiYessi    </td> <td>2    </td>\n",
       "        </tr>\n",
       "    </tbody>\n",
       "        <tr>\n",
       "            <td>zedomax      </td> <td>1    </td>\n",
       "        </tr>\n",
       "    </tbody>\n",
       "        <tr>\n",
       "            <td>zed01        </td> <td>1    </td>\n",
       "        </tr>\n",
       "    </tbody>\n",
       "        <tr>\n",
       "            <td>yowneh       </td> <td>1    </td>\n",
       "        </tr>\n",
       "    </tbody>\n",
       "</table>\n",
       "<p>... (480 rows omitted)</p"
      ],
      "text/plain": [
       "user          | count\n",
       "vmkobs        | 3\n",
       "tradecruz     | 2\n",
       "souleaterjh   | 2\n",
       "mobileadgirl  | 2\n",
       "cfbloggers    | 2\n",
       "SimpleManJess | 2\n",
       "MamiYessi     | 2\n",
       "zedomax       | 1\n",
       "zed01         | 1\n",
       "yowneh        | 1\n",
       "... (480 rows omitted)"
      ]
     },
     "execution_count": 23,
     "metadata": {},
     "output_type": "execute_result"
    }
   ],
   "source": [
    "twitter_data.group('user').sort('count', descending = True) \n",
    "# Since most methods return a mutated instance of the original table, you can often use multiple methods in \n",
    "# a single statement to return more complex or specific results.\n",
    "# This shows that some users posted 2-3 tweets because it grouped the table by username counting the number of tweets \n",
    "# associated with that user, then, the table is sorted so that the highest counts are at the top."
   ]
  },
  {
   "cell_type": "code",
   "execution_count": 24,
   "metadata": {
    "collapsed": false
   },
   "outputs": [
    {
     "data": {
      "text/html": [
       "<table border=\"1\" class=\"dataframe\">\n",
       "    <thead>\n",
       "        <tr>\n",
       "            <th>user</th> <th>0</th> <th>2</th> <th>4</th>\n",
       "        </tr>\n",
       "    </thead>\n",
       "    <tbody>\n",
       "        <tr>\n",
       "            <td>5x1llz         </td> <td>0   </td> <td>1   </td> <td>0   </td>\n",
       "        </tr>\n",
       "    </tbody>\n",
       "        <tr>\n",
       "            <td>A_TALL_BLONDE  </td> <td>0   </td> <td>0   </td> <td>1   </td>\n",
       "        </tr>\n",
       "    </tbody>\n",
       "        <tr>\n",
       "            <td>AddictedToFresh</td> <td>0   </td> <td>1   </td> <td>0   </td>\n",
       "        </tr>\n",
       "    </tbody>\n",
       "        <tr>\n",
       "            <td>AdiOpERsOcoM   </td> <td>0   </td> <td>1   </td> <td>0   </td>\n",
       "        </tr>\n",
       "    </tbody>\n",
       "        <tr>\n",
       "            <td>Adrigonzo      </td> <td>1   </td> <td>0   </td> <td>0   </td>\n",
       "        </tr>\n",
       "    </tbody>\n",
       "        <tr>\n",
       "            <td>AirDye         </td> <td>0   </td> <td>1   </td> <td>0   </td>\n",
       "        </tr>\n",
       "    </tbody>\n",
       "        <tr>\n",
       "            <td>Alexi_G        </td> <td>0   </td> <td>0   </td> <td>1   </td>\n",
       "        </tr>\n",
       "    </tbody>\n",
       "        <tr>\n",
       "            <td>Alfred04654    </td> <td>0   </td> <td>0   </td> <td>1   </td>\n",
       "        </tr>\n",
       "    </tbody>\n",
       "        <tr>\n",
       "            <td>Annimallover   </td> <td>0   </td> <td>1   </td> <td>0   </td>\n",
       "        </tr>\n",
       "    </tbody>\n",
       "        <tr>\n",
       "            <td>Ant_Ward       </td> <td>0   </td> <td>0   </td> <td>1   </td>\n",
       "        </tr>\n",
       "    </tbody>\n",
       "</table>\n",
       "<p>... (480 rows omitted)</p"
      ],
      "text/plain": [
       "user            | 0    | 2    | 4\n",
       "5x1llz          | 0    | 1    | 0\n",
       "A_TALL_BLONDE   | 0    | 0    | 1\n",
       "AddictedToFresh | 0    | 1    | 0\n",
       "AdiOpERsOcoM    | 0    | 1    | 0\n",
       "Adrigonzo       | 1    | 0    | 0\n",
       "AirDye          | 0    | 1    | 0\n",
       "Alexi_G         | 0    | 0    | 1\n",
       "Alfred04654     | 0    | 0    | 1\n",
       "Annimallover    | 0    | 1    | 0\n",
       "Ant_Ward        | 0    | 0    | 1\n",
       "... (480 rows omitted)"
      ]
     },
     "execution_count": 24,
     "metadata": {},
     "output_type": "execute_result"
    }
   ],
   "source": [
    "## Simple Pivot Table\n",
    "\n",
    "twitter_data.pivot('polarity', 'user')\n",
    "#each polarity value represents a column_label and each user that ever had a tweet with a polarity is the row and \n",
    "#the values in the table show that each user had one tweet per polarity since most users only posted one tweet"
   ]
  },
  {
   "cell_type": "code",
   "execution_count": 25,
   "metadata": {
    "collapsed": false
   },
   "outputs": [
    {
     "data": {
      "text/html": [
       "<table border=\"1\" class=\"dataframe\">\n",
       "    <thead>\n",
       "        <tr>\n",
       "            <th>year</th> <th>1</th> <th>2</th> <th>3</th> <th>4</th> <th>5</th> <th>6</th> <th>7</th> <th>8</th> <th>9</th> <th>10</th> <th>11</th> <th>12</th>\n",
       "        </tr>\n",
       "    </thead>\n",
       "    <tbody>\n",
       "        <tr>\n",
       "            <td>1958</td> <td>0     </td> <td>0     </td> <td>315.71</td> <td>317.45</td> <td>317.5 </td> <td>nan   </td> <td>315.86</td> <td>314.93</td> <td>313.2 </td> <td>nan   </td> <td>313.33</td> <td>314.67</td>\n",
       "        </tr>\n",
       "    </tbody>\n",
       "        <tr>\n",
       "            <td>1959</td> <td>315.62</td> <td>316.38</td> <td>316.71</td> <td>317.72</td> <td>318.29</td> <td>318.15</td> <td>316.54</td> <td>314.8 </td> <td>313.84</td> <td>313.26</td> <td>314.8 </td> <td>315.58</td>\n",
       "        </tr>\n",
       "    </tbody>\n",
       "        <tr>\n",
       "            <td>1960</td> <td>316.43</td> <td>316.97</td> <td>317.58</td> <td>319.02</td> <td>320.03</td> <td>319.59</td> <td>318.18</td> <td>315.91</td> <td>314.16</td> <td>313.83</td> <td>315   </td> <td>316.19</td>\n",
       "        </tr>\n",
       "    </tbody>\n",
       "        <tr>\n",
       "            <td>1961</td> <td>316.93</td> <td>317.7 </td> <td>318.54</td> <td>319.48</td> <td>320.58</td> <td>319.77</td> <td>318.57</td> <td>316.79</td> <td>314.8 </td> <td>315.38</td> <td>316.1 </td> <td>317.01</td>\n",
       "        </tr>\n",
       "    </tbody>\n",
       "        <tr>\n",
       "            <td>1962</td> <td>317.94</td> <td>318.56</td> <td>319.68</td> <td>320.63</td> <td>321.01</td> <td>320.55</td> <td>319.58</td> <td>317.4 </td> <td>316.26</td> <td>315.42</td> <td>316.69</td> <td>317.69</td>\n",
       "        </tr>\n",
       "    </tbody>\n",
       "        <tr>\n",
       "            <td>1963</td> <td>318.74</td> <td>319.08</td> <td>319.86</td> <td>321.39</td> <td>322.25</td> <td>321.47</td> <td>319.74</td> <td>317.77</td> <td>316.21</td> <td>315.99</td> <td>317.12</td> <td>318.31</td>\n",
       "        </tr>\n",
       "    </tbody>\n",
       "        <tr>\n",
       "            <td>1964</td> <td>319.57</td> <td>nan   </td> <td>nan   </td> <td>nan   </td> <td>322.25</td> <td>321.89</td> <td>320.44</td> <td>318.7 </td> <td>316.7 </td> <td>316.79</td> <td>317.79</td> <td>318.71</td>\n",
       "        </tr>\n",
       "    </tbody>\n",
       "        <tr>\n",
       "            <td>1965</td> <td>319.44</td> <td>320.44</td> <td>320.89</td> <td>322.13</td> <td>322.16</td> <td>321.87</td> <td>321.39</td> <td>318.81</td> <td>317.81</td> <td>317.3 </td> <td>318.87</td> <td>319.42</td>\n",
       "        </tr>\n",
       "    </tbody>\n",
       "        <tr>\n",
       "            <td>1966</td> <td>320.62</td> <td>321.59</td> <td>322.39</td> <td>323.87</td> <td>324.01</td> <td>323.75</td> <td>322.39</td> <td>320.37</td> <td>318.64</td> <td>318.1 </td> <td>319.79</td> <td>321.08</td>\n",
       "        </tr>\n",
       "    </tbody>\n",
       "        <tr>\n",
       "            <td>1967</td> <td>322.07</td> <td>322.5 </td> <td>323.04</td> <td>324.42</td> <td>325   </td> <td>324.09</td> <td>322.55</td> <td>320.92</td> <td>319.31</td> <td>319.31</td> <td>320.72</td> <td>321.96</td>\n",
       "        </tr>\n",
       "    </tbody>\n",
       "</table>\n",
       "<p>... (49 rows omitted)</p"
      ],
      "text/plain": [
       "year | 1      | 2      | 3      | 4      | 5      | 6      | 7      | 8      | 9      | 10     | 11     | 12\n",
       "1958 | 0      | 0      | 315.71 | 317.45 | 317.5  | nan    | 315.86 | 314.93 | 313.2  | nan    | 313.33 | 314.67\n",
       "1959 | 315.62 | 316.38 | 316.71 | 317.72 | 318.29 | 318.15 | 316.54 | 314.8  | 313.84 | 313.26 | 314.8  | 315.58\n",
       "1960 | 316.43 | 316.97 | 317.58 | 319.02 | 320.03 | 319.59 | 318.18 | 315.91 | 314.16 | 313.83 | 315    | 316.19\n",
       "1961 | 316.93 | 317.7  | 318.54 | 319.48 | 320.58 | 319.77 | 318.57 | 316.79 | 314.8  | 315.38 | 316.1  | 317.01\n",
       "1962 | 317.94 | 318.56 | 319.68 | 320.63 | 321.01 | 320.55 | 319.58 | 317.4  | 316.26 | 315.42 | 316.69 | 317.69\n",
       "1963 | 318.74 | 319.08 | 319.86 | 321.39 | 322.25 | 321.47 | 319.74 | 317.77 | 316.21 | 315.99 | 317.12 | 318.31\n",
       "1964 | 319.57 | nan    | nan    | nan    | 322.25 | 321.89 | 320.44 | 318.7  | 316.7  | 316.79 | 317.79 | 318.71\n",
       "1965 | 319.44 | 320.44 | 320.89 | 322.13 | 322.16 | 321.87 | 321.39 | 318.81 | 317.81 | 317.3  | 318.87 | 319.42\n",
       "1966 | 320.62 | 321.59 | 322.39 | 323.87 | 324.01 | 323.75 | 322.39 | 320.37 | 318.64 | 318.1  | 319.79 | 321.08\n",
       "1967 | 322.07 | 322.5  | 323.04 | 324.42 | 325    | 324.09 | 322.55 | 320.92 | 319.31 | 319.31 | 320.72 | 321.96\n",
       "... (49 rows omitted)"
      ]
     },
     "execution_count": 25,
     "metadata": {},
     "output_type": "execute_result"
    }
   ],
   "source": [
    "## Slightly more complex pivot table\n",
    "\n",
    "NOAA_data.pivot('month','year', values = 'average', collect = np.mean, zero = 0)\n",
    "\n",
    "#each unique month is the column_labels, and each year marks the rows so its easier to see trends among months or years\n",
    "#the values show what was in the original table where that year and month's measurement coincided with an average value"
   ]
  },
  {
   "cell_type": "code",
   "execution_count": 26,
   "metadata": {
    "collapsed": false
   },
   "outputs": [
    {
     "data": {
      "text/html": [
       "<table border=\"1\" class=\"dataframe\">\n",
       "    <thead>\n",
       "        <tr>\n",
       "            <th>polarity</th> <th>column</th> <th>value</th>\n",
       "        </tr>\n",
       "    </thead>\n",
       "    <tbody>\n",
       "        <tr>\n",
       "            <td>4       </td> <td>row_num</td> <td>0                                                           </td>\n",
       "        </tr>\n",
       "    </tbody>\n",
       "        <tr>\n",
       "            <td>4       </td> <td>id     </td> <td>3                                                           </td>\n",
       "        </tr>\n",
       "    </tbody>\n",
       "        <tr>\n",
       "            <td>4       </td> <td>query  </td> <td>kindle2                                                     </td>\n",
       "        </tr>\n",
       "    </tbody>\n",
       "        <tr>\n",
       "            <td>4       </td> <td>user   </td> <td>tpryan                                                      </td>\n",
       "        </tr>\n",
       "    </tbody>\n",
       "        <tr>\n",
       "            <td>4       </td> <td>text   </td> <td>@stellargirl I loooooooovvvvvveee my Kindle2. Not that t ...</td>\n",
       "        </tr>\n",
       "    </tbody>\n",
       "        <tr>\n",
       "            <td>4       </td> <td>source </td> <td>twitter                                                     </td>\n",
       "        </tr>\n",
       "    </tbody>\n",
       "        <tr>\n",
       "            <td>4       </td> <td>date   </td> <td>Mon May 11 03:17:40 UTC 2009                                </td>\n",
       "        </tr>\n",
       "    </tbody>\n",
       "        <tr>\n",
       "            <td>4       </td> <td>row_num</td> <td>1                                                           </td>\n",
       "        </tr>\n",
       "    </tbody>\n",
       "        <tr>\n",
       "            <td>4       </td> <td>id     </td> <td>4                                                           </td>\n",
       "        </tr>\n",
       "    </tbody>\n",
       "        <tr>\n",
       "            <td>4       </td> <td>query  </td> <td>kindle2                                                     </td>\n",
       "        </tr>\n",
       "    </tbody>\n",
       "</table>\n",
       "<p>... (3476 rows omitted)</p"
      ],
      "text/plain": [
       "polarity | column  | value\n",
       "4        | row_num | 0\n",
       "4        | id      | 3\n",
       "4        | query   | kindle2\n",
       "4        | user    | tpryan\n",
       "4        | text    | @stellargirl I loooooooovvvvvveee my Kindle2. Not that t ...\n",
       "4        | source  | twitter\n",
       "4        | date    | Mon May 11 03:17:40 UTC 2009\n",
       "4        | row_num | 1\n",
       "4        | id      | 4\n",
       "4        | query   | kindle2\n",
       "... (3476 rows omitted)"
      ]
     },
     "execution_count": 26,
     "metadata": {},
     "output_type": "execute_result"
    }
   ],
   "source": [
    "twitter_data.stack('polarity')"
   ]
  },
  {
   "cell_type": "code",
   "execution_count": 27,
   "metadata": {
    "collapsed": false
   },
   "outputs": [
    {
     "data": {
      "text/html": [
       "<table border=\"1\" class=\"dataframe\">\n",
       "    <thead>\n",
       "        <tr>\n",
       "            <th>polarity</th> <th>column</th> <th>value</th>\n",
       "        </tr>\n",
       "    </thead>\n",
       "    <tbody>\n",
       "        <tr>\n",
       "            <td>4       </td> <td>text  </td> <td>@stellargirl I loooooooovvvvvveee my Kindle2. Not that t ...</td>\n",
       "        </tr>\n",
       "    </tbody>\n",
       "        <tr>\n",
       "            <td>4       </td> <td>text  </td> <td>Reading my kindle2...  Love it... Lee childs is good read.  </td>\n",
       "        </tr>\n",
       "    </tbody>\n",
       "        <tr>\n",
       "            <td>4       </td> <td>text  </td> <td>Ok, first assesment of the #kindle2 ...it fucking rocks!!!  </td>\n",
       "        </tr>\n",
       "    </tbody>\n",
       "        <tr>\n",
       "            <td>4       </td> <td>text  </td> <td>@kenburbary You'll love your Kindle2. I've had mine for  ...</td>\n",
       "        </tr>\n",
       "    </tbody>\n",
       "        <tr>\n",
       "            <td>4       </td> <td>text  </td> <td>@mikefish  Fair enough. But i have the Kindle2 and I thi ...</td>\n",
       "        </tr>\n",
       "    </tbody>\n",
       "        <tr>\n",
       "            <td>4       </td> <td>text  </td> <td>@richardebaker no. it is too big. I'm quite happy with t ...</td>\n",
       "        </tr>\n",
       "    </tbody>\n",
       "        <tr>\n",
       "            <td>0       </td> <td>text  </td> <td>Fuck this economy. I hate aig and their non loan given a ...</td>\n",
       "        </tr>\n",
       "    </tbody>\n",
       "        <tr>\n",
       "            <td>4       </td> <td>text  </td> <td>Jquery is my new best friend.                               </td>\n",
       "        </tr>\n",
       "    </tbody>\n",
       "        <tr>\n",
       "            <td>4       </td> <td>text  </td> <td>Loves twitter                                               </td>\n",
       "        </tr>\n",
       "    </tbody>\n",
       "        <tr>\n",
       "            <td>4       </td> <td>text  </td> <td>how can you not love Obama? he makes jokes about himself.   </td>\n",
       "        </tr>\n",
       "    </tbody>\n",
       "</table>\n",
       "<p>... (488 rows omitted)</p"
      ],
      "text/plain": [
       "polarity | column | value\n",
       "4        | text   | @stellargirl I loooooooovvvvvveee my Kindle2. Not that t ...\n",
       "4        | text   | Reading my kindle2...  Love it... Lee childs is good read.\n",
       "4        | text   | Ok, first assesment of the #kindle2 ...it fucking rocks!!!\n",
       "4        | text   | @kenburbary You'll love your Kindle2. I've had mine for  ...\n",
       "4        | text   | @mikefish  Fair enough. But i have the Kindle2 and I thi ...\n",
       "4        | text   | @richardebaker no. it is too big. I'm quite happy with t ...\n",
       "0        | text   | Fuck this economy. I hate aig and their non loan given a ...\n",
       "4        | text   | Jquery is my new best friend.\n",
       "4        | text   | Loves twitter\n",
       "4        | text   | how can you not love Obama? he makes jokes about himself.\n",
       "... (488 rows omitted)"
      ]
     },
     "execution_count": 27,
     "metadata": {},
     "output_type": "execute_result"
    }
   ],
   "source": [
    "twitter_data.stack('polarity', labels = 'text')"
   ]
  },
  {
   "cell_type": "markdown",
   "metadata": {},
   "source": [
    "# Statistics\n",
    "\n",
    "### These functions help you compute relationships between values in a table.\n",
    "\n",
    "- .stats(ops = [operations]) : Computes statistics based on the operations included for each column and puts them in a table. This doesn't work well with non-numerical values. \n",
    "    Some useful operations include: min, max, range, np.mean, np.median, np.std, np.var\n",
    "\n",
    "\n",
    "- .percentile(value) : for each array of values in a column, it computes the value that is at that percentile value.\n",
    "\n",
    "\n",
    "- .sample(k = int, with_replacement = {T/F}, weights = {array} : Returns a new table with k rows sampled randomly. If with_replacement, sampling a value does NOT remove it from the table, so it can be sampled multiple times in the resulting table. Weights must be the same length as the num_rows of the table and must sum to 1 so it can give values a corresponding weight/probability. \n",
    "\n",
    "\n",
    "- .split(k = int) : Returns two tables, one with k rows of sampled values, and the other with other rows of the original table.\n",
    "\n",
    "\n",
    "- .bin(select = column_label or [labels], bins = int or [numbers], range = (lower_bound, upper_bound), density = {T/F}) : Creates bins for each interval specified in the range, if just an int is given for bins, then it evenly divides that many bids. Then for each column specified (all columns, if none specifically are selected), for each value in the range of a bin increases that bin count by 1. Density then normalizes the counts to be relative probabilities."
   ]
  },
  {
   "cell_type": "code",
   "execution_count": 28,
   "metadata": {
    "collapsed": false
   },
   "outputs": [
    {
     "data": {
      "text/html": [
       "<table border=\"1\" class=\"dataframe\">\n",
       "    <thead>\n",
       "        <tr>\n",
       "            <th>statistic</th> <th>row_num</th> <th>polarity</th> <th>id</th> <th>query</th> <th>user</th> <th>text</th> <th>source</th> <th>date</th>\n",
       "        </tr>\n",
       "    </thead>\n",
       "    <tbody>\n",
       "        <tr>\n",
       "            <td>min      </td> <td>0      </td> <td>0       </td> <td>3      </td> <td>\"booz allen\"</td> <td>5x1llz </td> <td>\"The Republican party is a bunch of anti-abortion zealot ...</td> <td>twitter</td> <td>Fri May 15 06:45:54 UTC 2009</td>\n",
       "        </tr>\n",
       "    </tbody>\n",
       "        <tr>\n",
       "            <td>max      </td> <td>497    </td> <td>4       </td> <td>14076  </td> <td>yankees     </td> <td>zedomax</td> <td>zomg!!! I have a G2!!!!!!!                                  </td> <td>twitter</td> <td>Wed May 27 23:59:18 UTC 2009</td>\n",
       "        </tr>\n",
       "    </tbody>\n",
       "        <tr>\n",
       "            <td>mean     </td> <td>248.5  </td> <td>2.02008 </td> <td>1867.23</td> <td>            </td> <td>       </td> <td>                                                            </td> <td>       </td> <td>                            </td>\n",
       "        </tr>\n",
       "    </tbody>\n",
       "        <tr>\n",
       "            <td>std      </td> <td>143.76 </td> <td>1.69798 </td> <td>2832.04</td> <td>            </td> <td>       </td> <td>                                                            </td> <td>       </td> <td>                            </td>\n",
       "        </tr>\n",
       "    </tbody>\n",
       "</table>"
      ],
      "text/plain": [
       "statistic | row_num | polarity | id      | query        | user    | text                                                         | source  | date\n",
       "min       | 0       | 0        | 3       | \"booz allen\" | 5x1llz  | \"The Republican party is a bunch of anti-abortion zealot ... | twitter | Fri May 15 06:45:54 UTC 2009\n",
       "max       | 497     | 4        | 14076   | yankees      | zedomax | zomg!!! I have a G2!!!!!!!                                   | twitter | Wed May 27 23:59:18 UTC 2009\n",
       "mean      | 248.5   | 2.02008  | 1867.23 |              |         |                                                              |         |\n",
       "std       | 143.76  | 1.69798  | 2832.04 |              |         |                                                              |         |"
      ]
     },
     "execution_count": 28,
     "metadata": {},
     "output_type": "execute_result"
    }
   ],
   "source": [
    "twitter_data.stats(ops = [min, max, np.mean, np.std])"
   ]
  },
  {
   "cell_type": "code",
   "execution_count": 29,
   "metadata": {
    "collapsed": false
   },
   "outputs": [
    {
     "data": {
      "text/html": [
       "<table border=\"1\" class=\"dataframe\">\n",
       "    <thead>\n",
       "        <tr>\n",
       "            <th>row_num</th> <th>polarity</th> <th>id</th> <th>query</th> <th>user</th> <th>text</th> <th>source</th> <th>date</th>\n",
       "        </tr>\n",
       "    </thead>\n",
       "    <tbody>\n",
       "        <tr>\n",
       "            <td>248    </td> <td>2       </td> <td>1013</td> <td>jquery</td> <td>droherty</td> <td>Life?s a bitch? and so is Dick Cheney. #p2 #bipart #tlot ...</td> <td>twitter</td> <td>Sun May 17 17:30:19 UTC 2009</td>\n",
       "        </tr>\n",
       "    </tbody>\n",
       "</table>"
      ],
      "text/plain": [
       "row_num | polarity | id   | query  | user     | text                                                         | source  | date\n",
       "248     | 2        | 1013 | jquery | droherty | Life?s a bitch? and so is Dick Cheney. #p2 #bipart #tlot ... | twitter | Sun May 17 17:30:19 UTC 2009"
      ]
     },
     "execution_count": 29,
     "metadata": {},
     "output_type": "execute_result"
    }
   ],
   "source": [
    "twitter_data.percentile(0)    # same as min\n",
    "twitter_data.percentile(100)  # same as max\n",
    "twitter_data.percentile(50)   # same as median"
   ]
  },
  {
   "cell_type": "code",
   "execution_count": 30,
   "metadata": {
    "collapsed": false
   },
   "outputs": [
    {
     "data": {
      "text/html": [
       "<table border=\"1\" class=\"dataframe\">\n",
       "    <thead>\n",
       "        <tr>\n",
       "            <th>row_num</th> <th>polarity</th> <th>id</th> <th>query</th> <th>user</th> <th>text</th> <th>source</th> <th>date</th>\n",
       "        </tr>\n",
       "    </thead>\n",
       "    <tbody>\n",
       "        <tr>\n",
       "            <td>30     </td> <td>2       </td> <td>50  </td> <td>40d                  </td> <td>hiteshbagai   </td> <td>need suggestions for a good IR filter for my canon 40D . ...</td> <td>twitter</td> <td>Thu May 14 05:25:04 UTC 2009</td>\n",
       "        </tr>\n",
       "    </tbody>\n",
       "        <tr>\n",
       "            <td>364    </td> <td>2       </td> <td>2358</td> <td>\"night at the museum\"</td> <td>HistoryLuV3R  </td> <td>@pambeeslyjenna Jenna, I went to see Night At The Museum ...</td> <td>twitter</td> <td>Tue Jun 02 02:54:29 UTC 2009</td>\n",
       "        </tr>\n",
       "    </tbody>\n",
       "        <tr>\n",
       "            <td>166    </td> <td>2       </td> <td>430 </td> <td>dentist              </td> <td>cmonaussiecmon</td> <td>@kirstiealley Pet Dentist http://www.funnyville.com/fv/p ...</td> <td>twitter</td> <td>Tue Jun 02 03:33:30 UTC 2009</td>\n",
       "        </tr>\n",
       "    </tbody>\n",
       "        <tr>\n",
       "            <td>454    </td> <td>4       </td> <td>2544</td> <td>federer              </td> <td>aiban         </td> <td>I'd say some sports writers are idiots for saying Roger  ...</td> <td>twitter</td> <td>Mon Jun 08 00:01:27 UTC 2009</td>\n",
       "        </tr>\n",
       "    </tbody>\n",
       "        <tr>\n",
       "            <td>178    </td> <td>2       </td> <td>442 </td> <td>safeway              </td> <td>ronjon        </td> <td>@XPhile1908 I have three words for you: \"Safeway dot com\"   </td> <td>twitter</td> <td>Tue Jun 02 04:41:07 UTC 2009</td>\n",
       "        </tr>\n",
       "    </tbody>\n",
       "        <tr>\n",
       "            <td>112    </td> <td>4       </td> <td>239 </td> <td>wieden               </td> <td>dustinrowley  </td> <td>top ten most watched on Viral-Video Chart.  Love the nik ...</td> <td>twitter</td> <td>Wed May 27 00:42:22 UTC 2009</td>\n",
       "        </tr>\n",
       "    </tbody>\n",
       "        <tr>\n",
       "            <td>418    </td> <td>2       </td> <td>2412</td> <td>safeway              </td> <td>XPhile1908    </td> <td>@ronjon we don't have Safeway.                              </td> <td>twitter</td> <td>Tue Jun 02 04:41:05 UTC 2009</td>\n",
       "        </tr>\n",
       "    </tbody>\n",
       "        <tr>\n",
       "            <td>36     </td> <td>0       </td> <td>122 </td> <td>itchy                </td> <td>robloposky    </td> <td>I'm itchy and miserable!                                    </td> <td>twitter</td> <td>Sat May 16 22:42:25 UTC 2009</td>\n",
       "        </tr>\n",
       "    </tbody>\n",
       "        <tr>\n",
       "            <td>423    </td> <td>2       </td> <td>2417</td> <td>safeway              </td> <td>_JessicaJOY   </td> <td>Safeway with Marvin, Janelle, and Auntie Lhu                </td> <td>twitter</td> <td>Tue Jun 02 04:42:00 UTC 2009</td>\n",
       "        </tr>\n",
       "    </tbody>\n",
       "        <tr>\n",
       "            <td>278    </td> <td>4       </td> <td>2095</td> <td>Danny Gokey          </td> <td>angelkim17    </td> <td>@dannygokey I love you DANNY GOKEY!! :)                     </td> <td>twitter</td> <td>Sun May 17 15:05:07 UTC 2009</td>\n",
       "        </tr>\n",
       "    </tbody>\n",
       "</table>\n",
       "<p>... (488 rows omitted)</p"
      ],
      "text/plain": [
       "row_num | polarity | id   | query                 | user           | text                                                         | source  | date\n",
       "30      | 2        | 50   | 40d                   | hiteshbagai    | need suggestions for a good IR filter for my canon 40D . ... | twitter | Thu May 14 05:25:04 UTC 2009\n",
       "364     | 2        | 2358 | \"night at the museum\" | HistoryLuV3R   | @pambeeslyjenna Jenna, I went to see Night At The Museum ... | twitter | Tue Jun 02 02:54:29 UTC 2009\n",
       "166     | 2        | 430  | dentist               | cmonaussiecmon | @kirstiealley Pet Dentist http://www.funnyville.com/fv/p ... | twitter | Tue Jun 02 03:33:30 UTC 2009\n",
       "454     | 4        | 2544 | federer               | aiban          | I'd say some sports writers are idiots for saying Roger  ... | twitter | Mon Jun 08 00:01:27 UTC 2009\n",
       "178     | 2        | 442  | safeway               | ronjon         | @XPhile1908 I have three words for you: \"Safeway dot com\"    | twitter | Tue Jun 02 04:41:07 UTC 2009\n",
       "112     | 4        | 239  | wieden                | dustinrowley   | top ten most watched on Viral-Video Chart.  Love the nik ... | twitter | Wed May 27 00:42:22 UTC 2009\n",
       "418     | 2        | 2412 | safeway               | XPhile1908     | @ronjon we don't have Safeway.                               | twitter | Tue Jun 02 04:41:05 UTC 2009\n",
       "36      | 0        | 122  | itchy                 | robloposky     | I'm itchy and miserable!                                     | twitter | Sat May 16 22:42:25 UTC 2009\n",
       "423     | 2        | 2417 | safeway               | _JessicaJOY    | Safeway with Marvin, Janelle, and Auntie Lhu                 | twitter | Tue Jun 02 04:42:00 UTC 2009\n",
       "278     | 4        | 2095 | Danny Gokey           | angelkim17     | @dannygokey I love you DANNY GOKEY!! :)                      | twitter | Sun May 17 15:05:07 UTC 2009\n",
       "... (488 rows omitted)"
      ]
     },
     "execution_count": 30,
     "metadata": {},
     "output_type": "execute_result"
    }
   ],
   "source": [
    "twitter_data.sample()         # If called with no arguments, it randomly samples rows a num_rows number of times"
   ]
  },
  {
   "cell_type": "code",
   "execution_count": 31,
   "metadata": {
    "collapsed": false
   },
   "outputs": [
    {
     "data": {
      "text/html": [
       "<table border=\"1\" class=\"dataframe\">\n",
       "    <thead>\n",
       "        <tr>\n",
       "            <th>row_num</th> <th>polarity</th> <th>id</th> <th>query</th> <th>user</th> <th>text</th> <th>source</th> <th>date</th>\n",
       "        </tr>\n",
       "    </thead>\n",
       "    <tbody>\n",
       "        <tr>\n",
       "            <td>358    </td> <td>4       </td> <td>2225</td> <td>googleio              </td> <td>alpheus1     </td> <td>#GoogleIO | O3D - Bringing 3d graphics to the browser. V ...</td> <td>twitter</td> <td>Wed May 27 23:57:02 UTC 2009</td>\n",
       "        </tr>\n",
       "    </tbody>\n",
       "        <tr>\n",
       "            <td>113    </td> <td>4       </td> <td>251 </td> <td>g2                    </td> <td>xzela        </td> <td>zomg!!! I have a G2!!!!!!!                                  </td> <td>twitter</td> <td>Wed May 27 23:49:47 UTC 2009</td>\n",
       "        </tr>\n",
       "    </tbody>\n",
       "        <tr>\n",
       "            <td>369    </td> <td>4       </td> <td>2363</td> <td>\"night at the museum\" </td> <td>tish_tish    </td> <td>So, Night at the Museum 2 was AWESOME! Much better than  ...</td> <td>twitter</td> <td>Tue Jun 02 02:55:50 UTC 2009</td>\n",
       "        </tr>\n",
       "    </tbody>\n",
       "        <tr>\n",
       "            <td>366    </td> <td>2       </td> <td>2360</td> <td>\"night at the museum\" </td> <td>aykataoka    </td> <td>Getting ready to go watch Night at the Museum 2.  Dum du ...</td> <td>twitter</td> <td>Tue Jun 02 02:54:49 UTC 2009</td>\n",
       "        </tr>\n",
       "    </tbody>\n",
       "        <tr>\n",
       "            <td>390    </td> <td>0       </td> <td>2384</td> <td>time warner           </td> <td>iamtony      </td> <td>Just got home from chick-fil-a with the boys. Damn my in ...</td> <td>twitter</td> <td>Tue Jun 02 03:16:23 UTC 2009</td>\n",
       "        </tr>\n",
       "    </tbody>\n",
       "        <tr>\n",
       "            <td>347    </td> <td>4       </td> <td>2203</td> <td>mashable              </td> <td>christinerose</td> <td>@mashable I never did thank you for including me in your ...</td> <td>twitter</td> <td>Tue May 26 22:40:41 UTC 2009</td>\n",
       "        </tr>\n",
       "    </tbody>\n",
       "        <tr>\n",
       "            <td>258    </td> <td>4       </td> <td>1023</td> <td>lebron                </td> <td>PrEttIBoIGaRy</td> <td>KOBE IS GOOD BT LEBRON HAS MY VOTE                          </td> <td>twitter</td> <td>Mon May 11 05:22:40 UTC 2009</td>\n",
       "        </tr>\n",
       "    </tbody>\n",
       "        <tr>\n",
       "            <td>313    </td> <td>4       </td> <td>2158</td> <td>shoreline amphitheatre</td> <td>julieules    </td> <td>@tonyhawk http://twitpic.com/5c7uj - AWESOME!!! Seeing t ...</td> <td>twitter</td> <td>Sat May 23 04:23:54 UTC 2009</td>\n",
       "        </tr>\n",
       "    </tbody>\n",
       "        <tr>\n",
       "            <td>179    </td> <td>4       </td> <td>443 </td> <td>safeway               </td> <td>missleigh    </td> <td>Safeway is very rock n roll tonight                         </td> <td>twitter</td> <td>Tue Jun 02 04:41:19 UTC 2009</td>\n",
       "        </tr>\n",
       "    </tbody>\n",
       "        <tr>\n",
       "            <td>147    </td> <td>0       </td> <td>411 </td> <td>time warner           </td> <td>ernestalfonso</td> <td>Fuck no internet damn time warner!                          </td> <td>twitter</td> <td>Tue Jun 02 03:16:37 UTC 2009</td>\n",
       "        </tr>\n",
       "    </tbody>\n",
       "</table>"
      ],
      "text/plain": [
       "row_num | polarity | id   | query                  | user          | text                                                         | source  | date\n",
       "358     | 4        | 2225 | googleio               | alpheus1      | #GoogleIO | O3D - Bringing 3d graphics to the browser. V ... | twitter | Wed May 27 23:57:02 UTC 2009\n",
       "113     | 4        | 251  | g2                     | xzela         | zomg!!! I have a G2!!!!!!!                                   | twitter | Wed May 27 23:49:47 UTC 2009\n",
       "369     | 4        | 2363 | \"night at the museum\"  | tish_tish     | So, Night at the Museum 2 was AWESOME! Much better than  ... | twitter | Tue Jun 02 02:55:50 UTC 2009\n",
       "366     | 2        | 2360 | \"night at the museum\"  | aykataoka     | Getting ready to go watch Night at the Museum 2.  Dum du ... | twitter | Tue Jun 02 02:54:49 UTC 2009\n",
       "390     | 0        | 2384 | time warner            | iamtony       | Just got home from chick-fil-a with the boys. Damn my in ... | twitter | Tue Jun 02 03:16:23 UTC 2009\n",
       "347     | 4        | 2203 | mashable               | christinerose | @mashable I never did thank you for including me in your ... | twitter | Tue May 26 22:40:41 UTC 2009\n",
       "258     | 4        | 1023 | lebron                 | PrEttIBoIGaRy | KOBE IS GOOD BT LEBRON HAS MY VOTE                           | twitter | Mon May 11 05:22:40 UTC 2009\n",
       "313     | 4        | 2158 | shoreline amphitheatre | julieules     | @tonyhawk http://twitpic.com/5c7uj - AWESOME!!! Seeing t ... | twitter | Sat May 23 04:23:54 UTC 2009\n",
       "179     | 4        | 443  | safeway                | missleigh     | Safeway is very rock n roll tonight                          | twitter | Tue Jun 02 04:41:19 UTC 2009\n",
       "147     | 0        | 411  | time warner            | ernestalfonso | Fuck no internet damn time warner!                           | twitter | Tue Jun 02 03:16:37 UTC 2009"
      ]
     },
     "execution_count": 31,
     "metadata": {},
     "output_type": "execute_result"
    }
   ],
   "source": [
    "twitter_data.sample(10, with_replacement = False) # otherwise, it just samples k-times"
   ]
  },
  {
   "cell_type": "code",
   "execution_count": 32,
   "metadata": {
    "collapsed": false
   },
   "outputs": [
    {
     "data": {
      "text/html": [
       "<table border=\"1\" class=\"dataframe\">\n",
       "    <thead>\n",
       "        <tr>\n",
       "            <th>row_num</th> <th>polarity</th> <th>id</th> <th>query</th> <th>user</th> <th>text</th> <th>source</th> <th>date</th>\n",
       "        </tr>\n",
       "    </thead>\n",
       "    <tbody>\n",
       "        <tr>\n",
       "            <td>268    </td> <td>4       </td> <td>2015</td> <td>40d                  </td> <td>Jen2Squared   </td> <td>@faithbabywear Ooooh, what model are you getting??? I ha ...</td> <td>twitter</td> <td>Thu May 14 05:26:03 UTC 2009</td>\n",
       "        </tr>\n",
       "    </tbody>\n",
       "        <tr>\n",
       "            <td>87     </td> <td>0       </td> <td>209 </td> <td>north korea          </td> <td>utsagrad123   </td> <td>Can we just go ahead and blow North Korea off the map al ...</td> <td>twitter</td> <td>Mon May 25 17:19:05 UTC 2009</td>\n",
       "        </tr>\n",
       "    </tbody>\n",
       "        <tr>\n",
       "            <td>183    </td> <td>2       </td> <td>447 </td> <td>safeway              </td> <td>mobileadgirl  </td> <td>Safeway Super-marketing via mobile coupons http://bit.ly ...</td> <td>twitter</td> <td>Tue Jun 02 04:42:28 UTC 2009</td>\n",
       "        </tr>\n",
       "    </tbody>\n",
       "        <tr>\n",
       "            <td>447    </td> <td>2       </td> <td>2536</td> <td>jquery               </td> <td>maheshcha     </td> <td>How to implement a news ticker with jQuery and ten lines ...</td> <td>twitter</td> <td>Sun Jun 07 01:15:08 UTC 2009</td>\n",
       "        </tr>\n",
       "    </tbody>\n",
       "        <tr>\n",
       "            <td>132    </td> <td>4       </td> <td>396 </td> <td>\"night at the museum\"</td> <td>sarahbrooke   </td> <td>Night at the Museum, Wolverine and junk food - perfect m ...</td> <td>twitter</td> <td>Tue Jun 02 02:55:39 UTC 2009</td>\n",
       "        </tr>\n",
       "    </tbody>\n",
       "        <tr>\n",
       "            <td>84     </td> <td>2       </td> <td>206 </td> <td>stanford             </td> <td>jimmy_chan2009</td> <td>New blog post: Harvard Versus Stanford - Who Wins? http: ...</td> <td>twitter</td> <td>Mon May 25 17:15:43 UTC 2009</td>\n",
       "        </tr>\n",
       "    </tbody>\n",
       "        <tr>\n",
       "            <td>204    </td> <td>2       </td> <td>565 </td> <td>warren buffet        </td> <td>LovelyMiska   </td> <td>Warren Buffet on the economy http://ping.fm/Lau0p           </td> <td>twitter</td> <td>Sun Jun 07 03:28:50 UTC 2009</td>\n",
       "        </tr>\n",
       "    </tbody>\n",
       "        <tr>\n",
       "            <td>34     </td> <td>0       </td> <td>120 </td> <td>aig                  </td> <td>schroncd      </td> <td>US planning to resume the military tribunals at Guantana ...</td> <td>twitter</td> <td>Sat May 16 16:25:41 UTC 2009</td>\n",
       "        </tr>\n",
       "    </tbody>\n",
       "        <tr>\n",
       "            <td>90     </td> <td>0       </td> <td>212 </td> <td>bailout              </td> <td>funky_old_man </td> <td>Are YOU burning more cash $$$ than Chrysler and GM? Stop ...</td> <td>twitter</td> <td>Mon May 25 17:23:55 UTC 2009</td>\n",
       "        </tr>\n",
       "    </tbody>\n",
       "        <tr>\n",
       "            <td>353    </td> <td>4       </td> <td>2220</td> <td>g2                   </td> <td>Drisgill      </td> <td>Wow everyone at the Google I/O conference got free G2's  ...</td> <td>twitter</td> <td>Wed May 27 23:49:35 UTC 2009</td>\n",
       "        </tr>\n",
       "    </tbody>\n",
       "</table>"
      ],
      "text/plain": [
       "row_num | polarity | id   | query                 | user           | text                                                         | source  | date\n",
       "268     | 4        | 2015 | 40d                   | Jen2Squared    | @faithbabywear Ooooh, what model are you getting??? I ha ... | twitter | Thu May 14 05:26:03 UTC 2009\n",
       "87      | 0        | 209  | north korea           | utsagrad123    | Can we just go ahead and blow North Korea off the map al ... | twitter | Mon May 25 17:19:05 UTC 2009\n",
       "183     | 2        | 447  | safeway               | mobileadgirl   | Safeway Super-marketing via mobile coupons http://bit.ly ... | twitter | Tue Jun 02 04:42:28 UTC 2009\n",
       "447     | 2        | 2536 | jquery                | maheshcha      | How to implement a news ticker with jQuery and ten lines ... | twitter | Sun Jun 07 01:15:08 UTC 2009\n",
       "132     | 4        | 396  | \"night at the museum\" | sarahbrooke    | Night at the Museum, Wolverine and junk food - perfect m ... | twitter | Tue Jun 02 02:55:39 UTC 2009\n",
       "84      | 2        | 206  | stanford              | jimmy_chan2009 | New blog post: Harvard Versus Stanford - Who Wins? http: ... | twitter | Mon May 25 17:15:43 UTC 2009\n",
       "204     | 2        | 565  | warren buffet         | LovelyMiska    | Warren Buffet on the economy http://ping.fm/Lau0p            | twitter | Sun Jun 07 03:28:50 UTC 2009\n",
       "34      | 0        | 120  | aig                   | schroncd       | US planning to resume the military tribunals at Guantana ... | twitter | Sat May 16 16:25:41 UTC 2009\n",
       "90      | 0        | 212  | bailout               | funky_old_man  | Are YOU burning more cash $$$ than Chrysler and GM? Stop ... | twitter | Mon May 25 17:23:55 UTC 2009\n",
       "353     | 4        | 2220 | g2                    | Drisgill       | Wow everyone at the Google I/O conference got free G2's  ... | twitter | Wed May 27 23:49:35 UTC 2009"
      ]
     },
     "execution_count": 32,
     "metadata": {},
     "output_type": "execute_result"
    }
   ],
   "source": [
    "sample, unsampled_rows = twitter_data.split(10)     # you can create two values by separating them by a comma\n",
    "sample\n",
    "#unsampled_rows                                     # Uncomment this to view what rest looks like"
   ]
  },
  {
   "cell_type": "code",
   "execution_count": 35,
   "metadata": {
    "collapsed": false
   },
   "outputs": [
    {
     "data": {
      "text/html": [
       "<table border=\"1\" class=\"dataframe\">\n",
       "    <thead>\n",
       "        <tr>\n",
       "            <th>bin</th> <th>id count</th>\n",
       "        </tr>\n",
       "    </thead>\n",
       "    <tbody>\n",
       "        <tr>\n",
       "            <td>0     </td> <td>237     </td>\n",
       "        </tr>\n",
       "    </tbody>\n",
       "        <tr>\n",
       "            <td>999.9 </td> <td>26      </td>\n",
       "        </tr>\n",
       "    </tbody>\n",
       "        <tr>\n",
       "            <td>1999.8</td> <td>206     </td>\n",
       "        </tr>\n",
       "    </tbody>\n",
       "        <tr>\n",
       "            <td>2999.7</td> <td>0       </td>\n",
       "        </tr>\n",
       "    </tbody>\n",
       "        <tr>\n",
       "            <td>3999.6</td> <td>0       </td>\n",
       "        </tr>\n",
       "    </tbody>\n",
       "        <tr>\n",
       "            <td>4999.5</td> <td>0       </td>\n",
       "        </tr>\n",
       "    </tbody>\n",
       "        <tr>\n",
       "            <td>5999.4</td> <td>0       </td>\n",
       "        </tr>\n",
       "    </tbody>\n",
       "        <tr>\n",
       "            <td>6999.3</td> <td>4       </td>\n",
       "        </tr>\n",
       "    </tbody>\n",
       "        <tr>\n",
       "            <td>7999.2</td> <td>2       </td>\n",
       "        </tr>\n",
       "    </tbody>\n",
       "        <tr>\n",
       "            <td>8999.1</td> <td>0       </td>\n",
       "        </tr>\n",
       "    </tbody>\n",
       "</table>\n",
       "<p>... (1 rows omitted)</p"
      ],
      "text/plain": [
       "bin    | id count\n",
       "0      | 237\n",
       "999.9  | 26\n",
       "1999.8 | 206\n",
       "2999.7 | 0\n",
       "3999.6 | 0\n",
       "4999.5 | 0\n",
       "5999.4 | 0\n",
       "6999.3 | 4\n",
       "7999.2 | 2\n",
       "8999.1 | 0\n",
       "... (1 rows omitted)"
      ]
     },
     "execution_count": 35,
     "metadata": {},
     "output_type": "execute_result"
    }
   ],
   "source": [
    "## Binning\n",
    "# Binning values helps you understand multiple ranges, so this shows that most twitter ID's are 0-1000, or 1999-2000 \n",
    "# interestingly not in between.\n",
    "twitter_data.bin(select = 'id', bins = 10, range = (0,9999), density = False)"
   ]
  },
  {
   "cell_type": "code",
   "execution_count": 58,
   "metadata": {
    "collapsed": false
   },
   "outputs": [
    {
     "data": {
      "text/html": [
       "<table border=\"1\" class=\"dataframe\">\n",
       "    <thead>\n",
       "        <tr>\n",
       "            <th>bin</th> <th>polarity count</th>\n",
       "        </tr>\n",
       "    </thead>\n",
       "    <tbody>\n",
       "        <tr>\n",
       "            <td>0   </td> <td>177           </td>\n",
       "        </tr>\n",
       "    </tbody>\n",
       "        <tr>\n",
       "            <td>1   </td> <td>0             </td>\n",
       "        </tr>\n",
       "    </tbody>\n",
       "        <tr>\n",
       "            <td>2   </td> <td>139           </td>\n",
       "        </tr>\n",
       "    </tbody>\n",
       "        <tr>\n",
       "            <td>3   </td> <td>182           </td>\n",
       "        </tr>\n",
       "    </tbody>\n",
       "        <tr>\n",
       "            <td>4   </td> <td>0             </td>\n",
       "        </tr>\n",
       "    </tbody>\n",
       "</table>"
      ],
      "text/plain": [
       "bin  | polarity count\n",
       "0    | 177\n",
       "1    | 0\n",
       "2    | 139\n",
       "3    | 182\n",
       "4    | 0"
      ]
     },
     "execution_count": 58,
     "metadata": {},
     "output_type": "execute_result"
    }
   ],
   "source": [
    "twitter_data.bin(select = 'polarity', bins = 4)\n",
    "#As you can see bins operate by finding values that are less than or equal to the specified bin, so be careful."
   ]
  },
  {
   "cell_type": "code",
   "execution_count": 59,
   "metadata": {
    "collapsed": false
   },
   "outputs": [
    {
     "data": {
      "text/html": [
       "<table border=\"1\" class=\"dataframe\">\n",
       "    <thead>\n",
       "        <tr>\n",
       "            <th>bin</th> <th>polarity density</th>\n",
       "        </tr>\n",
       "    </thead>\n",
       "    <tbody>\n",
       "        <tr>\n",
       "            <td>0   </td> <td>0.355422        </td>\n",
       "        </tr>\n",
       "    </tbody>\n",
       "        <tr>\n",
       "            <td>1   </td> <td>0               </td>\n",
       "        </tr>\n",
       "    </tbody>\n",
       "        <tr>\n",
       "            <td>2   </td> <td>0.279116        </td>\n",
       "        </tr>\n",
       "    </tbody>\n",
       "        <tr>\n",
       "            <td>3   </td> <td>0.365462        </td>\n",
       "        </tr>\n",
       "    </tbody>\n",
       "        <tr>\n",
       "            <td>4   </td> <td>0               </td>\n",
       "        </tr>\n",
       "    </tbody>\n",
       "</table>"
      ],
      "text/plain": [
       "bin  | polarity density\n",
       "0    | 0.355422\n",
       "1    | 0\n",
       "2    | 0.279116\n",
       "3    | 0.365462\n",
       "4    | 0"
      ]
     },
     "execution_count": 59,
     "metadata": {},
     "output_type": "execute_result"
    }
   ],
   "source": [
    "twitter_data.bin(select = 'polarity', bins = 4, density = True)\n",
    "#Now by setting density = True, each count is compared relative to a whole"
   ]
  },
  {
   "cell_type": "code",
   "execution_count": 62,
   "metadata": {
    "collapsed": false
   },
   "outputs": [
    {
     "data": {
      "text/html": [
       "<table border=\"1\" class=\"dataframe\">\n",
       "    <thead>\n",
       "        <tr>\n",
       "            <th>bin</th> <th>polarity density</th>\n",
       "        </tr>\n",
       "    </thead>\n",
       "    <tbody>\n",
       "        <tr>\n",
       "            <td>0   </td> <td>0.177711        </td>\n",
       "        </tr>\n",
       "    </tbody>\n",
       "        <tr>\n",
       "            <td>2   </td> <td>0.322289        </td>\n",
       "        </tr>\n",
       "    </tbody>\n",
       "        <tr>\n",
       "            <td>4   </td> <td>0               </td>\n",
       "        </tr>\n",
       "    </tbody>\n",
       "</table>"
      ],
      "text/plain": [
       "bin  | polarity density\n",
       "0    | 0.177711\n",
       "2    | 0.322289\n",
       "4    | 0"
      ]
     },
     "execution_count": 62,
     "metadata": {},
     "output_type": "execute_result"
    }
   ],
   "source": [
    "twitter_data.bin(select = 'polarity', bins = [0,2,4], density = True)\n",
    "#But sometimes you can get wrong data by the terms you specify so be careful"
   ]
  },
  {
   "cell_type": "markdown",
   "metadata": {},
   "source": [
    "## Visualization\n",
    "\n",
    "### For Visualization, we'll go back to the NOAA Dataset because it is more numerical\n",
    "Lots of these functions have extra parameters that you can call them on in special instances. These are referred to as kwargs and are all optional additional parameters that specify changes to the plot area.\n",
    "(i.e. (kwargs) could be interchangeable with ('go', linewidth = 2, label = 'line1') or just ('go').\n",
    "\n",
    "- .plot(x_values, [labels], overlay = {T/F}, kwargs) : Creates a simple plot with values from labels plotted in relation to those specified as x_values. The Y-values must be numeric data. overlay = True puts multiple lines on the same chart rather than creating separate instances.\n",
    "(kwargs can be found at http://matplotlib.org/api/pyplot_api.html#matplotlib.pyplot.plot)\n",
    "\n",
    "\n",
    "- .bar(column_for_categories=None, select=None, overlay=True, kwargs) : \n",
    "\n",
    "\n",
    "- .barh() :\n",
    "\n",
    "\n",
    "- .hist() :\n",
    "\n",
    "\n",
    "- .pivothist() :\n",
    "\n",
    "\n",
    "- .boxplot() :\n",
    "\n",
    "\n",
    "- .scatter() :"
   ]
  },
  {
   "cell_type": "code",
   "execution_count": 67,
   "metadata": {
    "collapsed": false
   },
   "outputs": [
    {
     "data": {
      "image/png": "[encoded data removed]",
      "text/plain": [
       "<matplotlib.figure.Figure at 0x7fa6eb437978>"
      ]
     },
     "metadata": {},
     "output_type": "display_data"
    }
   ],
   "source": [
    "## Your First Plot!\n",
    "\n",
    "NOAA_data.plot('year','average')"
   ]
  },
  {
   "cell_type": "code",
   "execution_count": 71,
   "metadata": {
    "collapsed": false
   },
   "outputs": [
    {
     "data": {
      "image/png": "[encoded data removed]",
      "text/plain": [
       "<matplotlib.figure.Figure at 0x7fa6e90dcc18>"
      ]
     },
     "metadata": {},
     "output_type": "display_data"
    }
   ],
   "source": [
    "## This plot is slightly more complex, but as you can see it just plots average and trend relative to year by decimal date.\n",
    "\n",
    "NOAA_data.plot('decimal_date', ['average', 'trend'], overlay = True )"
   ]
  },
  {
   "cell_type": "code",
   "execution_count": null,
   "metadata": {
    "collapsed": true
   },
   "outputs": [],
   "source": []
  }
 ],
 "metadata": {
  "kernelspec": {
   "display_name": "Python 3",
   "language": "python",
   "name": "python3"
  },
  "language_info": {
   "codemirror_mode": {
    "name": "ipython",
    "version": 3
   },
   "file_extension": ".py",
   "mimetype": "text/x-python",
   "name": "python",
   "nbconvert_exporter": "python",
   "pygments_lexer": "ipython3",
   "version": "3.4.4"
  }
 },
 "nbformat": 4,
 "nbformat_minor": 0
}
